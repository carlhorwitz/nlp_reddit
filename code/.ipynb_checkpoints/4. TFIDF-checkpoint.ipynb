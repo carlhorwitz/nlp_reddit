{
 "cells": [
  {
   "cell_type": "code",
   "execution_count": 1,
   "id": "fca77628-4b8e-4e88-a341-f5f349af3011",
   "metadata": {},
   "outputs": [],
   "source": [
    "#imports\n",
    "\n",
    "import requests\n",
    "import pandas as pd\n",
    "import seaborn as sns\n",
    "\n",
    "from sklearn.model_selection import train_test_split, GridSearchCV, cross_val_score\n",
    "from sklearn.feature_extraction.text import TfidfVectorizer\n",
    "\n",
    "from sklearn.pipeline import Pipeline\n",
    "from sklearn.naive_bayes import MultinomialNB\n",
    "\n",
    "from sklearn.metrics import confusion_matrix, plot_confusion_matrix, ConfusionMatrixDisplay\n",
    "\n",
    "import matplotlib.pyplot as plt"
   ]
  },
  {
   "cell_type": "code",
   "execution_count": 2,
   "id": "4da2c270-6680-46fa-bac0-fb2a86a7e88b",
   "metadata": {},
   "outputs": [
    {
     "data": {
      "text/html": [
       "<div>\n",
       "<style scoped>\n",
       "    .dataframe tbody tr th:only-of-type {\n",
       "        vertical-align: middle;\n",
       "    }\n",
       "\n",
       "    .dataframe tbody tr th {\n",
       "        vertical-align: top;\n",
       "    }\n",
       "\n",
       "    .dataframe thead th {\n",
       "        text-align: right;\n",
       "    }\n",
       "</style>\n",
       "<table border=\"1\" class=\"dataframe\">\n",
       "  <thead>\n",
       "    <tr style=\"text-align: right;\">\n",
       "      <th></th>\n",
       "      <th>Unnamed: 0</th>\n",
       "      <th>subreddit</th>\n",
       "      <th>text</th>\n",
       "      <th>tokenized</th>\n",
       "      <th>no_stopwords</th>\n",
       "      <th>stemmed</th>\n",
       "      <th>length</th>\n",
       "    </tr>\n",
       "  </thead>\n",
       "  <tbody>\n",
       "    <tr>\n",
       "      <th>0</th>\n",
       "      <td>0</td>\n",
       "      <td>1</td>\n",
       "      <td>Gear Advise: Freestyle 152 ?</td>\n",
       "      <td>['gear', 'advise', 'freestyle', '152']</td>\n",
       "      <td>gear advise freestyle 152</td>\n",
       "      <td>gear advis freestyl 152</td>\n",
       "      <td>5</td>\n",
       "    </tr>\n",
       "    <tr>\n",
       "      <th>1</th>\n",
       "      <td>1</td>\n",
       "      <td>1</td>\n",
       "      <td>Lamar ad with Cardiel’s 540 in a full on bliz...</td>\n",
       "      <td>['lamar', 'ad', 'with', 'cardiel', 's', '540',...</td>\n",
       "      <td>lamar ad cardiel 540 full blizzard</td>\n",
       "      <td>lamar ad with cardiel s 540 in a full on blizzard</td>\n",
       "      <td>10</td>\n",
       "    </tr>\n",
       "    <tr>\n",
       "      <th>2</th>\n",
       "      <td>2</td>\n",
       "      <td>1</td>\n",
       "      <td>Can anyone help me choose the best Arbor snow...</td>\n",
       "      <td>['can', 'anyone', 'help', 'me', 'choose', 'the...</td>\n",
       "      <td>anyone help choose best arbor mogul glade riding</td>\n",
       "      <td>can anyon help me choos the best arbor snowboa...</td>\n",
       "      <td>12</td>\n",
       "    </tr>\n",
       "    <tr>\n",
       "      <th>3</th>\n",
       "      <td>3</td>\n",
       "      <td>1</td>\n",
       "      <td>Landed my first Bs3 any tips to make it look ...</td>\n",
       "      <td>['landed', 'my', 'first', 'bs3', 'any', 'tips'...</td>\n",
       "      <td>landed first bs3 tips make look smoother</td>\n",
       "      <td>land my first bs3 ani tip to make it look smoo...</td>\n",
       "      <td>11</td>\n",
       "    </tr>\n",
       "    <tr>\n",
       "      <th>4</th>\n",
       "      <td>4</td>\n",
       "      <td>1</td>\n",
       "      <td>East coast resorts with community housing???</td>\n",
       "      <td>['east', 'coast', 'resorts', 'with', 'communit...</td>\n",
       "      <td>east coast resorts community housing</td>\n",
       "      <td>east coast resort with commun hous</td>\n",
       "      <td>6</td>\n",
       "    </tr>\n",
       "  </tbody>\n",
       "</table>\n",
       "</div>"
      ],
      "text/plain": [
       "   Unnamed: 0  subreddit                                               text  \\\n",
       "0           0          1                       Gear Advise: Freestyle 152 ?   \n",
       "1           1          1   Lamar ad with Cardiel’s 540 in a full on bliz...   \n",
       "2           2          1   Can anyone help me choose the best Arbor snow...   \n",
       "3           3          1   Landed my first Bs3 any tips to make it look ...   \n",
       "4           4          1       East coast resorts with community housing???   \n",
       "\n",
       "                                           tokenized  \\\n",
       "0             ['gear', 'advise', 'freestyle', '152']   \n",
       "1  ['lamar', 'ad', 'with', 'cardiel', 's', '540',...   \n",
       "2  ['can', 'anyone', 'help', 'me', 'choose', 'the...   \n",
       "3  ['landed', 'my', 'first', 'bs3', 'any', 'tips'...   \n",
       "4  ['east', 'coast', 'resorts', 'with', 'communit...   \n",
       "\n",
       "                                       no_stopwords  \\\n",
       "0                         gear advise freestyle 152   \n",
       "1                lamar ad cardiel 540 full blizzard   \n",
       "2  anyone help choose best arbor mogul glade riding   \n",
       "3          landed first bs3 tips make look smoother   \n",
       "4              east coast resorts community housing   \n",
       "\n",
       "                                             stemmed  length  \n",
       "0                            gear advis freestyl 152       5  \n",
       "1  lamar ad with cardiel s 540 in a full on blizzard      10  \n",
       "2  can anyon help me choos the best arbor snowboa...      12  \n",
       "3  land my first bs3 ani tip to make it look smoo...      11  \n",
       "4                 east coast resort with commun hous       6  "
      ]
     },
     "execution_count": 2,
     "metadata": {},
     "output_type": "execute_result"
    }
   ],
   "source": [
    "df=pd.read_csv('../data/stemmed.csv')\n",
    "df.head()"
   ]
  },
  {
   "cell_type": "code",
   "execution_count": 3,
   "id": "cfd523c3-e03f-4754-a7e6-bdea75ef9c7b",
   "metadata": {},
   "outputs": [
    {
     "data": {
      "text/plain": [
       "(9710, 7)"
      ]
     },
     "execution_count": 3,
     "metadata": {},
     "output_type": "execute_result"
    }
   ],
   "source": [
    "df.shape"
   ]
  },
  {
   "cell_type": "code",
   "execution_count": 4,
   "id": "47c3aa66-5b1e-41b8-9287-84356bf2ed4b",
   "metadata": {},
   "outputs": [
    {
     "data": {
      "text/html": [
       "<div>\n",
       "<style scoped>\n",
       "    .dataframe tbody tr th:only-of-type {\n",
       "        vertical-align: middle;\n",
       "    }\n",
       "\n",
       "    .dataframe tbody tr th {\n",
       "        vertical-align: top;\n",
       "    }\n",
       "\n",
       "    .dataframe thead th {\n",
       "        text-align: right;\n",
       "    }\n",
       "</style>\n",
       "<table border=\"1\" class=\"dataframe\">\n",
       "  <thead>\n",
       "    <tr style=\"text-align: right;\">\n",
       "      <th></th>\n",
       "      <th>subreddit</th>\n",
       "      <th>text</th>\n",
       "      <th>tokenized</th>\n",
       "      <th>no_stopwords</th>\n",
       "      <th>stemmed</th>\n",
       "      <th>length</th>\n",
       "    </tr>\n",
       "  </thead>\n",
       "  <tbody>\n",
       "    <tr>\n",
       "      <th>0</th>\n",
       "      <td>1</td>\n",
       "      <td>Gear Advise: Freestyle 152 ?</td>\n",
       "      <td>['gear', 'advise', 'freestyle', '152']</td>\n",
       "      <td>gear advise freestyle 152</td>\n",
       "      <td>gear advis freestyl 152</td>\n",
       "      <td>5</td>\n",
       "    </tr>\n",
       "    <tr>\n",
       "      <th>1</th>\n",
       "      <td>1</td>\n",
       "      <td>Lamar ad with Cardiel’s 540 in a full on bliz...</td>\n",
       "      <td>['lamar', 'ad', 'with', 'cardiel', 's', '540',...</td>\n",
       "      <td>lamar ad cardiel 540 full blizzard</td>\n",
       "      <td>lamar ad with cardiel s 540 in a full on blizzard</td>\n",
       "      <td>10</td>\n",
       "    </tr>\n",
       "    <tr>\n",
       "      <th>2</th>\n",
       "      <td>1</td>\n",
       "      <td>Can anyone help me choose the best Arbor snow...</td>\n",
       "      <td>['can', 'anyone', 'help', 'me', 'choose', 'the...</td>\n",
       "      <td>anyone help choose best arbor mogul glade riding</td>\n",
       "      <td>can anyon help me choos the best arbor snowboa...</td>\n",
       "      <td>12</td>\n",
       "    </tr>\n",
       "    <tr>\n",
       "      <th>3</th>\n",
       "      <td>1</td>\n",
       "      <td>Landed my first Bs3 any tips to make it look ...</td>\n",
       "      <td>['landed', 'my', 'first', 'bs3', 'any', 'tips'...</td>\n",
       "      <td>landed first bs3 tips make look smoother</td>\n",
       "      <td>land my first bs3 ani tip to make it look smoo...</td>\n",
       "      <td>11</td>\n",
       "    </tr>\n",
       "    <tr>\n",
       "      <th>4</th>\n",
       "      <td>1</td>\n",
       "      <td>East coast resorts with community housing???</td>\n",
       "      <td>['east', 'coast', 'resorts', 'with', 'communit...</td>\n",
       "      <td>east coast resorts community housing</td>\n",
       "      <td>east coast resort with commun hous</td>\n",
       "      <td>6</td>\n",
       "    </tr>\n",
       "  </tbody>\n",
       "</table>\n",
       "</div>"
      ],
      "text/plain": [
       "   subreddit                                               text  \\\n",
       "0          1                       Gear Advise: Freestyle 152 ?   \n",
       "1          1   Lamar ad with Cardiel’s 540 in a full on bliz...   \n",
       "2          1   Can anyone help me choose the best Arbor snow...   \n",
       "3          1   Landed my first Bs3 any tips to make it look ...   \n",
       "4          1       East coast resorts with community housing???   \n",
       "\n",
       "                                           tokenized  \\\n",
       "0             ['gear', 'advise', 'freestyle', '152']   \n",
       "1  ['lamar', 'ad', 'with', 'cardiel', 's', '540',...   \n",
       "2  ['can', 'anyone', 'help', 'me', 'choose', 'the...   \n",
       "3  ['landed', 'my', 'first', 'bs3', 'any', 'tips'...   \n",
       "4  ['east', 'coast', 'resorts', 'with', 'communit...   \n",
       "\n",
       "                                       no_stopwords  \\\n",
       "0                         gear advise freestyle 152   \n",
       "1                lamar ad cardiel 540 full blizzard   \n",
       "2  anyone help choose best arbor mogul glade riding   \n",
       "3          landed first bs3 tips make look smoother   \n",
       "4              east coast resorts community housing   \n",
       "\n",
       "                                             stemmed  length  \n",
       "0                            gear advis freestyl 152       5  \n",
       "1  lamar ad with cardiel s 540 in a full on blizzard      10  \n",
       "2  can anyon help me choos the best arbor snowboa...      12  \n",
       "3  land my first bs3 ani tip to make it look smoo...      11  \n",
       "4                 east coast resort with commun hous       6  "
      ]
     },
     "execution_count": 4,
     "metadata": {},
     "output_type": "execute_result"
    }
   ],
   "source": [
    "df=df.drop(columns='Unnamed: 0')\n",
    "df.head()"
   ]
  },
  {
   "cell_type": "code",
   "execution_count": 5,
   "id": "12e161d7-069d-4a2d-9680-02d41ff7b25f",
   "metadata": {},
   "outputs": [
    {
     "data": {
      "text/plain": [
       "subreddit        0\n",
       "text             0\n",
       "tokenized        0\n",
       "no_stopwords    37\n",
       "stemmed         10\n",
       "length           0\n",
       "dtype: int64"
      ]
     },
     "execution_count": 5,
     "metadata": {},
     "output_type": "execute_result"
    }
   ],
   "source": [
    "df.isna().sum()"
   ]
  },
  {
   "cell_type": "markdown",
   "id": "02fbf3a0-8929-4bb6-af3a-d79c248bb758",
   "metadata": {
    "tags": []
   },
   "source": [
    "# TFIDF on text"
   ]
  },
  {
   "cell_type": "code",
   "execution_count": 6,
   "id": "482e1261-05ee-4d75-a0f1-2ccc064cb56d",
   "metadata": {
    "tags": []
   },
   "outputs": [],
   "source": [
    "X = df['text']\n",
    "y = df['subreddit']"
   ]
  },
  {
   "cell_type": "code",
   "execution_count": 7,
   "id": "0643fcf0-a045-49e3-b863-3b06c1eea664",
   "metadata": {},
   "outputs": [],
   "source": [
    "X_train, X_test, y_train, y_test = train_test_split(X,\n",
    "                                                    y,\n",
    "                                                    random_state=23)"
   ]
  },
  {
   "cell_type": "code",
   "execution_count": 8,
   "id": "91eeea1f-08a5-44da-bc4e-2921196a3380",
   "metadata": {},
   "outputs": [],
   "source": [
    "pipe = Pipeline([\n",
    "    ('tvec', TfidfVectorizer()),\n",
    "    ('nb', MultinomialNB())\n",
    "])"
   ]
  },
  {
   "cell_type": "code",
   "execution_count": 9,
   "id": "4c5b2942-4146-4b3f-a16b-446553186b9a",
   "metadata": {},
   "outputs": [
    {
     "data": {
      "text/plain": [
       "{'memory': None,\n",
       " 'steps': [('tvec', TfidfVectorizer()), ('nb', MultinomialNB())],\n",
       " 'verbose': False,\n",
       " 'tvec': TfidfVectorizer(),\n",
       " 'nb': MultinomialNB(),\n",
       " 'tvec__analyzer': 'word',\n",
       " 'tvec__binary': False,\n",
       " 'tvec__decode_error': 'strict',\n",
       " 'tvec__dtype': numpy.float64,\n",
       " 'tvec__encoding': 'utf-8',\n",
       " 'tvec__input': 'content',\n",
       " 'tvec__lowercase': True,\n",
       " 'tvec__max_df': 1.0,\n",
       " 'tvec__max_features': None,\n",
       " 'tvec__min_df': 1,\n",
       " 'tvec__ngram_range': (1, 1),\n",
       " 'tvec__norm': 'l2',\n",
       " 'tvec__preprocessor': None,\n",
       " 'tvec__smooth_idf': True,\n",
       " 'tvec__stop_words': None,\n",
       " 'tvec__strip_accents': None,\n",
       " 'tvec__sublinear_tf': False,\n",
       " 'tvec__token_pattern': '(?u)\\\\b\\\\w\\\\w+\\\\b',\n",
       " 'tvec__tokenizer': None,\n",
       " 'tvec__use_idf': True,\n",
       " 'tvec__vocabulary': None,\n",
       " 'nb__alpha': 1.0,\n",
       " 'nb__class_prior': None,\n",
       " 'nb__fit_prior': True}"
      ]
     },
     "execution_count": 9,
     "metadata": {},
     "output_type": "execute_result"
    }
   ],
   "source": [
    "pipe.get_params()"
   ]
  },
  {
   "cell_type": "code",
   "execution_count": 10,
   "id": "440427c0-45af-4279-ab28-4569f9cc7430",
   "metadata": {},
   "outputs": [],
   "source": [
    "pipe_params = {\n",
    "    'tvec__max_features': [2_000, 3_000, 4_000, 5_000],\n",
    "    'tvec__min_df': [2, 3],\n",
    "    'tvec__max_df': [.9, .95],\n",
    "    'tvec__ngram_range': [(1, 1), (1, 2)]\n",
    "}"
   ]
  },
  {
   "cell_type": "code",
   "execution_count": 11,
   "id": "2848bec0-fc3f-4b9e-a232-38a2bdaa1ac8",
   "metadata": {},
   "outputs": [],
   "source": [
    "gs = GridSearchCV(pipe, \n",
    "                  param_grid = pipe_params, \n",
    "                  cv = 5) "
   ]
  },
  {
   "cell_type": "code",
   "execution_count": 12,
   "id": "f88964ea-7e28-44d3-9b64-7a2da88bc495",
   "metadata": {},
   "outputs": [
    {
     "data": {
      "text/plain": [
       "GridSearchCV(cv=5,\n",
       "             estimator=Pipeline(steps=[('tvec', TfidfVectorizer()),\n",
       "                                       ('nb', MultinomialNB())]),\n",
       "             param_grid={'tvec__max_df': [0.9, 0.95],\n",
       "                         'tvec__max_features': [2000, 3000, 4000, 5000],\n",
       "                         'tvec__min_df': [2, 3],\n",
       "                         'tvec__ngram_range': [(1, 1), (1, 2)]})"
      ]
     },
     "execution_count": 12,
     "metadata": {},
     "output_type": "execute_result"
    }
   ],
   "source": [
    "gs.fit(X_train, y_train)"
   ]
  },
  {
   "cell_type": "code",
   "execution_count": 13,
   "id": "92709302-6906-43de-9b61-4386025bb596",
   "metadata": {},
   "outputs": [
    {
     "data": {
      "text/plain": [
       "{'tvec__max_df': 0.9,\n",
       " 'tvec__max_features': 5000,\n",
       " 'tvec__min_df': 2,\n",
       " 'tvec__ngram_range': (1, 1)}"
      ]
     },
     "execution_count": 13,
     "metadata": {},
     "output_type": "execute_result"
    }
   ],
   "source": [
    "gs.best_params_"
   ]
  },
  {
   "cell_type": "code",
   "execution_count": 14,
   "id": "4529faa6-1875-4823-be28-84c1d40560a4",
   "metadata": {},
   "outputs": [],
   "source": [
    "# trying again because we were hitting the extreme end of our ranges\n",
    "pipe_params2 = {\n",
    "    'tvec__max_features': [5_000, 6_000, 7_000],\n",
    "    'tvec__min_df': [1, 2],\n",
    "    'tvec__max_df': [.8, .9],\n",
    "    'tvec__ngram_range': [(1, 1)]\n",
    "}"
   ]
  },
  {
   "cell_type": "code",
   "execution_count": 15,
   "id": "aab8a0a3-7522-4ca8-be34-3ed2e75ece0b",
   "metadata": {},
   "outputs": [],
   "source": [
    "gs = GridSearchCV(pipe, \n",
    "                  param_grid = pipe_params2, \n",
    "                  cv = 5) "
   ]
  },
  {
   "cell_type": "code",
   "execution_count": 16,
   "id": "9fb16784-03f4-4568-b8a9-5ea903cd032f",
   "metadata": {},
   "outputs": [
    {
     "data": {
      "text/plain": [
       "GridSearchCV(cv=5,\n",
       "             estimator=Pipeline(steps=[('tvec', TfidfVectorizer()),\n",
       "                                       ('nb', MultinomialNB())]),\n",
       "             param_grid={'tvec__max_df': [0.8, 0.9],\n",
       "                         'tvec__max_features': [5000, 6000, 7000],\n",
       "                         'tvec__min_df': [1, 2],\n",
       "                         'tvec__ngram_range': [(1, 1)]})"
      ]
     },
     "execution_count": 16,
     "metadata": {},
     "output_type": "execute_result"
    }
   ],
   "source": [
    "gs.fit(X_train, y_train)"
   ]
  },
  {
   "cell_type": "code",
   "execution_count": 17,
   "id": "94ee4e5c-8b3b-4827-b7d0-3ec8c8900d4d",
   "metadata": {},
   "outputs": [
    {
     "data": {
      "text/plain": [
       "{'tvec__max_df': 0.8,\n",
       " 'tvec__max_features': 5000,\n",
       " 'tvec__min_df': 1,\n",
       " 'tvec__ngram_range': (1, 1)}"
      ]
     },
     "execution_count": 17,
     "metadata": {},
     "output_type": "execute_result"
    }
   ],
   "source": [
    "gs.best_params_"
   ]
  },
  {
   "cell_type": "code",
   "execution_count": 18,
   "id": "d6305ba9-8e88-4bf3-9682-ae25d7880663",
   "metadata": {},
   "outputs": [
    {
     "data": {
      "text/plain": [
       "0.8625377643504532"
      ]
     },
     "execution_count": 18,
     "metadata": {},
     "output_type": "execute_result"
    }
   ],
   "source": [
    "gs.score(X_train, y_train)"
   ]
  },
  {
   "cell_type": "code",
   "execution_count": 19,
   "id": "bb1398ac-894f-4683-9c8b-42c7b07e2edb",
   "metadata": {},
   "outputs": [
    {
     "data": {
      "text/plain": [
       "0.7722405271828665"
      ]
     },
     "execution_count": 19,
     "metadata": {},
     "output_type": "execute_result"
    }
   ],
   "source": [
    "gs.score(X_test, y_test)"
   ]
  },
  {
   "cell_type": "code",
   "execution_count": 20,
   "id": "b10252bd-ee7f-4561-973c-d2e10398bc27",
   "metadata": {},
   "outputs": [
    {
     "data": {
      "text/plain": [
       "<sklearn.metrics._plot.confusion_matrix.ConfusionMatrixDisplay at 0x7fef131c0f70>"
      ]
     },
     "execution_count": 20,
     "metadata": {},
     "output_type": "execute_result"
    },
    {
     "data": {
      "image/png": "[encoded data removed]",
      "text/plain": [
       "<Figure size 640x480 with 2 Axes>"
      ]
     },
     "metadata": {},
     "output_type": "display_data"
    }
   ],
   "source": [
    "ConfusionMatrixDisplay.from_estimator(gs, X_test, y_test, cmap=\"Blues\")"
   ]
  },
  {
   "cell_type": "code",
   "execution_count": 21,
   "id": "5b14f492-6bc0-41e4-bd3c-99be60a3aeee",
   "metadata": {},
   "outputs": [],
   "source": [
    "preds = gs.predict(X_test)"
   ]
  },
  {
   "cell_type": "code",
   "execution_count": 22,
   "id": "1313e882-8a63-4d69-b69d-9bbc91a85f6d",
   "metadata": {},
   "outputs": [],
   "source": [
    "tn, fp, fn, tp = confusion_matrix(y_test, preds).ravel()"
   ]
  },
  {
   "cell_type": "code",
   "execution_count": 23,
   "id": "8ca8605f-a018-4396-9585-d49321c8cf03",
   "metadata": {},
   "outputs": [
    {
     "name": "stdout",
     "output_type": "stream",
     "text": [
      "Specificity: 0.845766974015088\n",
      "Sensativity: 0.7012145748987855\n",
      "Accuracy: 0.7722405271828665\n",
      "Precision: 0.8247619047619048\n"
     ]
    }
   ],
   "source": [
    "spec = tn / (tn + fp)\n",
    "\n",
    "sens = tp / (tp + fn)\n",
    "\n",
    "acc = (tp+tn) / (tp + tn+ fn+fp)\n",
    "\n",
    "prec = tp/ (tp+fp)\n",
    "\n",
    "print(f'Specificity: {spec}')\n",
    "\n",
    "print(f'Sensativity: {sens}')\n",
    "\n",
    "print(f'Accuracy: {acc}')\n",
    "\n",
    "print(f'Precision: {prec}')"
   ]
  },
  {
   "cell_type": "markdown",
   "id": "2e2f31e8-9486-4386-b86b-74a32ca37632",
   "metadata": {
    "tags": []
   },
   "source": [
    "# TFIDF on No Stopwords\n",
    "(prettier confusion matric)"
   ]
  },
  {
   "cell_type": "code",
   "execution_count": 24,
   "id": "07db4303-bbd1-4869-bf84-34d959a3599e",
   "metadata": {},
   "outputs": [
    {
     "data": {
      "text/plain": [
       "(9710, 6)"
      ]
     },
     "execution_count": 24,
     "metadata": {},
     "output_type": "execute_result"
    }
   ],
   "source": [
    "df.shape"
   ]
  },
  {
   "cell_type": "code",
   "execution_count": 25,
   "id": "484541b6-9b9f-4e2f-a111-67b06f8913aa",
   "metadata": {},
   "outputs": [
    {
     "data": {
      "text/plain": [
       "(9673, 6)"
      ]
     },
     "execution_count": 25,
     "metadata": {},
     "output_type": "execute_result"
    }
   ],
   "source": [
    "df2=df[df['no_stopwords'].notnull()]\n",
    "df2.shape"
   ]
  },
  {
   "cell_type": "code",
   "execution_count": 26,
   "id": "60636f9e-ce8e-4674-bdd8-0ec18f819d09",
   "metadata": {
    "tags": []
   },
   "outputs": [],
   "source": [
    "X = df2['no_stopwords']\n",
    "y = df2['subreddit']"
   ]
  },
  {
   "cell_type": "code",
   "execution_count": 27,
   "id": "a6da43a2-1248-4ddf-b620-2c23f89f45b8",
   "metadata": {},
   "outputs": [],
   "source": [
    "X_train, X_test, y_train, y_test = train_test_split(X,\n",
    "                                                    y,\n",
    "                                                    random_state=23)"
   ]
  },
  {
   "cell_type": "code",
   "execution_count": 28,
   "id": "d8e42896-aafa-4f17-a5f3-43a91eecde6e",
   "metadata": {},
   "outputs": [],
   "source": [
    "pipe = Pipeline([\n",
    "    ('tvec', TfidfVectorizer()),\n",
    "    ('nb', MultinomialNB())\n",
    "])"
   ]
  },
  {
   "cell_type": "code",
   "execution_count": 29,
   "id": "6776e209-3a3d-4304-be7c-7e823b365ebc",
   "metadata": {},
   "outputs": [],
   "source": [
    "pipe_params = {\n",
    "    'tvec__max_features': [2_000, 3_000, 4_000, 5_000],\n",
    "    'tvec__min_df': [2, 3],\n",
    "    'tvec__max_df': [.9, .95],\n",
    "    'tvec__ngram_range': [(1, 1), (1, 2)]\n",
    "}"
   ]
  },
  {
   "cell_type": "code",
   "execution_count": 30,
   "id": "2ef98020-ce72-42c7-825a-c3f2f4d7599a",
   "metadata": {},
   "outputs": [],
   "source": [
    "gs = GridSearchCV(pipe, \n",
    "                  param_grid = pipe_params, \n",
    "                  cv = 5) "
   ]
  },
  {
   "cell_type": "code",
   "execution_count": 31,
   "id": "c3ab6a05-7592-49e6-b7d8-71ab30a53e7a",
   "metadata": {},
   "outputs": [
    {
     "data": {
      "text/plain": [
       "GridSearchCV(cv=5,\n",
       "             estimator=Pipeline(steps=[('tvec', TfidfVectorizer()),\n",
       "                                       ('nb', MultinomialNB())]),\n",
       "             param_grid={'tvec__max_df': [0.9, 0.95],\n",
       "                         'tvec__max_features': [2000, 3000, 4000, 5000],\n",
       "                         'tvec__min_df': [2, 3],\n",
       "                         'tvec__ngram_range': [(1, 1), (1, 2)]})"
      ]
     },
     "execution_count": 31,
     "metadata": {},
     "output_type": "execute_result"
    }
   ],
   "source": [
    "gs.fit(X_train, y_train)"
   ]
  },
  {
   "cell_type": "code",
   "execution_count": 32,
   "id": "1ac4ce0e-867a-4db9-a418-a17be35a9d0d",
   "metadata": {},
   "outputs": [
    {
     "data": {
      "text/plain": [
       "{'tvec__max_df': 0.9,\n",
       " 'tvec__max_features': 5000,\n",
       " 'tvec__min_df': 2,\n",
       " 'tvec__ngram_range': (1, 1)}"
      ]
     },
     "execution_count": 32,
     "metadata": {},
     "output_type": "execute_result"
    }
   ],
   "source": [
    "gs.best_params_"
   ]
  },
  {
   "cell_type": "code",
   "execution_count": 33,
   "id": "5a544cd3-da34-43db-8198-28ad7d052697",
   "metadata": {},
   "outputs": [],
   "source": [
    "# trying again because we were hitting the extreme end of our ranges\n",
    "pipe_params2 = {\n",
    "    'tvec__max_features': [4_000],\n",
    "    'tvec__min_df': [1, 2],\n",
    "    'tvec__max_df': [.7, .8, .9],\n",
    "    'tvec__ngram_range': [(1, 2)]\n",
    "}"
   ]
  },
  {
   "cell_type": "code",
   "execution_count": 34,
   "id": "0890e63f-ac1a-493b-9343-4402318a3cd5",
   "metadata": {},
   "outputs": [],
   "source": [
    "gs = GridSearchCV(pipe, \n",
    "                  param_grid = pipe_params2, \n",
    "                  cv = 5) "
   ]
  },
  {
   "cell_type": "code",
   "execution_count": 35,
   "id": "4ef954a8-8b79-4b64-ac26-2df7d84e2199",
   "metadata": {},
   "outputs": [
    {
     "data": {
      "text/plain": [
       "GridSearchCV(cv=5,\n",
       "             estimator=Pipeline(steps=[('tvec', TfidfVectorizer()),\n",
       "                                       ('nb', MultinomialNB())]),\n",
       "             param_grid={'tvec__max_df': [0.7, 0.8, 0.9],\n",
       "                         'tvec__max_features': [4000], 'tvec__min_df': [1, 2],\n",
       "                         'tvec__ngram_range': [(1, 2)]})"
      ]
     },
     "execution_count": 35,
     "metadata": {},
     "output_type": "execute_result"
    }
   ],
   "source": [
    "gs.fit(X_train, y_train)"
   ]
  },
  {
   "cell_type": "code",
   "execution_count": 36,
   "id": "7708aaea-e73b-4330-9b36-de2b76c5bd4c",
   "metadata": {},
   "outputs": [
    {
     "data": {
      "text/plain": [
       "{'tvec__max_df': 0.7,\n",
       " 'tvec__max_features': 4000,\n",
       " 'tvec__min_df': 1,\n",
       " 'tvec__ngram_range': (1, 2)}"
      ]
     },
     "execution_count": 36,
     "metadata": {},
     "output_type": "execute_result"
    }
   ],
   "source": [
    "gs.best_params_"
   ]
  },
  {
   "cell_type": "code",
   "execution_count": 37,
   "id": "83b06b97-aa8c-4d1a-baeb-c48ff3fced83",
   "metadata": {},
   "outputs": [
    {
     "data": {
      "text/plain": [
       "0.792803970223325"
      ]
     },
     "execution_count": 37,
     "metadata": {},
     "output_type": "execute_result"
    }
   ],
   "source": [
    "gs.score(X_train, y_train)"
   ]
  },
  {
   "cell_type": "code",
   "execution_count": 38,
   "id": "487c36fc-5ced-4d19-ab50-e913447d1351",
   "metadata": {},
   "outputs": [
    {
     "data": {
      "text/plain": [
       "0.6676312525837123"
      ]
     },
     "execution_count": 38,
     "metadata": {},
     "output_type": "execute_result"
    }
   ],
   "source": [
    "gs.score(X_test, y_test)"
   ]
  },
  {
   "cell_type": "code",
   "execution_count": 39,
   "id": "f2a7ddb1-8512-4b1c-80db-0d50290bc9f6",
   "metadata": {},
   "outputs": [
    {
     "name": "stdout",
     "output_type": "stream",
     "text": [
      "Training Accuracy: 0.792803970223325\n",
      "Testing Accuracy: 0.6676312525837123\n"
     ]
    }
   ],
   "source": [
    "print(f\"Training Accuracy: {gs.score(X_train, y_train)}\")\n",
    "print(f\"Testing Accuracy: {gs.score(X_test, y_test)}\")"
   ]
  },
  {
   "cell_type": "code",
   "execution_count": 40,
   "id": "279d61f3-00a0-432e-ac38-02368a7dc464",
   "metadata": {},
   "outputs": [
    {
     "data": {
      "text/plain": [
       "<sklearn.metrics._plot.confusion_matrix.ConfusionMatrixDisplay at 0x7fef1283ac70>"
      ]
     },
     "execution_count": 40,
     "metadata": {},
     "output_type": "execute_result"
    },
    {
     "data": {
      "image/png": "[encoded data removed]",
      "text/plain": [
       "<Figure size 640x480 with 2 Axes>"
      ]
     },
     "metadata": {},
     "output_type": "display_data"
    }
   ],
   "source": [
    "ConfusionMatrixDisplay.from_estimator(gs, X_test, y_test, cmap=\"Blues\", display_labels=('Skiing', 'Snowboarding'))"
   ]
  },
  {
   "cell_type": "code",
   "execution_count": 41,
   "id": "ed5c50eb-7589-4403-829c-376f011aa9bb",
   "metadata": {},
   "outputs": [],
   "source": [
    "preds = gs.predict(X_test)"
   ]
  },
  {
   "cell_type": "code",
   "execution_count": 42,
   "id": "0b138ab7-0224-469b-b77e-2ee87a2d714d",
   "metadata": {},
   "outputs": [],
   "source": [
    "tn, fp, fn, tp = confusion_matrix(y_test, preds).ravel()"
   ]
  },
  {
   "cell_type": "code",
   "execution_count": 43,
   "id": "85457454-b57a-47b1-b2c0-11027a66dee2",
   "metadata": {},
   "outputs": [
    {
     "name": "stdout",
     "output_type": "stream",
     "text": [
      "Specificity: 0.7293540474243663\n",
      "Sensativity: 0.6045150501672241\n",
      "Accuracy: 0.6676312525837123\n",
      "Precision: 0.6859582542694497\n"
     ]
    }
   ],
   "source": [
    "spec = tn / (tn + fp)\n",
    "\n",
    "sens = tp / (tp + fn)\n",
    "\n",
    "acc = (tp+tn) / (tp + tn+ fn+fp)\n",
    "\n",
    "prec = tp/ (tp+fp)\n",
    "\n",
    "print(f'Specificity: {spec}')\n",
    "\n",
    "print(f'Sensativity: {sens}')\n",
    "\n",
    "print(f'Accuracy: {acc}')\n",
    "\n",
    "print(f'Precision: {prec}')\n"
   ]
  },
  {
   "cell_type": "code",
   "execution_count": 44,
   "id": "331a6490-7eb7-4ce3-9a45-d4e8d765757d",
   "metadata": {},
   "outputs": [
    {
     "name": "stdout",
     "output_type": "stream",
     "text": [
      "Confusion Matrix\n",
      "                  Predicted Ski  Predicted Snowboard\n",
      "Actual Ski                  892                  331\n",
      "Actual Snowboard            473                  723\n"
     ]
    }
   ],
   "source": [
    "preds = gs.best_estimator_.predict(X_test)\n",
    "print('Confusion Matrix')\n",
    "print(pd.DataFrame(confusion_matrix(y_test, preds), index=['Actual Ski', 'Actual Snowboard'], columns=['Predicted Ski', 'Predicted Snowboard']))\n",
    "tn, fp, fn, tp = confusion_matrix(y_test, preds).ravel()\n"
   ]
  },
  {
   "cell_type": "code",
   "execution_count": 45,
   "id": "413a327c-91e1-494d-af7f-e58be39e1fcb",
   "metadata": {},
   "outputs": [
    {
     "data": {
      "text/plain": [
       "892"
      ]
     },
     "execution_count": 45,
     "metadata": {},
     "output_type": "execute_result"
    }
   ],
   "source": [
    "tn"
   ]
  },
  {
   "cell_type": "code",
   "execution_count": 46,
   "id": "d39e7582-893e-49b0-b5ea-55c02bee9bd4",
   "metadata": {},
   "outputs": [
    {
     "name": "stdout",
     "output_type": "stream",
     "text": [
      "True Negatives: 892\n",
      "False Positives: 331 \n",
      "False Negatives: 473\n",
      "True Positives: 723\n"
     ]
    }
   ],
   "source": [
    "# Print Number of TN, FP, FN, TP\n",
    "lr_cvec_tn = tn\n",
    "print(f\"True Negatives: {tn}\")\n",
    "lr_cvec_fp = fp\n",
    "print(f\"False Positives: {fp} \")\n",
    "lr_cvec_fn = fn\n",
    "print(f\"False Negatives: {fn}\")\n",
    "lr_cvec_tp = tp\n",
    "print(f\"True Positives: {tp}\")\n",
    "\n"
   ]
  },
  {
   "cell_type": "markdown",
   "id": "b824aef4-df59-4307-9b3f-a2c7f7a4df81",
   "metadata": {
    "tags": []
   },
   "source": [
    "# Feature importance on TFIDF no stopwords"
   ]
  },
  {
   "cell_type": "code",
   "execution_count": 47,
   "id": "d2f225fe-7a8a-4779-8daa-ca09501853d7",
   "metadata": {},
   "outputs": [
    {
     "name": "stderr",
     "output_type": "stream",
     "text": [
      "/opt/anaconda3/lib/python3.9/site-packages/sklearn/utils/deprecation.py:87: FutureWarning: Function get_feature_names is deprecated; get_feature_names is deprecated in 1.0 and will be removed in 1.2. Please use get_feature_names_out instead.\n",
      "  warnings.warn(msg, category=FutureWarning)\n"
     ]
    }
   ],
   "source": [
    "feature_names = gs.best_estimator_.named_steps['tvec'].get_feature_names()"
   ]
  },
  {
   "cell_type": "code",
   "execution_count": 48,
   "id": "be9e41b0-3fa7-4e24-9dfb-f3e25688f605",
   "metadata": {},
   "outputs": [
    {
     "name": "stderr",
     "output_type": "stream",
     "text": [
      "/opt/anaconda3/lib/python3.9/site-packages/sklearn/utils/deprecation.py:103: FutureWarning: Attribute `coef_` was deprecated in version 0.24 and will be removed in 1.1 (renaming of 0.26).\n",
      "  warnings.warn(msg, category=FutureWarning)\n"
     ]
    }
   ],
   "source": [
    "coef= gs.best_estimator_.named_steps['nb'].coef_.flatten()"
   ]
  },
  {
   "cell_type": "code",
   "execution_count": 49,
   "id": "c9e66ba4-432a-45c0-83ce-5386b7afaaab",
   "metadata": {},
   "outputs": [],
   "source": [
    "#Let's make it look nice!\n",
    "df_plot = pd.DataFrame({'feature_names':feature_names,\n",
    "                   'feature_importance':coef})\n",
    "\n",
    "#Sort the DataFrame in order decreasing feature importance\n",
    "df_plot.sort_values(by=['feature_importance'], ascending=False,inplace=True)\n",
    "df_plothead=df_plot.head(15).copy()"
   ]
  },
  {
   "cell_type": "code",
   "execution_count": 50,
   "id": "76756759-d7eb-4671-9a0c-748fc4f93285",
   "metadata": {},
   "outputs": [
    {
     "data": {
      "text/html": [
       "<div>\n",
       "<style scoped>\n",
       "    .dataframe tbody tr th:only-of-type {\n",
       "        vertical-align: middle;\n",
       "    }\n",
       "\n",
       "    .dataframe tbody tr th {\n",
       "        vertical-align: top;\n",
       "    }\n",
       "\n",
       "    .dataframe thead th {\n",
       "        text-align: right;\n",
       "    }\n",
       "</style>\n",
       "<table border=\"1\" class=\"dataframe\">\n",
       "  <thead>\n",
       "    <tr style=\"text-align: right;\">\n",
       "      <th></th>\n",
       "      <th>feature_names</th>\n",
       "      <th>feature_importance</th>\n",
       "    </tr>\n",
       "  </thead>\n",
       "  <tbody>\n",
       "    <tr>\n",
       "      <th>1356</th>\n",
       "      <td>first</td>\n",
       "      <td>-5.301282</td>\n",
       "    </tr>\n",
       "    <tr>\n",
       "      <th>2378</th>\n",
       "      <td>new</td>\n",
       "      <td>-5.310566</td>\n",
       "    </tr>\n",
       "    <tr>\n",
       "      <th>1683</th>\n",
       "      <td>help</td>\n",
       "      <td>-5.519522</td>\n",
       "    </tr>\n",
       "    <tr>\n",
       "      <th>541</th>\n",
       "      <td>bindings</td>\n",
       "      <td>-5.598166</td>\n",
       "    </tr>\n",
       "    <tr>\n",
       "      <th>677</th>\n",
       "      <td>burton</td>\n",
       "      <td>-5.631870</td>\n",
       "    </tr>\n",
       "    <tr>\n",
       "      <th>305</th>\n",
       "      <td>anyone</td>\n",
       "      <td>-5.746042</td>\n",
       "    </tr>\n",
       "    <tr>\n",
       "      <th>606</th>\n",
       "      <td>boots</td>\n",
       "      <td>-5.764196</td>\n",
       "    </tr>\n",
       "    <tr>\n",
       "      <th>1015</th>\n",
       "      <td>day</td>\n",
       "      <td>-5.801415</td>\n",
       "    </tr>\n",
       "    <tr>\n",
       "      <th>2113</th>\n",
       "      <td>looking</td>\n",
       "      <td>-5.833945</td>\n",
       "    </tr>\n",
       "    <tr>\n",
       "      <th>1499</th>\n",
       "      <td>get</td>\n",
       "      <td>-5.856824</td>\n",
       "    </tr>\n",
       "    <tr>\n",
       "      <th>2913</th>\n",
       "      <td>riding</td>\n",
       "      <td>-5.860677</td>\n",
       "    </tr>\n",
       "    <tr>\n",
       "      <th>210</th>\n",
       "      <td>advice</td>\n",
       "      <td>-5.861370</td>\n",
       "    </tr>\n",
       "    <tr>\n",
       "      <th>2355</th>\n",
       "      <td>need</td>\n",
       "      <td>-5.865507</td>\n",
       "    </tr>\n",
       "    <tr>\n",
       "      <th>3531</th>\n",
       "      <td>time</td>\n",
       "      <td>-5.898002</td>\n",
       "    </tr>\n",
       "    <tr>\n",
       "      <th>2738</th>\n",
       "      <td>question</td>\n",
       "      <td>-5.899892</td>\n",
       "    </tr>\n",
       "  </tbody>\n",
       "</table>\n",
       "</div>"
      ],
      "text/plain": [
       "     feature_names  feature_importance\n",
       "1356         first           -5.301282\n",
       "2378           new           -5.310566\n",
       "1683          help           -5.519522\n",
       "541       bindings           -5.598166\n",
       "677         burton           -5.631870\n",
       "305         anyone           -5.746042\n",
       "606          boots           -5.764196\n",
       "1015           day           -5.801415\n",
       "2113       looking           -5.833945\n",
       "1499           get           -5.856824\n",
       "2913        riding           -5.860677\n",
       "210         advice           -5.861370\n",
       "2355          need           -5.865507\n",
       "3531          time           -5.898002\n",
       "2738      question           -5.899892"
      ]
     },
     "execution_count": 50,
     "metadata": {},
     "output_type": "execute_result"
    }
   ],
   "source": [
    "df_plothead"
   ]
  },
  {
   "cell_type": "code",
   "execution_count": 51,
   "id": "1b6a7a34-ad1a-4ac2-9e01-a6d1b154625b",
   "metadata": {},
   "outputs": [
    {
     "data": {
      "text/plain": [
       "<AxesSubplot:xlabel='feature_importance', ylabel='feature_names'>"
      ]
     },
     "execution_count": 51,
     "metadata": {},
     "output_type": "execute_result"
    },
    {
     "data": {
      "image/png": "[encoded data removed]",
      "text/plain": [
       "<Figure size 640x480 with 1 Axes>"
      ]
     },
     "metadata": {},
     "output_type": "display_data"
    }
   ],
   "source": [
    "sns.barplot(x= df_plothead['feature_importance'], y=df_plothead['feature_names'])"
   ]
  },
  {
   "cell_type": "markdown",
   "id": "bdb54ba0-11be-472d-8732-dd61e09ff0f4",
   "metadata": {
    "tags": []
   },
   "source": [
    "# TFIDF on stemmed"
   ]
  },
  {
   "cell_type": "code",
   "execution_count": 52,
   "id": "055674ee-689e-4051-a500-4f4132963210",
   "metadata": {},
   "outputs": [
    {
     "data": {
      "text/plain": [
       "(9700, 6)"
      ]
     },
     "execution_count": 52,
     "metadata": {},
     "output_type": "execute_result"
    }
   ],
   "source": [
    "df3=df[df['stemmed'].notnull()]\n",
    "df3.shape"
   ]
  },
  {
   "cell_type": "code",
   "execution_count": 53,
   "id": "0aa70415-a77a-4fa3-87ee-7b312235ec68",
   "metadata": {
    "tags": []
   },
   "outputs": [],
   "source": [
    "X = df3['stemmed']\n",
    "y = df3['subreddit']"
   ]
  },
  {
   "cell_type": "code",
   "execution_count": 54,
   "id": "5178c6a4-6f6f-4711-8545-4d825b41acf7",
   "metadata": {},
   "outputs": [],
   "source": [
    "X_train, X_test, y_train, y_test = train_test_split(X,\n",
    "                                                    y,\n",
    "                                                    random_state=23)"
   ]
  },
  {
   "cell_type": "code",
   "execution_count": 55,
   "id": "4e7acbed-8e36-4994-9bb2-cb8c69c63500",
   "metadata": {},
   "outputs": [],
   "source": [
    "pipe = Pipeline([\n",
    "    ('tvec', TfidfVectorizer()),\n",
    "    ('nb', MultinomialNB())\n",
    "])"
   ]
  },
  {
   "cell_type": "code",
   "execution_count": 56,
   "id": "141ec127-3092-46b1-863d-f0006cc14524",
   "metadata": {},
   "outputs": [],
   "source": [
    "pipe_params = {\n",
    "    'tvec__max_features': [2_000, 3_000, 4_000, 5_000],\n",
    "    'tvec__min_df': [2, 3],\n",
    "    'tvec__max_df': [.9, .95],\n",
    "    'tvec__ngram_range': [(1, 1), (1, 2)]\n",
    "}"
   ]
  },
  {
   "cell_type": "code",
   "execution_count": 57,
   "id": "5fb70f35-ffaa-4e12-82da-5b309d6498da",
   "metadata": {},
   "outputs": [],
   "source": [
    "gs = GridSearchCV(pipe, \n",
    "                  param_grid = pipe_params, \n",
    "                  cv = 5) "
   ]
  },
  {
   "cell_type": "code",
   "execution_count": 58,
   "id": "54951655-58c3-4136-85a6-38fadeda3953",
   "metadata": {},
   "outputs": [
    {
     "data": {
      "text/plain": [
       "GridSearchCV(cv=5,\n",
       "             estimator=Pipeline(steps=[('tvec', TfidfVectorizer()),\n",
       "                                       ('nb', MultinomialNB())]),\n",
       "             param_grid={'tvec__max_df': [0.9, 0.95],\n",
       "                         'tvec__max_features': [2000, 3000, 4000, 5000],\n",
       "                         'tvec__min_df': [2, 3],\n",
       "                         'tvec__ngram_range': [(1, 1), (1, 2)]})"
      ]
     },
     "execution_count": 58,
     "metadata": {},
     "output_type": "execute_result"
    }
   ],
   "source": [
    "gs.fit(X_train, y_train)"
   ]
  },
  {
   "cell_type": "code",
   "execution_count": 59,
   "id": "4566fe71-6f8b-48b3-a57a-2b77edee0529",
   "metadata": {},
   "outputs": [
    {
     "data": {
      "text/plain": [
       "{'tvec__max_df': 0.9,\n",
       " 'tvec__max_features': 5000,\n",
       " 'tvec__min_df': 3,\n",
       " 'tvec__ngram_range': (1, 2)}"
      ]
     },
     "execution_count": 59,
     "metadata": {},
     "output_type": "execute_result"
    }
   ],
   "source": [
    "gs.best_params_"
   ]
  },
  {
   "cell_type": "code",
   "execution_count": 60,
   "id": "a4169053-0bd9-40e1-98c5-963e5036d146",
   "metadata": {},
   "outputs": [],
   "source": [
    "# trying again because we were hitting the extreme end of our ranges\n",
    "pipe_params2 = {\n",
    "    'tvec__max_features': [5_000, 6_000, 7_000],\n",
    "    'tvec__min_df': [1,2],\n",
    "    'tvec__max_df': [.8, .9],\n",
    "    'tvec__ngram_range': [(1, 2)]\n",
    "}"
   ]
  },
  {
   "cell_type": "code",
   "execution_count": 61,
   "id": "91ecb720-f919-41d6-93e3-8abefa7da510",
   "metadata": {},
   "outputs": [],
   "source": [
    "gs = GridSearchCV(pipe, \n",
    "                  param_grid = pipe_params2, \n",
    "                  cv = 5) "
   ]
  },
  {
   "cell_type": "code",
   "execution_count": 62,
   "id": "1e87289e-a623-41fe-98bf-69974c5d5b66",
   "metadata": {},
   "outputs": [
    {
     "data": {
      "text/plain": [
       "GridSearchCV(cv=5,\n",
       "             estimator=Pipeline(steps=[('tvec', TfidfVectorizer()),\n",
       "                                       ('nb', MultinomialNB())]),\n",
       "             param_grid={'tvec__max_df': [0.8, 0.9],\n",
       "                         'tvec__max_features': [5000, 6000, 7000],\n",
       "                         'tvec__min_df': [1, 2],\n",
       "                         'tvec__ngram_range': [(1, 2)]})"
      ]
     },
     "execution_count": 62,
     "metadata": {},
     "output_type": "execute_result"
    }
   ],
   "source": [
    "gs.fit(X_train, y_train)"
   ]
  },
  {
   "cell_type": "code",
   "execution_count": 63,
   "id": "081a59ce-4491-429b-8426-2801e01d546a",
   "metadata": {},
   "outputs": [
    {
     "data": {
      "text/plain": [
       "{'tvec__max_df': 0.8,\n",
       " 'tvec__max_features': 7000,\n",
       " 'tvec__min_df': 1,\n",
       " 'tvec__ngram_range': (1, 2)}"
      ]
     },
     "execution_count": 63,
     "metadata": {},
     "output_type": "execute_result"
    }
   ],
   "source": [
    "gs.best_params_"
   ]
  },
  {
   "cell_type": "code",
   "execution_count": 64,
   "id": "4b355266-d2db-4319-a93a-15c6e9a3bc97",
   "metadata": {},
   "outputs": [
    {
     "data": {
      "text/plain": [
       "0.8600687285223367"
      ]
     },
     "execution_count": 64,
     "metadata": {},
     "output_type": "execute_result"
    }
   ],
   "source": [
    "gs.score(X_train, y_train)"
   ]
  },
  {
   "cell_type": "code",
   "execution_count": 65,
   "id": "9108aef3-c8e8-4b82-a8d3-18766da8d28b",
   "metadata": {},
   "outputs": [
    {
     "data": {
      "text/plain": [
       "0.770721649484536"
      ]
     },
     "execution_count": 65,
     "metadata": {},
     "output_type": "execute_result"
    }
   ],
   "source": [
    "gs.score(X_test, y_test)"
   ]
  },
  {
   "cell_type": "code",
   "execution_count": 66,
   "id": "fe36d882-20a0-4f56-8ce1-ab117aa3b13d",
   "metadata": {},
   "outputs": [
    {
     "data": {
      "text/plain": [
       "<sklearn.metrics._plot.confusion_matrix.ConfusionMatrixDisplay at 0x7fef128acdf0>"
      ]
     },
     "execution_count": 66,
     "metadata": {},
     "output_type": "execute_result"
    },
    {
     "data": {
      "image/png": "[encoded data removed]",
      "text/plain": [
       "<Figure size 640x480 with 2 Axes>"
      ]
     },
     "metadata": {},
     "output_type": "display_data"
    }
   ],
   "source": [
    "ConfusionMatrixDisplay.from_estimator(gs, X_test, y_test, cmap=\"Blues\")"
   ]
  },
  {
   "cell_type": "code",
   "execution_count": 67,
   "id": "6be7074d-8601-41e5-bae9-0827db6c3f22",
   "metadata": {},
   "outputs": [],
   "source": [
    "preds = gs.predict(X_test)"
   ]
  },
  {
   "cell_type": "code",
   "execution_count": 68,
   "id": "ff9d2280-f375-454e-a46c-bcb739dd7cbd",
   "metadata": {},
   "outputs": [],
   "source": [
    "tn, fp, fn, tp = confusion_matrix(y_test, preds).ravel()"
   ]
  },
  {
   "cell_type": "code",
   "execution_count": 69,
   "id": "da4214aa-ce79-4159-b2d3-71c470343cb8",
   "metadata": {},
   "outputs": [
    {
     "name": "stdout",
     "output_type": "stream",
     "text": [
      "Specificity: 0.8454545454545455\n",
      "Sensativity: 0.6962962962962963\n",
      "Accuracy: 0.770721649484536\n",
      "Precision: 0.818973862536302\n"
     ]
    }
   ],
   "source": [
    "spec = tn / (tn + fp)\n",
    "\n",
    "sens = tp / (tp + fn)\n",
    "\n",
    "acc = (tp+tn) / (tp + tn+ fn+fp)\n",
    "\n",
    "prec = tp/ (tp+fp)\n",
    "\n",
    "print(f'Specificity: {spec}')\n",
    "\n",
    "print(f'Sensativity: {sens}')\n",
    "\n",
    "print(f'Accuracy: {acc}')\n",
    "\n",
    "print(f'Precision: {prec}')"
   ]
  }
 ],
 "metadata": {
  "kernelspec": {
   "display_name": "Python 3 (ipykernel)",
   "language": "python",
   "name": "python3"
  },
  "language_info": {
   "codemirror_mode": {
    "name": "ipython",
    "version": 3
   },
   "file_extension": ".py",
   "mimetype": "text/x-python",
   "name": "python",
   "nbconvert_exporter": "python",
   "pygments_lexer": "ipython3",
   "version": "3.9.13"
  }
 },
 "nbformat": 4,
 "nbformat_minor": 5
}
