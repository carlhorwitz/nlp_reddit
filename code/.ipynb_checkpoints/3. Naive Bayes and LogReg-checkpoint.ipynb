{
 "cells": [
  {
   "cell_type": "code",
   "execution_count": 1,
   "id": "fca77628-4b8e-4e88-a341-f5f349af3011",
   "metadata": {},
   "outputs": [],
   "source": [
    "#imports\n",
    "\n",
    "import requests\n",
    "import pandas as pd\n",
    "import numpy as np\n",
    "import seaborn as sns\n",
    "\n",
    "from sklearn.linear_model import LogisticRegression\n",
    "\n",
    "from sklearn.model_selection import train_test_split, GridSearchCV, cross_val_score\n",
    "from sklearn.feature_extraction.text import CountVectorizer\n",
    "\n",
    "from sklearn.pipeline import Pipeline, FeatureUnion\n",
    "from sklearn.naive_bayes import MultinomialNB\n",
    "\n",
    "from sklearn.metrics import confusion_matrix, plot_confusion_matrix, ConfusionMatrixDisplay\n",
    "\n",
    "import matplotlib.pyplot as plt\n",
    "\n",
    "from sklearn.compose import make_column_transformer, ColumnTransformer\n",
    "\n",
    "from sklearn.preprocessing import StandardScaler\n"
   ]
  },
  {
   "cell_type": "code",
   "execution_count": 2,
   "id": "4da2c270-6680-46fa-bac0-fb2a86a7e88b",
   "metadata": {},
   "outputs": [
    {
     "data": {
      "text/html": [
       "<div>\n",
       "<style scoped>\n",
       "    .dataframe tbody tr th:only-of-type {\n",
       "        vertical-align: middle;\n",
       "    }\n",
       "\n",
       "    .dataframe tbody tr th {\n",
       "        vertical-align: top;\n",
       "    }\n",
       "\n",
       "    .dataframe thead th {\n",
       "        text-align: right;\n",
       "    }\n",
       "</style>\n",
       "<table border=\"1\" class=\"dataframe\">\n",
       "  <thead>\n",
       "    <tr style=\"text-align: right;\">\n",
       "      <th></th>\n",
       "      <th>Unnamed: 0</th>\n",
       "      <th>subreddit</th>\n",
       "      <th>text</th>\n",
       "      <th>tokenized</th>\n",
       "      <th>no_stopwords</th>\n",
       "      <th>stemmed</th>\n",
       "      <th>length</th>\n",
       "    </tr>\n",
       "  </thead>\n",
       "  <tbody>\n",
       "    <tr>\n",
       "      <th>0</th>\n",
       "      <td>0</td>\n",
       "      <td>1</td>\n",
       "      <td>Gear Advise: Freestyle 152 ?</td>\n",
       "      <td>['gear', 'advise', 'freestyle', '152']</td>\n",
       "      <td>gear advise freestyle 152</td>\n",
       "      <td>gear advis freestyl 152</td>\n",
       "      <td>5</td>\n",
       "    </tr>\n",
       "    <tr>\n",
       "      <th>1</th>\n",
       "      <td>1</td>\n",
       "      <td>1</td>\n",
       "      <td>Lamar ad with Cardiel’s 540 in a full on bliz...</td>\n",
       "      <td>['lamar', 'ad', 'with', 'cardiel', 's', '540',...</td>\n",
       "      <td>lamar ad cardiel 540 full blizzard</td>\n",
       "      <td>lamar ad with cardiel s 540 in a full on blizzard</td>\n",
       "      <td>10</td>\n",
       "    </tr>\n",
       "    <tr>\n",
       "      <th>2</th>\n",
       "      <td>2</td>\n",
       "      <td>1</td>\n",
       "      <td>Can anyone help me choose the best Arbor snow...</td>\n",
       "      <td>['can', 'anyone', 'help', 'me', 'choose', 'the...</td>\n",
       "      <td>anyone help choose best arbor mogul glade riding</td>\n",
       "      <td>can anyon help me choos the best arbor snowboa...</td>\n",
       "      <td>12</td>\n",
       "    </tr>\n",
       "    <tr>\n",
       "      <th>3</th>\n",
       "      <td>3</td>\n",
       "      <td>1</td>\n",
       "      <td>Landed my first Bs3 any tips to make it look ...</td>\n",
       "      <td>['landed', 'my', 'first', 'bs3', 'any', 'tips'...</td>\n",
       "      <td>landed first bs3 tips make look smoother</td>\n",
       "      <td>land my first bs3 ani tip to make it look smoo...</td>\n",
       "      <td>11</td>\n",
       "    </tr>\n",
       "    <tr>\n",
       "      <th>4</th>\n",
       "      <td>4</td>\n",
       "      <td>1</td>\n",
       "      <td>East coast resorts with community housing???</td>\n",
       "      <td>['east', 'coast', 'resorts', 'with', 'communit...</td>\n",
       "      <td>east coast resorts community housing</td>\n",
       "      <td>east coast resort with commun hous</td>\n",
       "      <td>6</td>\n",
       "    </tr>\n",
       "  </tbody>\n",
       "</table>\n",
       "</div>"
      ],
      "text/plain": [
       "   Unnamed: 0  subreddit                                               text  \\\n",
       "0           0          1                       Gear Advise: Freestyle 152 ?   \n",
       "1           1          1   Lamar ad with Cardiel’s 540 in a full on bliz...   \n",
       "2           2          1   Can anyone help me choose the best Arbor snow...   \n",
       "3           3          1   Landed my first Bs3 any tips to make it look ...   \n",
       "4           4          1       East coast resorts with community housing???   \n",
       "\n",
       "                                           tokenized  \\\n",
       "0             ['gear', 'advise', 'freestyle', '152']   \n",
       "1  ['lamar', 'ad', 'with', 'cardiel', 's', '540',...   \n",
       "2  ['can', 'anyone', 'help', 'me', 'choose', 'the...   \n",
       "3  ['landed', 'my', 'first', 'bs3', 'any', 'tips'...   \n",
       "4  ['east', 'coast', 'resorts', 'with', 'communit...   \n",
       "\n",
       "                                       no_stopwords  \\\n",
       "0                         gear advise freestyle 152   \n",
       "1                lamar ad cardiel 540 full blizzard   \n",
       "2  anyone help choose best arbor mogul glade riding   \n",
       "3          landed first bs3 tips make look smoother   \n",
       "4              east coast resorts community housing   \n",
       "\n",
       "                                             stemmed  length  \n",
       "0                            gear advis freestyl 152       5  \n",
       "1  lamar ad with cardiel s 540 in a full on blizzard      10  \n",
       "2  can anyon help me choos the best arbor snowboa...      12  \n",
       "3  land my first bs3 ani tip to make it look smoo...      11  \n",
       "4                 east coast resort with commun hous       6  "
      ]
     },
     "execution_count": 2,
     "metadata": {},
     "output_type": "execute_result"
    }
   ],
   "source": [
    "df=pd.read_csv('./data/stemmed.csv')\n",
    "df.head()"
   ]
  },
  {
   "cell_type": "code",
   "execution_count": 3,
   "id": "cfd523c3-e03f-4754-a7e6-bdea75ef9c7b",
   "metadata": {},
   "outputs": [
    {
     "data": {
      "text/plain": [
       "Unnamed: 0       int64\n",
       "subreddit        int64\n",
       "text            object\n",
       "tokenized       object\n",
       "no_stopwords    object\n",
       "stemmed         object\n",
       "length           int64\n",
       "dtype: object"
      ]
     },
     "execution_count": 3,
     "metadata": {},
     "output_type": "execute_result"
    }
   ],
   "source": [
    "df.dtypes"
   ]
  },
  {
   "cell_type": "code",
   "execution_count": 4,
   "id": "47c3aa66-5b1e-41b8-9287-84356bf2ed4b",
   "metadata": {},
   "outputs": [],
   "source": [
    "df=df.drop(columns='Unnamed: 0')\n"
   ]
  },
  {
   "cell_type": "code",
   "execution_count": 5,
   "id": "aaf677b6-5f5e-4ea9-9968-5f9f57776f73",
   "metadata": {},
   "outputs": [
    {
     "data": {
      "text/html": [
       "<div>\n",
       "<style scoped>\n",
       "    .dataframe tbody tr th:only-of-type {\n",
       "        vertical-align: middle;\n",
       "    }\n",
       "\n",
       "    .dataframe tbody tr th {\n",
       "        vertical-align: top;\n",
       "    }\n",
       "\n",
       "    .dataframe thead th {\n",
       "        text-align: right;\n",
       "    }\n",
       "</style>\n",
       "<table border=\"1\" class=\"dataframe\">\n",
       "  <thead>\n",
       "    <tr style=\"text-align: right;\">\n",
       "      <th></th>\n",
       "      <th>subreddit</th>\n",
       "      <th>text</th>\n",
       "      <th>tokenized</th>\n",
       "      <th>no_stopwords</th>\n",
       "      <th>stemmed</th>\n",
       "      <th>length</th>\n",
       "    </tr>\n",
       "  </thead>\n",
       "  <tbody>\n",
       "    <tr>\n",
       "      <th>9705</th>\n",
       "      <td>0</td>\n",
       "      <td>Any form feedback for me? I’ve been skiing sp...</td>\n",
       "      <td>['any', 'form', 'feedback', 'for', 'me', 'i', ...</td>\n",
       "      <td>form feedback sporadically since kid feel pret...</td>\n",
       "      <td>ani form feedback for me i ve been ski sporad ...</td>\n",
       "      <td>47</td>\n",
       "    </tr>\n",
       "    <tr>\n",
       "      <th>9706</th>\n",
       "      <td>0</td>\n",
       "      <td>Snow please!?!</td>\n",
       "      <td>['snow', 'please']</td>\n",
       "      <td>snow please</td>\n",
       "      <td>snow pleas</td>\n",
       "      <td>2</td>\n",
       "    </tr>\n",
       "    <tr>\n",
       "      <th>9707</th>\n",
       "      <td>0</td>\n",
       "      <td>AT boot/Bindings?</td>\n",
       "      <td>['at', 'boot', 'bindings']</td>\n",
       "      <td>boot bindings</td>\n",
       "      <td>at boot bind</td>\n",
       "      <td>2</td>\n",
       "    </tr>\n",
       "    <tr>\n",
       "      <th>9708</th>\n",
       "      <td>0</td>\n",
       "      <td>AT boots and bindings?</td>\n",
       "      <td>['at', 'boots', 'and', 'bindings']</td>\n",
       "      <td>boots bindings</td>\n",
       "      <td>at boot and bind</td>\n",
       "      <td>4</td>\n",
       "    </tr>\n",
       "    <tr>\n",
       "      <th>9709</th>\n",
       "      <td>0</td>\n",
       "      <td>Had my first ski ever this weekend in Ohio. T...</td>\n",
       "      <td>['had', 'my', 'first', 'ski', 'ever', 'this', ...</td>\n",
       "      <td>first ever weekend ohio thanks making less sca...</td>\n",
       "      <td>had my first ski ever thi weekend in ohio than...</td>\n",
       "      <td>16</td>\n",
       "    </tr>\n",
       "  </tbody>\n",
       "</table>\n",
       "</div>"
      ],
      "text/plain": [
       "      subreddit                                               text  \\\n",
       "9705          0   Any form feedback for me? I’ve been skiing sp...   \n",
       "9706          0                                     Snow please!?!   \n",
       "9707          0                                  AT boot/Bindings?   \n",
       "9708          0                             AT boots and bindings?   \n",
       "9709          0   Had my first ski ever this weekend in Ohio. T...   \n",
       "\n",
       "                                              tokenized  \\\n",
       "9705  ['any', 'form', 'feedback', 'for', 'me', 'i', ...   \n",
       "9706                                 ['snow', 'please']   \n",
       "9707                         ['at', 'boot', 'bindings']   \n",
       "9708                 ['at', 'boots', 'and', 'bindings']   \n",
       "9709  ['had', 'my', 'first', 'ski', 'ever', 'this', ...   \n",
       "\n",
       "                                           no_stopwords  \\\n",
       "9705  form feedback sporadically since kid feel pret...   \n",
       "9706                                        snow please   \n",
       "9707                                      boot bindings   \n",
       "9708                                     boots bindings   \n",
       "9709  first ever weekend ohio thanks making less sca...   \n",
       "\n",
       "                                                stemmed  length  \n",
       "9705  ani form feedback for me i ve been ski sporad ...      47  \n",
       "9706                                         snow pleas       2  \n",
       "9707                                       at boot bind       2  \n",
       "9708                                   at boot and bind       4  \n",
       "9709  had my first ski ever thi weekend in ohio than...      16  "
      ]
     },
     "execution_count": 5,
     "metadata": {},
     "output_type": "execute_result"
    }
   ],
   "source": [
    "df.tail()"
   ]
  },
  {
   "cell_type": "code",
   "execution_count": 6,
   "id": "12e161d7-069d-4a2d-9680-02d41ff7b25f",
   "metadata": {},
   "outputs": [
    {
     "data": {
      "text/plain": [
       "subreddit        0\n",
       "text             0\n",
       "tokenized        0\n",
       "no_stopwords    37\n",
       "stemmed         10\n",
       "length           0\n",
       "dtype: int64"
      ]
     },
     "execution_count": 6,
     "metadata": {},
     "output_type": "execute_result"
    }
   ],
   "source": [
    "df.isna().sum()"
   ]
  },
  {
   "cell_type": "code",
   "execution_count": 7,
   "id": "2bd3fc3b-3aa1-4d7e-becd-de5f34614dce",
   "metadata": {},
   "outputs": [
    {
     "data": {
      "text/plain": [
       "0.5003089598352214"
      ]
     },
     "execution_count": 7,
     "metadata": {},
     "output_type": "execute_result"
    }
   ],
   "source": [
    "#baseline, should be really close to 50\n",
    "df['subreddit'].mean()"
   ]
  },
  {
   "cell_type": "markdown",
   "id": "02fbf3a0-8929-4bb6-af3a-d79c248bb758",
   "metadata": {
    "tags": []
   },
   "source": [
    "# Naïve Bayes on text"
   ]
  },
  {
   "cell_type": "code",
   "execution_count": 8,
   "id": "482e1261-05ee-4d75-a0f1-2ccc064cb56d",
   "metadata": {
    "tags": []
   },
   "outputs": [],
   "source": [
    "X = df['text']\n",
    "y = df['subreddit']"
   ]
  },
  {
   "cell_type": "code",
   "execution_count": 9,
   "id": "0643fcf0-a045-49e3-b863-3b06c1eea664",
   "metadata": {},
   "outputs": [],
   "source": [
    "X_train, X_test, y_train, y_test = train_test_split(X,\n",
    "                                                    y,\n",
    "                                                    random_state=23)"
   ]
  },
  {
   "cell_type": "code",
   "execution_count": 10,
   "id": "91eeea1f-08a5-44da-bc4e-2921196a3380",
   "metadata": {},
   "outputs": [],
   "source": [
    "pipe = Pipeline([\n",
    "    ('cvec', CountVectorizer()),\n",
    "    ('nb', MultinomialNB())\n",
    "])"
   ]
  },
  {
   "cell_type": "code",
   "execution_count": 11,
   "id": "4c5b2942-4146-4b3f-a16b-446553186b9a",
   "metadata": {},
   "outputs": [
    {
     "data": {
      "text/plain": [
       "{'memory': None,\n",
       " 'steps': [('cvec', CountVectorizer()), ('nb', MultinomialNB())],\n",
       " 'verbose': False,\n",
       " 'cvec': CountVectorizer(),\n",
       " 'nb': MultinomialNB(),\n",
       " 'cvec__analyzer': 'word',\n",
       " 'cvec__binary': False,\n",
       " 'cvec__decode_error': 'strict',\n",
       " 'cvec__dtype': numpy.int64,\n",
       " 'cvec__encoding': 'utf-8',\n",
       " 'cvec__input': 'content',\n",
       " 'cvec__lowercase': True,\n",
       " 'cvec__max_df': 1.0,\n",
       " 'cvec__max_features': None,\n",
       " 'cvec__min_df': 1,\n",
       " 'cvec__ngram_range': (1, 1),\n",
       " 'cvec__preprocessor': None,\n",
       " 'cvec__stop_words': None,\n",
       " 'cvec__strip_accents': None,\n",
       " 'cvec__token_pattern': '(?u)\\\\b\\\\w\\\\w+\\\\b',\n",
       " 'cvec__tokenizer': None,\n",
       " 'cvec__vocabulary': None,\n",
       " 'nb__alpha': 1.0,\n",
       " 'nb__class_prior': None,\n",
       " 'nb__fit_prior': True}"
      ]
     },
     "execution_count": 11,
     "metadata": {},
     "output_type": "execute_result"
    }
   ],
   "source": [
    "pipe.get_params()"
   ]
  },
  {
   "cell_type": "code",
   "execution_count": 12,
   "id": "440427c0-45af-4279-ab28-4569f9cc7430",
   "metadata": {},
   "outputs": [],
   "source": [
    "pipe_params = {\n",
    "    'cvec__max_features': [2_000, 3_000, 4_000, 5_000],\n",
    "    'cvec__min_df': [2, 3],\n",
    "    'cvec__max_df': [.9, .95],\n",
    "    'cvec__ngram_range': [(1, 1), (1, 2)]\n",
    "}"
   ]
  },
  {
   "cell_type": "code",
   "execution_count": 13,
   "id": "2848bec0-fc3f-4b9e-a232-38a2bdaa1ac8",
   "metadata": {},
   "outputs": [],
   "source": [
    "gs = GridSearchCV(pipe, \n",
    "                  param_grid = pipe_params, \n",
    "                  cv = 5) "
   ]
  },
  {
   "cell_type": "code",
   "execution_count": 14,
   "id": "f88964ea-7e28-44d3-9b64-7a2da88bc495",
   "metadata": {},
   "outputs": [
    {
     "data": {
      "text/plain": [
       "GridSearchCV(cv=5,\n",
       "             estimator=Pipeline(steps=[('cvec', CountVectorizer()),\n",
       "                                       ('nb', MultinomialNB())]),\n",
       "             param_grid={'cvec__max_df': [0.9, 0.95],\n",
       "                         'cvec__max_features': [2000, 3000, 4000, 5000],\n",
       "                         'cvec__min_df': [2, 3],\n",
       "                         'cvec__ngram_range': [(1, 1), (1, 2)]})"
      ]
     },
     "execution_count": 14,
     "metadata": {},
     "output_type": "execute_result"
    }
   ],
   "source": [
    "gs.fit(X_train, y_train)"
   ]
  },
  {
   "cell_type": "code",
   "execution_count": 15,
   "id": "92709302-6906-43de-9b61-4386025bb596",
   "metadata": {},
   "outputs": [
    {
     "data": {
      "text/plain": [
       "{'cvec__max_df': 0.9,\n",
       " 'cvec__max_features': 5000,\n",
       " 'cvec__min_df': 2,\n",
       " 'cvec__ngram_range': (1, 1)}"
      ]
     },
     "execution_count": 15,
     "metadata": {},
     "output_type": "execute_result"
    }
   ],
   "source": [
    "gs.best_params_"
   ]
  },
  {
   "cell_type": "code",
   "execution_count": 16,
   "id": "4529faa6-1875-4823-be28-84c1d40560a4",
   "metadata": {},
   "outputs": [],
   "source": [
    "# trying again because we were hitting the extreme end of our ranges\n",
    "pipe_params2 = {\n",
    "    'cvec__max_features': [500, 1_000, 2_000],\n",
    "    'cvec__min_df': [1, 2],\n",
    "    'cvec__max_df': [.7, .9],\n",
    "    'cvec__ngram_range': [(1, 1)]\n",
    "}"
   ]
  },
  {
   "cell_type": "code",
   "execution_count": 17,
   "id": "aab8a0a3-7522-4ca8-be34-3ed2e75ece0b",
   "metadata": {},
   "outputs": [],
   "source": [
    "gs = GridSearchCV(pipe, \n",
    "                  param_grid = pipe_params2, \n",
    "                  cv = 5) "
   ]
  },
  {
   "cell_type": "code",
   "execution_count": 18,
   "id": "9fb16784-03f4-4568-b8a9-5ea903cd032f",
   "metadata": {},
   "outputs": [
    {
     "data": {
      "text/plain": [
       "GridSearchCV(cv=5,\n",
       "             estimator=Pipeline(steps=[('cvec', CountVectorizer()),\n",
       "                                       ('nb', MultinomialNB())]),\n",
       "             param_grid={'cvec__max_df': [0.7, 0.9],\n",
       "                         'cvec__max_features': [500, 1000, 2000],\n",
       "                         'cvec__min_df': [1, 2],\n",
       "                         'cvec__ngram_range': [(1, 1)]})"
      ]
     },
     "execution_count": 18,
     "metadata": {},
     "output_type": "execute_result"
    }
   ],
   "source": [
    "gs.fit(X_train, y_train)"
   ]
  },
  {
   "cell_type": "code",
   "execution_count": 19,
   "id": "94ee4e5c-8b3b-4827-b7d0-3ec8c8900d4d",
   "metadata": {},
   "outputs": [
    {
     "data": {
      "text/plain": [
       "{'cvec__max_df': 0.7,\n",
       " 'cvec__max_features': 2000,\n",
       " 'cvec__min_df': 1,\n",
       " 'cvec__ngram_range': (1, 1)}"
      ]
     },
     "execution_count": 19,
     "metadata": {},
     "output_type": "execute_result"
    }
   ],
   "source": [
    "gs.best_params_"
   ]
  },
  {
   "cell_type": "code",
   "execution_count": 20,
   "id": "d6305ba9-8e88-4bf3-9682-ae25d7880663",
   "metadata": {},
   "outputs": [
    {
     "data": {
      "text/plain": [
       "0.7843998901400714"
      ]
     },
     "execution_count": 20,
     "metadata": {},
     "output_type": "execute_result"
    }
   ],
   "source": [
    "gs.score(X_train, y_train)"
   ]
  },
  {
   "cell_type": "code",
   "execution_count": 21,
   "id": "bb1398ac-894f-4683-9c8b-42c7b07e2edb",
   "metadata": {},
   "outputs": [
    {
     "data": {
      "text/plain": [
       "0.7537067545304778"
      ]
     },
     "execution_count": 21,
     "metadata": {},
     "output_type": "execute_result"
    }
   ],
   "source": [
    "gs.score(X_test, y_test)"
   ]
  },
  {
   "cell_type": "code",
   "execution_count": 22,
   "id": "b10252bd-ee7f-4561-973c-d2e10398bc27",
   "metadata": {},
   "outputs": [
    {
     "data": {
      "text/plain": [
       "<sklearn.metrics._plot.confusion_matrix.ConfusionMatrixDisplay at 0x7fda18d00a60>"
      ]
     },
     "execution_count": 22,
     "metadata": {},
     "output_type": "execute_result"
    },
    {
     "data": {
      "image/png": "[encoded data removed]",
      "text/plain": [
       "<Figure size 640x480 with 2 Axes>"
      ]
     },
     "metadata": {},
     "output_type": "display_data"
    }
   ],
   "source": [
    "ConfusionMatrixDisplay.from_estimator(gs, X_test, y_test, cmap=\"Blues\")"
   ]
  },
  {
   "cell_type": "code",
   "execution_count": 23,
   "id": "5b14f492-6bc0-41e4-bd3c-99be60a3aeee",
   "metadata": {},
   "outputs": [],
   "source": [
    "preds = gs.predict(X_test)"
   ]
  },
  {
   "cell_type": "code",
   "execution_count": 24,
   "id": "1313e882-8a63-4d69-b69d-9bbc91a85f6d",
   "metadata": {},
   "outputs": [],
   "source": [
    "tn, fp, fn, tp = confusion_matrix(y_test, preds).ravel()"
   ]
  },
  {
   "cell_type": "code",
   "execution_count": 25,
   "id": "8ca8605f-a018-4396-9585-d49321c8cf03",
   "metadata": {},
   "outputs": [
    {
     "name": "stdout",
     "output_type": "stream",
     "text": [
      "Specificity: 0.8239731768650461\n",
      "Sensativity: 0.68582995951417\n",
      "Accuracy: 0.7537067545304778\n",
      "Precision: 0.8013245033112583\n"
     ]
    }
   ],
   "source": [
    "spec = tn / (tn + fp)\n",
    "\n",
    "sens = tp / (tp + fn)\n",
    "\n",
    "acc = (tp+tn) / (tp + tn+ fn+fp)\n",
    "\n",
    "prec = tp/ (tp+fp)\n",
    "\n",
    "print(f'Specificity: {spec}')\n",
    "\n",
    "print(f'Sensativity: {sens}')\n",
    "\n",
    "print(f'Accuracy: {acc}')\n",
    "\n",
    "print(f'Precision: {prec}')"
   ]
  },
  {
   "cell_type": "markdown",
   "id": "2e2f31e8-9486-4386-b86b-74a32ca37632",
   "metadata": {
    "jp-MarkdownHeadingCollapsed": true,
    "tags": []
   },
   "source": [
    "# Naïve Bayes on No Stopwords"
   ]
  },
  {
   "cell_type": "code",
   "execution_count": 26,
   "id": "07db4303-bbd1-4869-bf84-34d959a3599e",
   "metadata": {},
   "outputs": [
    {
     "data": {
      "text/plain": [
       "(9710, 6)"
      ]
     },
     "execution_count": 26,
     "metadata": {},
     "output_type": "execute_result"
    }
   ],
   "source": [
    "df.shape"
   ]
  },
  {
   "cell_type": "code",
   "execution_count": 27,
   "id": "484541b6-9b9f-4e2f-a111-67b06f8913aa",
   "metadata": {},
   "outputs": [
    {
     "data": {
      "text/plain": [
       "(9673, 6)"
      ]
     },
     "execution_count": 27,
     "metadata": {},
     "output_type": "execute_result"
    }
   ],
   "source": [
    "df2=df[df['no_stopwords'].notnull()]\n",
    "df2.shape"
   ]
  },
  {
   "cell_type": "code",
   "execution_count": 28,
   "id": "60636f9e-ce8e-4674-bdd8-0ec18f819d09",
   "metadata": {
    "tags": []
   },
   "outputs": [],
   "source": [
    "X = df2['no_stopwords']\n",
    "y = df2['subreddit']"
   ]
  },
  {
   "cell_type": "code",
   "execution_count": 29,
   "id": "a6da43a2-1248-4ddf-b620-2c23f89f45b8",
   "metadata": {},
   "outputs": [],
   "source": [
    "X_train, X_test, y_train, y_test = train_test_split(X,\n",
    "                                                    y,\n",
    "                                                    random_state=23)"
   ]
  },
  {
   "cell_type": "code",
   "execution_count": 30,
   "id": "d8e42896-aafa-4f17-a5f3-43a91eecde6e",
   "metadata": {},
   "outputs": [],
   "source": [
    "pipe = Pipeline([\n",
    "    ('cvec', CountVectorizer()),\n",
    "    ('nb', MultinomialNB())\n",
    "])"
   ]
  },
  {
   "cell_type": "code",
   "execution_count": 31,
   "id": "03bebaeb-e991-4fd3-b239-c3e64b886c70",
   "metadata": {},
   "outputs": [
    {
     "data": {
      "text/plain": [
       "{'memory': None,\n",
       " 'steps': [('cvec', CountVectorizer()), ('nb', MultinomialNB())],\n",
       " 'verbose': False,\n",
       " 'cvec': CountVectorizer(),\n",
       " 'nb': MultinomialNB(),\n",
       " 'cvec__analyzer': 'word',\n",
       " 'cvec__binary': False,\n",
       " 'cvec__decode_error': 'strict',\n",
       " 'cvec__dtype': numpy.int64,\n",
       " 'cvec__encoding': 'utf-8',\n",
       " 'cvec__input': 'content',\n",
       " 'cvec__lowercase': True,\n",
       " 'cvec__max_df': 1.0,\n",
       " 'cvec__max_features': None,\n",
       " 'cvec__min_df': 1,\n",
       " 'cvec__ngram_range': (1, 1),\n",
       " 'cvec__preprocessor': None,\n",
       " 'cvec__stop_words': None,\n",
       " 'cvec__strip_accents': None,\n",
       " 'cvec__token_pattern': '(?u)\\\\b\\\\w\\\\w+\\\\b',\n",
       " 'cvec__tokenizer': None,\n",
       " 'cvec__vocabulary': None,\n",
       " 'nb__alpha': 1.0,\n",
       " 'nb__class_prior': None,\n",
       " 'nb__fit_prior': True}"
      ]
     },
     "execution_count": 31,
     "metadata": {},
     "output_type": "execute_result"
    }
   ],
   "source": [
    "pipe.get_params()"
   ]
  },
  {
   "cell_type": "code",
   "execution_count": 32,
   "id": "6776e209-3a3d-4304-be7c-7e823b365ebc",
   "metadata": {},
   "outputs": [],
   "source": [
    "pipe_params = {\n",
    "    'cvec__max_features': [2_000, 3_000, 4_000, 5_000],\n",
    "    'cvec__min_df': [2, 3],\n",
    "    'cvec__max_df': [.9, .95],\n",
    "    'cvec__ngram_range': [(1, 1), (1, 2)]\n",
    "}"
   ]
  },
  {
   "cell_type": "code",
   "execution_count": 33,
   "id": "2ef98020-ce72-42c7-825a-c3f2f4d7599a",
   "metadata": {},
   "outputs": [],
   "source": [
    "gs = GridSearchCV(pipe, \n",
    "                  param_grid = pipe_params, \n",
    "                  cv = 5) "
   ]
  },
  {
   "cell_type": "code",
   "execution_count": 34,
   "id": "c3ab6a05-7592-49e6-b7d8-71ab30a53e7a",
   "metadata": {},
   "outputs": [
    {
     "data": {
      "text/plain": [
       "GridSearchCV(cv=5,\n",
       "             estimator=Pipeline(steps=[('cvec', CountVectorizer()),\n",
       "                                       ('nb', MultinomialNB())]),\n",
       "             param_grid={'cvec__max_df': [0.9, 0.95],\n",
       "                         'cvec__max_features': [2000, 3000, 4000, 5000],\n",
       "                         'cvec__min_df': [2, 3],\n",
       "                         'cvec__ngram_range': [(1, 1), (1, 2)]})"
      ]
     },
     "execution_count": 34,
     "metadata": {},
     "output_type": "execute_result"
    }
   ],
   "source": [
    "gs.fit(X_train, y_train)"
   ]
  },
  {
   "cell_type": "code",
   "execution_count": 35,
   "id": "1ac4ce0e-867a-4db9-a418-a17be35a9d0d",
   "metadata": {},
   "outputs": [
    {
     "data": {
      "text/plain": [
       "{'cvec__max_df': 0.9,\n",
       " 'cvec__max_features': 5000,\n",
       " 'cvec__min_df': 2,\n",
       " 'cvec__ngram_range': (1, 1)}"
      ]
     },
     "execution_count": 35,
     "metadata": {},
     "output_type": "execute_result"
    }
   ],
   "source": [
    "gs.best_params_"
   ]
  },
  {
   "cell_type": "code",
   "execution_count": 36,
   "id": "5a544cd3-da34-43db-8198-28ad7d052697",
   "metadata": {},
   "outputs": [],
   "source": [
    "# trying again because we were hitting the extreme end of our ranges\n",
    "pipe_params2 = {\n",
    "    'cvec__max_features': [500, 1_000, 2_000],\n",
    "    'cvec__min_df': [1, 2],\n",
    "    'cvec__max_df': [.7, .9],\n",
    "    'cvec__ngram_range': [(1, 1)]\n",
    "}"
   ]
  },
  {
   "cell_type": "code",
   "execution_count": 37,
   "id": "0890e63f-ac1a-493b-9343-4402318a3cd5",
   "metadata": {},
   "outputs": [],
   "source": [
    "gs = GridSearchCV(pipe, \n",
    "                  param_grid = pipe_params2, \n",
    "                  cv = 5) "
   ]
  },
  {
   "cell_type": "code",
   "execution_count": 38,
   "id": "4ef954a8-8b79-4b64-ac26-2df7d84e2199",
   "metadata": {},
   "outputs": [
    {
     "data": {
      "text/plain": [
       "GridSearchCV(cv=5,\n",
       "             estimator=Pipeline(steps=[('cvec', CountVectorizer()),\n",
       "                                       ('nb', MultinomialNB())]),\n",
       "             param_grid={'cvec__max_df': [0.7, 0.9],\n",
       "                         'cvec__max_features': [500, 1000, 2000],\n",
       "                         'cvec__min_df': [1, 2],\n",
       "                         'cvec__ngram_range': [(1, 1)]})"
      ]
     },
     "execution_count": 38,
     "metadata": {},
     "output_type": "execute_result"
    }
   ],
   "source": [
    "gs.fit(X_train, y_train)"
   ]
  },
  {
   "cell_type": "code",
   "execution_count": 39,
   "id": "7708aaea-e73b-4330-9b36-de2b76c5bd4c",
   "metadata": {},
   "outputs": [
    {
     "data": {
      "text/plain": [
       "{'cvec__max_df': 0.7,\n",
       " 'cvec__max_features': 2000,\n",
       " 'cvec__min_df': 2,\n",
       " 'cvec__ngram_range': (1, 1)}"
      ]
     },
     "execution_count": 39,
     "metadata": {},
     "output_type": "execute_result"
    }
   ],
   "source": [
    "gs.best_params_"
   ]
  },
  {
   "cell_type": "code",
   "execution_count": 40,
   "id": "83b06b97-aa8c-4d1a-baeb-c48ff3fced83",
   "metadata": {},
   "outputs": [
    {
     "data": {
      "text/plain": [
       "0.7128480838158258"
      ]
     },
     "execution_count": 40,
     "metadata": {},
     "output_type": "execute_result"
    }
   ],
   "source": [
    "gs.score(X_train, y_train)"
   ]
  },
  {
   "cell_type": "code",
   "execution_count": 41,
   "id": "487c36fc-5ced-4d19-ab50-e913447d1351",
   "metadata": {},
   "outputs": [
    {
     "data": {
      "text/plain": [
       "0.6515088879702357"
      ]
     },
     "execution_count": 41,
     "metadata": {},
     "output_type": "execute_result"
    }
   ],
   "source": [
    "gs.score(X_test, y_test)"
   ]
  },
  {
   "cell_type": "code",
   "execution_count": 42,
   "id": "20767e4c-a059-49ed-88c3-1586e3fc9eac",
   "metadata": {},
   "outputs": [
    {
     "data": {
      "text/plain": [
       "<sklearn.metrics._plot.confusion_matrix.ConfusionMatrixDisplay at 0x7fda18552ac0>"
      ]
     },
     "execution_count": 42,
     "metadata": {},
     "output_type": "execute_result"
    },
    {
     "data": {
      "image/png": "[encoded data removed]",
      "text/plain": [
       "<Figure size 640x480 with 2 Axes>"
      ]
     },
     "metadata": {},
     "output_type": "display_data"
    }
   ],
   "source": [
    "ConfusionMatrixDisplay.from_estimator(gs, X_test, y_test, cmap=\"Blues\")"
   ]
  },
  {
   "cell_type": "code",
   "execution_count": 43,
   "id": "ed5c50eb-7589-4403-829c-376f011aa9bb",
   "metadata": {},
   "outputs": [],
   "source": [
    "preds = gs.predict(X_test)"
   ]
  },
  {
   "cell_type": "code",
   "execution_count": 44,
   "id": "0b138ab7-0224-469b-b77e-2ee87a2d714d",
   "metadata": {},
   "outputs": [],
   "source": [
    "tn, fp, fn, tp = confusion_matrix(y_test, preds).ravel()"
   ]
  },
  {
   "cell_type": "code",
   "execution_count": 45,
   "id": "85457454-b57a-47b1-b2c0-11027a66dee2",
   "metadata": {},
   "outputs": [
    {
     "name": "stdout",
     "output_type": "stream",
     "text": [
      "Specificity: 0.7252657399836467\n",
      "Sensativity: 0.5760869565217391\n",
      "Accuracy: 0.6515088879702357\n",
      "Precision: 0.6721951219512196\n"
     ]
    }
   ],
   "source": [
    "spec = tn / (tn + fp)\n",
    "\n",
    "sens = tp / (tp + fn)\n",
    "\n",
    "acc = (tp+tn) / (tp + tn+ fn+fp)\n",
    "\n",
    "prec = tp/ (tp+fp)\n",
    "\n",
    "print(f'Specificity: {spec}')\n",
    "\n",
    "print(f'Sensativity: {sens}')\n",
    "\n",
    "print(f'Accuracy: {acc}')\n",
    "\n",
    "print(f'Precision: {prec}')"
   ]
  },
  {
   "cell_type": "markdown",
   "id": "bdb54ba0-11be-472d-8732-dd61e09ff0f4",
   "metadata": {
    "jp-MarkdownHeadingCollapsed": true,
    "tags": []
   },
   "source": [
    "# Naïve Bayes on stemmed"
   ]
  },
  {
   "cell_type": "code",
   "execution_count": 46,
   "id": "055674ee-689e-4051-a500-4f4132963210",
   "metadata": {},
   "outputs": [
    {
     "data": {
      "text/plain": [
       "(9700, 6)"
      ]
     },
     "execution_count": 46,
     "metadata": {},
     "output_type": "execute_result"
    }
   ],
   "source": [
    "df3=df[df['stemmed'].notnull()]\n",
    "df3.shape"
   ]
  },
  {
   "cell_type": "code",
   "execution_count": 47,
   "id": "0aa70415-a77a-4fa3-87ee-7b312235ec68",
   "metadata": {
    "tags": []
   },
   "outputs": [],
   "source": [
    "X = df3['stemmed']\n",
    "y = df3['subreddit']"
   ]
  },
  {
   "cell_type": "code",
   "execution_count": 48,
   "id": "5178c6a4-6f6f-4711-8545-4d825b41acf7",
   "metadata": {},
   "outputs": [],
   "source": [
    "X_train, X_test, y_train, y_test = train_test_split(X,\n",
    "                                                    y,\n",
    "                                                    random_state=23)"
   ]
  },
  {
   "cell_type": "code",
   "execution_count": 49,
   "id": "4e7acbed-8e36-4994-9bb2-cb8c69c63500",
   "metadata": {},
   "outputs": [],
   "source": [
    "pipe = Pipeline([\n",
    "    ('cvec', CountVectorizer()),\n",
    "    ('nb', MultinomialNB())\n",
    "])"
   ]
  },
  {
   "cell_type": "code",
   "execution_count": 50,
   "id": "89225a5d-0920-45fb-ac31-75062b544d17",
   "metadata": {},
   "outputs": [
    {
     "data": {
      "text/plain": [
       "{'memory': None,\n",
       " 'steps': [('cvec', CountVectorizer()), ('nb', MultinomialNB())],\n",
       " 'verbose': False,\n",
       " 'cvec': CountVectorizer(),\n",
       " 'nb': MultinomialNB(),\n",
       " 'cvec__analyzer': 'word',\n",
       " 'cvec__binary': False,\n",
       " 'cvec__decode_error': 'strict',\n",
       " 'cvec__dtype': numpy.int64,\n",
       " 'cvec__encoding': 'utf-8',\n",
       " 'cvec__input': 'content',\n",
       " 'cvec__lowercase': True,\n",
       " 'cvec__max_df': 1.0,\n",
       " 'cvec__max_features': None,\n",
       " 'cvec__min_df': 1,\n",
       " 'cvec__ngram_range': (1, 1),\n",
       " 'cvec__preprocessor': None,\n",
       " 'cvec__stop_words': None,\n",
       " 'cvec__strip_accents': None,\n",
       " 'cvec__token_pattern': '(?u)\\\\b\\\\w\\\\w+\\\\b',\n",
       " 'cvec__tokenizer': None,\n",
       " 'cvec__vocabulary': None,\n",
       " 'nb__alpha': 1.0,\n",
       " 'nb__class_prior': None,\n",
       " 'nb__fit_prior': True}"
      ]
     },
     "execution_count": 50,
     "metadata": {},
     "output_type": "execute_result"
    }
   ],
   "source": [
    "pipe.get_params()"
   ]
  },
  {
   "cell_type": "code",
   "execution_count": 51,
   "id": "141ec127-3092-46b1-863d-f0006cc14524",
   "metadata": {},
   "outputs": [],
   "source": [
    "pipe_params = {\n",
    "    'cvec__max_features': [2_000, 3_000, 4_000, 5_000],\n",
    "    'cvec__min_df': [2, 3],\n",
    "    'cvec__max_df': [.9, .95],\n",
    "    'cvec__ngram_range': [(1, 1), (1, 2)]\n",
    "}"
   ]
  },
  {
   "cell_type": "code",
   "execution_count": 52,
   "id": "5fb70f35-ffaa-4e12-82da-5b309d6498da",
   "metadata": {},
   "outputs": [],
   "source": [
    "gs = GridSearchCV(pipe, \n",
    "                  param_grid = pipe_params, \n",
    "                  cv = 5) "
   ]
  },
  {
   "cell_type": "code",
   "execution_count": 53,
   "id": "54951655-58c3-4136-85a6-38fadeda3953",
   "metadata": {},
   "outputs": [
    {
     "data": {
      "text/plain": [
       "GridSearchCV(cv=5,\n",
       "             estimator=Pipeline(steps=[('cvec', CountVectorizer()),\n",
       "                                       ('nb', MultinomialNB())]),\n",
       "             param_grid={'cvec__max_df': [0.9, 0.95],\n",
       "                         'cvec__max_features': [2000, 3000, 4000, 5000],\n",
       "                         'cvec__min_df': [2, 3],\n",
       "                         'cvec__ngram_range': [(1, 1), (1, 2)]})"
      ]
     },
     "execution_count": 53,
     "metadata": {},
     "output_type": "execute_result"
    }
   ],
   "source": [
    "gs.fit(X_train, y_train)"
   ]
  },
  {
   "cell_type": "code",
   "execution_count": 54,
   "id": "4566fe71-6f8b-48b3-a57a-2b77edee0529",
   "metadata": {},
   "outputs": [
    {
     "data": {
      "text/plain": [
       "{'cvec__max_df': 0.9,\n",
       " 'cvec__max_features': 4000,\n",
       " 'cvec__min_df': 2,\n",
       " 'cvec__ngram_range': (1, 1)}"
      ]
     },
     "execution_count": 54,
     "metadata": {},
     "output_type": "execute_result"
    }
   ],
   "source": [
    "gs.best_params_"
   ]
  },
  {
   "cell_type": "code",
   "execution_count": 55,
   "id": "a4169053-0bd9-40e1-98c5-963e5036d146",
   "metadata": {},
   "outputs": [],
   "source": [
    "# trying again because we were hitting the extreme end of our ranges\n",
    "pipe_params2 = {\n",
    "    'cvec__max_features': [4_000],\n",
    "    'cvec__min_df': [2,3],\n",
    "    'cvec__max_df': [.9, .95],\n",
    "    'cvec__ngram_range': [(1, 1)]\n",
    "}"
   ]
  },
  {
   "cell_type": "code",
   "execution_count": 56,
   "id": "91ecb720-f919-41d6-93e3-8abefa7da510",
   "metadata": {},
   "outputs": [],
   "source": [
    "gs = GridSearchCV(pipe, \n",
    "                  param_grid = pipe_params2, \n",
    "                  cv = 5) "
   ]
  },
  {
   "cell_type": "code",
   "execution_count": 57,
   "id": "1e87289e-a623-41fe-98bf-69974c5d5b66",
   "metadata": {},
   "outputs": [
    {
     "data": {
      "text/plain": [
       "GridSearchCV(cv=5,\n",
       "             estimator=Pipeline(steps=[('cvec', CountVectorizer()),\n",
       "                                       ('nb', MultinomialNB())]),\n",
       "             param_grid={'cvec__max_df': [0.9, 0.95],\n",
       "                         'cvec__max_features': [4000], 'cvec__min_df': [2, 3],\n",
       "                         'cvec__ngram_range': [(1, 1)]})"
      ]
     },
     "execution_count": 57,
     "metadata": {},
     "output_type": "execute_result"
    }
   ],
   "source": [
    "gs.fit(X_train, y_train)"
   ]
  },
  {
   "cell_type": "code",
   "execution_count": 58,
   "id": "081a59ce-4491-429b-8426-2801e01d546a",
   "metadata": {},
   "outputs": [
    {
     "data": {
      "text/plain": [
       "{'cvec__max_df': 0.9,\n",
       " 'cvec__max_features': 4000,\n",
       " 'cvec__min_df': 2,\n",
       " 'cvec__ngram_range': (1, 1)}"
      ]
     },
     "execution_count": 58,
     "metadata": {},
     "output_type": "execute_result"
    }
   ],
   "source": [
    "gs.best_params_"
   ]
  },
  {
   "cell_type": "code",
   "execution_count": 59,
   "id": "4b355266-d2db-4319-a93a-15c6e9a3bc97",
   "metadata": {},
   "outputs": [
    {
     "data": {
      "text/plain": [
       "0.8214432989690722"
      ]
     },
     "execution_count": 59,
     "metadata": {},
     "output_type": "execute_result"
    }
   ],
   "source": [
    "gs.score(X_train, y_train)"
   ]
  },
  {
   "cell_type": "code",
   "execution_count": 60,
   "id": "9108aef3-c8e8-4b82-a8d3-18766da8d28b",
   "metadata": {},
   "outputs": [
    {
     "data": {
      "text/plain": [
       "0.7616494845360825"
      ]
     },
     "execution_count": 60,
     "metadata": {},
     "output_type": "execute_result"
    }
   ],
   "source": [
    "gs.score(X_test, y_test)"
   ]
  },
  {
   "cell_type": "code",
   "execution_count": 61,
   "id": "fe36d882-20a0-4f56-8ce1-ab117aa3b13d",
   "metadata": {},
   "outputs": [
    {
     "data": {
      "text/plain": [
       "<sklearn.metrics._plot.confusion_matrix.ConfusionMatrixDisplay at 0x7fda19881a00>"
      ]
     },
     "execution_count": 61,
     "metadata": {},
     "output_type": "execute_result"
    },
    {
     "data": {
      "image/png": "[encoded data removed]",
      "text/plain": [
       "<Figure size 640x480 with 2 Axes>"
      ]
     },
     "metadata": {},
     "output_type": "display_data"
    }
   ],
   "source": [
    "ConfusionMatrixDisplay.from_estimator(gs, X_test, y_test, cmap=\"Blues\")"
   ]
  },
  {
   "cell_type": "code",
   "execution_count": 62,
   "id": "6be7074d-8601-41e5-bae9-0827db6c3f22",
   "metadata": {},
   "outputs": [],
   "source": [
    "preds = gs.predict(X_test)"
   ]
  },
  {
   "cell_type": "code",
   "execution_count": 63,
   "id": "ff9d2280-f375-454e-a46c-bcb739dd7cbd",
   "metadata": {},
   "outputs": [],
   "source": [
    "tn, fp, fn, tp = confusion_matrix(y_test, preds).ravel()"
   ]
  },
  {
   "cell_type": "code",
   "execution_count": 64,
   "id": "da4214aa-ce79-4159-b2d3-71c470343cb8",
   "metadata": {},
   "outputs": [
    {
     "name": "stdout",
     "output_type": "stream",
     "text": [
      "Specificity: 0.812396694214876\n",
      "Sensativity: 0.7111111111111111\n",
      "Accuracy: 0.7616494845360825\n",
      "Precision: 0.7919340054995417\n"
     ]
    }
   ],
   "source": [
    "spec = tn / (tn + fp)\n",
    "\n",
    "sens = tp / (tp + fn)\n",
    "\n",
    "acc = (tp+tn) / (tp + tn+ fn+fp)\n",
    "\n",
    "prec = tp/ (tp+fp)\n",
    "\n",
    "print(f'Specificity: {spec}')\n",
    "\n",
    "print(f'Sensativity: {sens}')\n",
    "\n",
    "print(f'Accuracy: {acc}')\n",
    "\n",
    "print(f'Precision: {prec}')"
   ]
  },
  {
   "cell_type": "markdown",
   "id": "088b204b-2203-4ba8-a91b-9aee944e642b",
   "metadata": {
    "tags": []
   },
   "source": [
    "coefs = model.named_steps[\"classifier\"].coef_.flatten()# Logistic"
   ]
  },
  {
   "cell_type": "code",
   "execution_count": 65,
   "id": "2da47965-3b47-49b2-9b76-cf36cb511579",
   "metadata": {},
   "outputs": [],
   "source": [
    "df_lr=df[df['no_stopwords'].notnull()]"
   ]
  },
  {
   "cell_type": "code",
   "execution_count": 66,
   "id": "eda083de-7da6-4376-9322-4da39b40466c",
   "metadata": {},
   "outputs": [],
   "source": [
    "X=df_lr['no_stopwords']\n",
    "y=df_lr['subreddit']"
   ]
  },
  {
   "cell_type": "code",
   "execution_count": 67,
   "id": "23771d75-37d9-458e-8c18-7a7e7efbe1a5",
   "metadata": {},
   "outputs": [],
   "source": [
    "X_train, X_test, y_train, y_test = train_test_split(X,\n",
    "                                                    y,\n",
    "                                                    random_state=23)"
   ]
  },
  {
   "cell_type": "code",
   "execution_count": null,
   "id": "0242545c-5236-46e2-b865-05d6e8026c41",
   "metadata": {},
   "outputs": [],
   "source": []
  },
  {
   "cell_type": "code",
   "execution_count": 68,
   "id": "f29f9f23-fe88-4cf8-90fc-859ac23aa4e4",
   "metadata": {},
   "outputs": [],
   "source": [
    "log_reg = Pipeline([\n",
    "   ('cvec', CountVectorizer()),\n",
    "   ('lr', LogisticRegression(random_state=23))\n",
    "    ])\n"
   ]
  },
  {
   "cell_type": "code",
   "execution_count": 69,
   "id": "acdcbcac-f5f1-4f4f-b1af-952c901df56e",
   "metadata": {},
   "outputs": [
    {
     "data": {
      "text/plain": [
       "0.9037772263578715"
      ]
     },
     "execution_count": 69,
     "metadata": {},
     "output_type": "execute_result"
    }
   ],
   "source": [
    "log_reg.fit(X_train, y_train)\n",
    "log_reg.score(X_train, y_train)"
   ]
  },
  {
   "cell_type": "code",
   "execution_count": 70,
   "id": "78f3f0b0-a2c4-42d6-b59c-241520faeb51",
   "metadata": {},
   "outputs": [
    {
     "data": {
      "text/plain": [
       "0.6672178586192642"
      ]
     },
     "execution_count": 70,
     "metadata": {},
     "output_type": "execute_result"
    }
   ],
   "source": [
    "log_reg.score(X_test, y_test)"
   ]
  },
  {
   "cell_type": "code",
   "execution_count": 71,
   "id": "d9f73650-6963-485f-a579-9280c982bdee",
   "metadata": {},
   "outputs": [
    {
     "data": {
      "text/plain": [
       "<sklearn.metrics._plot.confusion_matrix.ConfusionMatrixDisplay at 0x7fda1872c430>"
      ]
     },
     "execution_count": 71,
     "metadata": {},
     "output_type": "execute_result"
    },
    {
     "data": {
      "image/png": "[encoded data removed]",
      "text/plain": [
       "<Figure size 640x480 with 2 Axes>"
      ]
     },
     "metadata": {},
     "output_type": "display_data"
    }
   ],
   "source": [
    "ConfusionMatrixDisplay.from_estimator(log_reg, X_test, y_test, cmap=\"Blues\")"
   ]
  },
  {
   "cell_type": "code",
   "execution_count": 72,
   "id": "941c278c-10aa-499d-9a3f-8ffe39443956",
   "metadata": {
    "tags": []
   },
   "outputs": [],
   "source": [
    "preds = log_reg.predict(X_test)\n",
    "\n",
    "tn, fp, fn, tp = confusion_matrix(y_test, preds).ravel()"
   ]
  },
  {
   "cell_type": "code",
   "execution_count": 73,
   "id": "19854a51-2973-4bb5-9006-86fbc464d2c0",
   "metadata": {},
   "outputs": [
    {
     "name": "stdout",
     "output_type": "stream",
     "text": [
      "Specificity: 0.6377759607522485\n",
      "Sensativity: 0.697324414715719\n",
      "Accuracy: 0.6672178586192642\n",
      "Precision: 0.6530931871574002\n"
     ]
    }
   ],
   "source": [
    "spec = tn / (tn + fp)\n",
    "\n",
    "sens = tp / (tp + fn)\n",
    "\n",
    "acc = (tp+tn) / (tp + tn+ fn+fp)\n",
    "\n",
    "prec = tp/ (tp+fp)\n",
    "\n",
    "print(f'Specificity: {spec}')\n",
    "\n",
    "print(f'Sensativity: {sens}')\n",
    "\n",
    "print(f'Accuracy: {acc}')\n",
    "\n",
    "print(f'Precision: {prec}')"
   ]
  },
  {
   "cell_type": "markdown",
   "id": "d4d192e2-924c-4c92-b636-53932d5aae67",
   "metadata": {
    "jp-MarkdownHeadingCollapsed": true,
    "tags": []
   },
   "source": [
    "# Logistic on text"
   ]
  },
  {
   "cell_type": "code",
   "execution_count": 164,
   "id": "03d51404-ec86-4966-a5a8-7823b1525b6a",
   "metadata": {},
   "outputs": [
    {
     "data": {
      "text/plain": [
       "(9710, 6)"
      ]
     },
     "execution_count": 164,
     "metadata": {},
     "output_type": "execute_result"
    }
   ],
   "source": [
    "df.shape"
   ]
  },
  {
   "cell_type": "code",
   "execution_count": 165,
   "id": "4c2cd551-8ed5-4d2d-ab58-07bd95937de5",
   "metadata": {},
   "outputs": [
    {
     "data": {
      "text/plain": [
       "subreddit        0\n",
       "text             0\n",
       "tokenized        0\n",
       "no_stopwords    37\n",
       "stemmed         10\n",
       "length           0\n",
       "dtype: int64"
      ]
     },
     "execution_count": 165,
     "metadata": {},
     "output_type": "execute_result"
    }
   ],
   "source": [
    "df.isna().sum()"
   ]
  },
  {
   "cell_type": "code",
   "execution_count": 166,
   "id": "a4e70b75-3499-43da-8f2b-85f92ee1d2f1",
   "metadata": {},
   "outputs": [],
   "source": [
    "df_logreg=df.copy()"
   ]
  },
  {
   "cell_type": "code",
   "execution_count": 167,
   "id": "f519f853-1def-4b78-bc1a-dfccb3de8b14",
   "metadata": {},
   "outputs": [
    {
     "data": {
      "text/plain": [
       "(9710, 6)"
      ]
     },
     "execution_count": 167,
     "metadata": {},
     "output_type": "execute_result"
    }
   ],
   "source": [
    "df_logreg.shape"
   ]
  },
  {
   "cell_type": "code",
   "execution_count": 168,
   "id": "2b81aa44-dedc-46d3-9521-17e1036dae41",
   "metadata": {},
   "outputs": [],
   "source": [
    "X=df_logreg['text']\n",
    "y=df_logreg['subreddit']"
   ]
  },
  {
   "cell_type": "code",
   "execution_count": 169,
   "id": "e3a420d2-b031-404a-a502-2fedebd9bede",
   "metadata": {},
   "outputs": [],
   "source": [
    "X_train, X_test, y_train, y_test = train_test_split(X,\n",
    "                                                    y,\n",
    "                                                    random_state=23)"
   ]
  },
  {
   "cell_type": "code",
   "execution_count": 170,
   "id": "07b05afd-7593-4a29-925f-d3d3e3ff3ec3",
   "metadata": {
    "tags": []
   },
   "outputs": [],
   "source": [
    "cvec =  CountVectorizer()\n",
    "\n",
    "Z_train = cvec.fit_transform(X_train)\n",
    "Z_test = cvec.transform(X_test)"
   ]
  },
  {
   "cell_type": "code",
   "execution_count": 171,
   "id": "4f4f0337-e8a9-41f0-8298-fe785c596244",
   "metadata": {},
   "outputs": [
    {
     "data": {
      "text/plain": [
       "LogisticRegression()"
      ]
     },
     "execution_count": 171,
     "metadata": {},
     "output_type": "execute_result"
    }
   ],
   "source": [
    "\n",
    "logreg = LogisticRegression()\n",
    "logreg.fit(Z_train,y_train)\n"
   ]
  },
  {
   "cell_type": "code",
   "execution_count": 172,
   "id": "be585360-e938-4c2f-b7a9-99eb1e0fb6aa",
   "metadata": {},
   "outputs": [
    {
     "data": {
      "text/plain": [
       "0.9412249382037902"
      ]
     },
     "execution_count": 172,
     "metadata": {},
     "output_type": "execute_result"
    }
   ],
   "source": [
    "logreg.score(Z_train,y_train)\n"
   ]
  },
  {
   "cell_type": "code",
   "execution_count": 173,
   "id": "4f486153-746e-4e79-92cf-5c424f3e5f9a",
   "metadata": {
    "tags": []
   },
   "outputs": [
    {
     "data": {
      "text/plain": [
       "0.7829489291598023"
      ]
     },
     "execution_count": 173,
     "metadata": {},
     "output_type": "execute_result"
    }
   ],
   "source": [
    "logreg.score(Z_test,y_test)"
   ]
  },
  {
   "cell_type": "code",
   "execution_count": 174,
   "id": "b9c2af67-8ccf-4f17-8672-d8730f0013bb",
   "metadata": {},
   "outputs": [
    {
     "data": {
      "text/plain": [
       "<sklearn.metrics._plot.confusion_matrix.ConfusionMatrixDisplay at 0x7fda17560c10>"
      ]
     },
     "execution_count": 174,
     "metadata": {},
     "output_type": "execute_result"
    },
    {
     "data": {
      "image/png": "[encoded data removed]",
      "text/plain": [
       "<Figure size 640x480 with 2 Axes>"
      ]
     },
     "metadata": {},
     "output_type": "display_data"
    }
   ],
   "source": [
    "ConfusionMatrixDisplay.from_estimator(logreg, Z_test, y_test, cmap=\"Blues\")"
   ]
  },
  {
   "cell_type": "code",
   "execution_count": 175,
   "id": "e67630ce-9925-4cb7-89b3-09236b86dbe8",
   "metadata": {},
   "outputs": [],
   "source": [
    "preds = logreg.predict(Z_test)\n",
    "\n",
    "tn, fp, fn, tp = confusion_matrix(y_test, preds).ravel()"
   ]
  },
  {
   "cell_type": "code",
   "execution_count": 176,
   "id": "9b147b0e-a73d-43fe-a531-e0f2a88e284e",
   "metadata": {},
   "outputs": [
    {
     "name": "stdout",
     "output_type": "stream",
     "text": [
      "Specificity: 0.7544006705783739\n",
      "Sensativity: 0.8105263157894737\n",
      "Accuracy: 0.7829489291598023\n",
      "Precision: 0.7735703245749613\n"
     ]
    }
   ],
   "source": [
    "spec = tn / (tn + fp)\n",
    "\n",
    "sens = tp / (tp + fn)\n",
    "\n",
    "acc = (tp+tn) / (tp + tn+ fn+fp)\n",
    "\n",
    "prec = tp/ (tp+fp)\n",
    "\n",
    "print(f'Specificity: {spec}')\n",
    "\n",
    "print(f'Sensativity: {sens}')\n",
    "\n",
    "print(f'Accuracy: {acc}')\n",
    "\n",
    "print(f'Precision: {prec}')"
   ]
  },
  {
   "cell_type": "markdown",
   "id": "0ac861c8-7e65-4408-ba68-ec44e17ade70",
   "metadata": {
    "jp-MarkdownHeadingCollapsed": true,
    "tags": []
   },
   "source": [
    "# inference on Text"
   ]
  },
  {
   "cell_type": "code",
   "execution_count": 177,
   "id": "68771b65-cc85-4684-8a0c-78b309f91108",
   "metadata": {
    "tags": []
   },
   "outputs": [
    {
     "data": {
      "text/plain": [
       "array([[-0.27017565, -0.04065217, -0.18346808, ..., -0.4183249 ,\n",
       "        -0.30818673, -0.15596851]])"
      ]
     },
     "execution_count": 177,
     "metadata": {},
     "output_type": "execute_result"
    }
   ],
   "source": [
    "logreg.coef_"
   ]
  },
  {
   "cell_type": "code",
   "execution_count": 178,
   "id": "5e53549b-c8aa-4928-921a-de2182bdf9af",
   "metadata": {},
   "outputs": [
    {
     "data": {
      "text/plain": [
       "array([0.33620279])"
      ]
     },
     "execution_count": 178,
     "metadata": {},
     "output_type": "execute_result"
    }
   ],
   "source": [
    "logreg.intercept_"
   ]
  },
  {
   "cell_type": "code",
   "execution_count": 179,
   "id": "3e863ea7-38a7-4a12-ba1b-887a9424e2bb",
   "metadata": {
    "tags": []
   },
   "outputs": [
    {
     "data": {
      "text/plain": [
       "array(['00', '000', '00am', ..., 'åre', 'åreskutan', 'êtes'], dtype=object)"
      ]
     },
     "execution_count": 179,
     "metadata": {},
     "output_type": "execute_result"
    }
   ],
   "source": [
    "cvec.get_feature_names_out()"
   ]
  },
  {
   "cell_type": "code",
   "execution_count": 180,
   "id": "f3d7a292-e528-4f33-b8f1-852969d015e9",
   "metadata": {},
   "outputs": [
    {
     "name": "stderr",
     "output_type": "stream",
     "text": [
      "/opt/anaconda3/lib/python3.9/site-packages/sklearn/utils/deprecation.py:87: FutureWarning: Function get_feature_names is deprecated; get_feature_names is deprecated in 1.0 and will be removed in 1.2. Please use get_feature_names_out instead.\n",
      "  warnings.warn(msg, category=FutureWarning)\n"
     ]
    },
    {
     "data": {
      "text/html": [
       "<div>\n",
       "<style scoped>\n",
       "    .dataframe tbody tr th:only-of-type {\n",
       "        vertical-align: middle;\n",
       "    }\n",
       "\n",
       "    .dataframe tbody tr th {\n",
       "        vertical-align: top;\n",
       "    }\n",
       "\n",
       "    .dataframe thead th {\n",
       "        text-align: right;\n",
       "    }\n",
       "</style>\n",
       "<table border=\"1\" class=\"dataframe\">\n",
       "  <thead>\n",
       "    <tr style=\"text-align: right;\">\n",
       "      <th></th>\n",
       "      <th>feature</th>\n",
       "      <th>coef</th>\n",
       "    </tr>\n",
       "  </thead>\n",
       "  <tbody>\n",
       "    <tr>\n",
       "      <th>1545</th>\n",
       "      <td>board</td>\n",
       "      <td>4.161569</td>\n",
       "    </tr>\n",
       "    <tr>\n",
       "      <th>8321</th>\n",
       "      <td>snowboard</td>\n",
       "      <td>3.894478</td>\n",
       "    </tr>\n",
       "    <tr>\n",
       "      <th>8329</th>\n",
       "      <td>snowboarding</td>\n",
       "      <td>3.296613</td>\n",
       "    </tr>\n",
       "    <tr>\n",
       "      <th>1796</th>\n",
       "      <td>burton</td>\n",
       "      <td>2.935364</td>\n",
       "    </tr>\n",
       "    <tr>\n",
       "      <th>7519</th>\n",
       "      <td>riding</td>\n",
       "      <td>2.405202</td>\n",
       "    </tr>\n",
       "  </tbody>\n",
       "</table>\n",
       "</div>"
      ],
      "text/plain": [
       "           feature      coef\n",
       "1545         board  4.161569\n",
       "8321     snowboard  3.894478\n",
       "8329  snowboarding  3.296613\n",
       "1796        burton  2.935364\n",
       "7519        riding  2.405202"
      ]
     },
     "execution_count": 180,
     "metadata": {},
     "output_type": "execute_result"
    }
   ],
   "source": [
    "fm_df=pd.DataFrame({'feature' : cvec.get_feature_names(), 'coef' : logreg.coef_[0]}).sort_values(by='coef', ascending=False)\n",
    "fm_df.head()"
   ]
  },
  {
   "cell_type": "code",
   "execution_count": 181,
   "id": "7be7dd0f-d78b-4b5b-94fe-65912a958fb3",
   "metadata": {},
   "outputs": [],
   "source": [
    "fm_df['weight']=np.exp(fm_df['coef'])"
   ]
  },
  {
   "cell_type": "code",
   "execution_count": 182,
   "id": "d0a1aa6d-8580-4c9e-b107-d1100303d4b1",
   "metadata": {},
   "outputs": [
    {
     "data": {
      "text/html": [
       "<div>\n",
       "<style scoped>\n",
       "    .dataframe tbody tr th:only-of-type {\n",
       "        vertical-align: middle;\n",
       "    }\n",
       "\n",
       "    .dataframe tbody tr th {\n",
       "        vertical-align: top;\n",
       "    }\n",
       "\n",
       "    .dataframe thead th {\n",
       "        text-align: right;\n",
       "    }\n",
       "</style>\n",
       "<table border=\"1\" class=\"dataframe\">\n",
       "  <thead>\n",
       "    <tr style=\"text-align: right;\">\n",
       "      <th></th>\n",
       "      <th>feature</th>\n",
       "      <th>coef</th>\n",
       "      <th>weight</th>\n",
       "    </tr>\n",
       "  </thead>\n",
       "  <tbody>\n",
       "    <tr>\n",
       "      <th>1545</th>\n",
       "      <td>board</td>\n",
       "      <td>4.161569</td>\n",
       "      <td>64.172123</td>\n",
       "    </tr>\n",
       "    <tr>\n",
       "      <th>8321</th>\n",
       "      <td>snowboard</td>\n",
       "      <td>3.894478</td>\n",
       "      <td>49.130414</td>\n",
       "    </tr>\n",
       "    <tr>\n",
       "      <th>8329</th>\n",
       "      <td>snowboarding</td>\n",
       "      <td>3.296613</td>\n",
       "      <td>27.020975</td>\n",
       "    </tr>\n",
       "    <tr>\n",
       "      <th>1796</th>\n",
       "      <td>burton</td>\n",
       "      <td>2.935364</td>\n",
       "      <td>18.828358</td>\n",
       "    </tr>\n",
       "    <tr>\n",
       "      <th>7519</th>\n",
       "      <td>riding</td>\n",
       "      <td>2.405202</td>\n",
       "      <td>11.080670</td>\n",
       "    </tr>\n",
       "  </tbody>\n",
       "</table>\n",
       "</div>"
      ],
      "text/plain": [
       "           feature      coef     weight\n",
       "1545         board  4.161569  64.172123\n",
       "8321     snowboard  3.894478  49.130414\n",
       "8329  snowboarding  3.296613  27.020975\n",
       "1796        burton  2.935364  18.828358\n",
       "7519        riding  2.405202  11.080670"
      ]
     },
     "execution_count": 182,
     "metadata": {},
     "output_type": "execute_result"
    }
   ],
   "source": [
    "fm_df.head()"
   ]
  },
  {
   "cell_type": "code",
   "execution_count": 183,
   "id": "108c1f2a-f25a-473d-be25-3f1d578ff091",
   "metadata": {
    "tags": []
   },
   "outputs": [],
   "source": [
    "fm_snow=fm_df.head(15).copy()\n",
    "fm_ski=fm_df.tail(15).copy()"
   ]
  },
  {
   "cell_type": "code",
   "execution_count": 184,
   "id": "b1ed8f0e-2779-4d93-ab23-fc78b58f1b70",
   "metadata": {
    "tags": []
   },
   "outputs": [
    {
     "data": {
      "text/plain": [
       "''"
      ]
     },
     "execution_count": 184,
     "metadata": {},
     "output_type": "execute_result"
    },
    {
     "data": {
      "image/png": "[encoded data removed]",
      "text/plain": [
       "<Figure size 640x480 with 1 Axes>"
      ]
     },
     "metadata": {},
     "output_type": "display_data"
    }
   ],
   "source": [
    "sns.barplot(x=fm_snow['feature'], y=fm_snow['weight'], color='blue')\n",
    "plt.xticks(rotation=-70);\n",
    "\n",
    "plt.title('Weight of a Word (keeping common)', fontsize=20)\n",
    "plt.xlabel('Word', fontsize=15)\n",
    "plt.tick_params(labelsize=12)\n",
    "plt.xticks(rotation=-70)\n",
    "plt.savefig('./images/snow_weight_common.png')\n",
    ";"
   ]
  },
  {
   "cell_type": "code",
   "execution_count": 185,
   "id": "e0207df9-7997-4f56-b964-58a4935759fa",
   "metadata": {},
   "outputs": [
    {
     "data": {
      "text/plain": [
       "''"
      ]
     },
     "execution_count": 185,
     "metadata": {},
     "output_type": "execute_result"
    },
    {
     "data": {
      "image/png": "[encoded data removed]",
      "text/plain": [
       "<Figure size 640x480 with 1 Axes>"
      ]
     },
     "metadata": {},
     "output_type": "display_data"
    }
   ],
   "source": [
    "sns.barplot(x=fm_ski['feature'], y=fm_ski['weight'], color='blue')\n",
    "plt.xticks(rotation=-70);\n",
    "\n",
    "plt.title('Weight of a Word (keeping common)', fontsize=20)\n",
    "plt.xlabel('Word', fontsize=15)\n",
    "plt.tick_params(labelsize=12)\n",
    "plt.xticks(rotation=-70)\n",
    "plt.savefig('./images/ski_weight_common.png')\n",
    ";"
   ]
  },
  {
   "cell_type": "markdown",
   "id": "29fdb289-41f6-43d2-8047-dc2a4cff9f35",
   "metadata": {
    "jp-MarkdownHeadingCollapsed": true,
    "tags": []
   },
   "source": [
    "# inference on Text"
   ]
  },
  {
   "cell_type": "code",
   "execution_count": 176,
   "id": "1e9e3b90-37ae-4785-a2db-9e857c22f0d4",
   "metadata": {
    "tags": []
   },
   "outputs": [
    {
     "data": {
      "text/plain": [
       "array([[-0.27017565, -0.04065217, -0.18346808, ..., -0.4183249 ,\n",
       "        -0.30818673, -0.15596851]])"
      ]
     },
     "execution_count": 176,
     "metadata": {},
     "output_type": "execute_result"
    }
   ],
   "source": [
    "logreg.coef_"
   ]
  },
  {
   "cell_type": "code",
   "execution_count": 177,
   "id": "ea474dff-51e8-4047-885f-710e279c9995",
   "metadata": {},
   "outputs": [
    {
     "data": {
      "text/plain": [
       "array([0.33620279])"
      ]
     },
     "execution_count": 177,
     "metadata": {},
     "output_type": "execute_result"
    }
   ],
   "source": [
    "logreg.intercept_"
   ]
  },
  {
   "cell_type": "code",
   "execution_count": 178,
   "id": "ac480670-98d6-495a-988e-7c1a19f59363",
   "metadata": {
    "tags": []
   },
   "outputs": [
    {
     "data": {
      "text/plain": [
       "array(['00', '000', '00am', ..., 'åre', 'åreskutan', 'êtes'], dtype=object)"
      ]
     },
     "execution_count": 178,
     "metadata": {},
     "output_type": "execute_result"
    }
   ],
   "source": [
    "cvec.get_feature_names_out()"
   ]
  },
  {
   "cell_type": "code",
   "execution_count": 179,
   "id": "7416920e-d141-4f8f-8ae5-6e20a5b1e259",
   "metadata": {},
   "outputs": [
    {
     "name": "stderr",
     "output_type": "stream",
     "text": [
      "/opt/anaconda3/lib/python3.9/site-packages/sklearn/utils/deprecation.py:87: FutureWarning: Function get_feature_names is deprecated; get_feature_names is deprecated in 1.0 and will be removed in 1.2. Please use get_feature_names_out instead.\n",
      "  warnings.warn(msg, category=FutureWarning)\n"
     ]
    },
    {
     "data": {
      "text/html": [
       "<div>\n",
       "<style scoped>\n",
       "    .dataframe tbody tr th:only-of-type {\n",
       "        vertical-align: middle;\n",
       "    }\n",
       "\n",
       "    .dataframe tbody tr th {\n",
       "        vertical-align: top;\n",
       "    }\n",
       "\n",
       "    .dataframe thead th {\n",
       "        text-align: right;\n",
       "    }\n",
       "</style>\n",
       "<table border=\"1\" class=\"dataframe\">\n",
       "  <thead>\n",
       "    <tr style=\"text-align: right;\">\n",
       "      <th></th>\n",
       "      <th>feature</th>\n",
       "      <th>coef</th>\n",
       "    </tr>\n",
       "  </thead>\n",
       "  <tbody>\n",
       "    <tr>\n",
       "      <th>1545</th>\n",
       "      <td>board</td>\n",
       "      <td>4.161569</td>\n",
       "    </tr>\n",
       "    <tr>\n",
       "      <th>8321</th>\n",
       "      <td>snowboard</td>\n",
       "      <td>3.894478</td>\n",
       "    </tr>\n",
       "    <tr>\n",
       "      <th>8329</th>\n",
       "      <td>snowboarding</td>\n",
       "      <td>3.296613</td>\n",
       "    </tr>\n",
       "    <tr>\n",
       "      <th>1796</th>\n",
       "      <td>burton</td>\n",
       "      <td>2.935364</td>\n",
       "    </tr>\n",
       "    <tr>\n",
       "      <th>7519</th>\n",
       "      <td>riding</td>\n",
       "      <td>2.405202</td>\n",
       "    </tr>\n",
       "  </tbody>\n",
       "</table>\n",
       "</div>"
      ],
      "text/plain": [
       "           feature      coef\n",
       "1545         board  4.161569\n",
       "8321     snowboard  3.894478\n",
       "8329  snowboarding  3.296613\n",
       "1796        burton  2.935364\n",
       "7519        riding  2.405202"
      ]
     },
     "execution_count": 179,
     "metadata": {},
     "output_type": "execute_result"
    }
   ],
   "source": [
    "fm_df=pd.DataFrame({'feature' : cvec.get_feature_names(), 'coef' : logreg.coef_[0]}).sort_values(by='coef', ascending=False)\n",
    "fm_df.head()"
   ]
  },
  {
   "cell_type": "code",
   "execution_count": 180,
   "id": "f5266200-b7cc-435f-9bd9-b8dbd6615c4a",
   "metadata": {},
   "outputs": [],
   "source": [
    "fm_df['weight']=np.exp(fm_df['coef'])"
   ]
  },
  {
   "cell_type": "code",
   "execution_count": 181,
   "id": "17ac0633-e074-4549-9950-c3c07bb6608c",
   "metadata": {},
   "outputs": [
    {
     "data": {
      "text/html": [
       "<div>\n",
       "<style scoped>\n",
       "    .dataframe tbody tr th:only-of-type {\n",
       "        vertical-align: middle;\n",
       "    }\n",
       "\n",
       "    .dataframe tbody tr th {\n",
       "        vertical-align: top;\n",
       "    }\n",
       "\n",
       "    .dataframe thead th {\n",
       "        text-align: right;\n",
       "    }\n",
       "</style>\n",
       "<table border=\"1\" class=\"dataframe\">\n",
       "  <thead>\n",
       "    <tr style=\"text-align: right;\">\n",
       "      <th></th>\n",
       "      <th>feature</th>\n",
       "      <th>coef</th>\n",
       "      <th>weight</th>\n",
       "    </tr>\n",
       "  </thead>\n",
       "  <tbody>\n",
       "    <tr>\n",
       "      <th>1545</th>\n",
       "      <td>board</td>\n",
       "      <td>4.161569</td>\n",
       "      <td>64.172123</td>\n",
       "    </tr>\n",
       "    <tr>\n",
       "      <th>8321</th>\n",
       "      <td>snowboard</td>\n",
       "      <td>3.894478</td>\n",
       "      <td>49.130414</td>\n",
       "    </tr>\n",
       "    <tr>\n",
       "      <th>8329</th>\n",
       "      <td>snowboarding</td>\n",
       "      <td>3.296613</td>\n",
       "      <td>27.020975</td>\n",
       "    </tr>\n",
       "    <tr>\n",
       "      <th>1796</th>\n",
       "      <td>burton</td>\n",
       "      <td>2.935364</td>\n",
       "      <td>18.828358</td>\n",
       "    </tr>\n",
       "    <tr>\n",
       "      <th>7519</th>\n",
       "      <td>riding</td>\n",
       "      <td>2.405202</td>\n",
       "      <td>11.080670</td>\n",
       "    </tr>\n",
       "  </tbody>\n",
       "</table>\n",
       "</div>"
      ],
      "text/plain": [
       "           feature      coef     weight\n",
       "1545         board  4.161569  64.172123\n",
       "8321     snowboard  3.894478  49.130414\n",
       "8329  snowboarding  3.296613  27.020975\n",
       "1796        burton  2.935364  18.828358\n",
       "7519        riding  2.405202  11.080670"
      ]
     },
     "execution_count": 181,
     "metadata": {},
     "output_type": "execute_result"
    }
   ],
   "source": [
    "fm_df.head()"
   ]
  },
  {
   "cell_type": "code",
   "execution_count": 182,
   "id": "a45b5ab7-9b2c-4822-a438-a93f01a3ba5f",
   "metadata": {
    "tags": []
   },
   "outputs": [],
   "source": [
    "fm_plot=fm_df.head(15).copy()"
   ]
  },
  {
   "cell_type": "code",
   "execution_count": 183,
   "id": "2d66f402-58fa-4040-b66f-807b5ec5599d",
   "metadata": {
    "jupyter": {
     "source_hidden": true
    },
    "tags": []
   },
   "outputs": [
    {
     "data": {
      "image/png": "[encoded data removed]",
      "text/plain": [
       "<Figure size 640x480 with 1 Axes>"
      ]
     },
     "metadata": {},
     "output_type": "display_data"
    }
   ],
   "source": [
    "sns.barplot(x=fm_plot['feature'], y=fm_plot['coef'], color='blue')\n",
    "plt.xticks(rotation=-70);"
   ]
  },
  {
   "cell_type": "markdown",
   "id": "8216ceb3-2f49-418a-a7ef-0db0cd849fbf",
   "metadata": {
    "jp-MarkdownHeadingCollapsed": true,
    "tags": []
   },
   "source": [
    "# Logistic on no stopwords"
   ]
  },
  {
   "cell_type": "code",
   "execution_count": 95,
   "id": "6ca291ce-3a8a-40cb-8e58-e1c763a878fe",
   "metadata": {},
   "outputs": [],
   "source": [
    "df_logreg=df[df['no_stopwords'].notnull()]"
   ]
  },
  {
   "cell_type": "code",
   "execution_count": 96,
   "id": "856e0d75-8854-4bd7-a469-d5a393f7802d",
   "metadata": {},
   "outputs": [],
   "source": [
    "X=df_logreg['no_stopwords']\n",
    "y=df_logreg['subreddit']"
   ]
  },
  {
   "cell_type": "code",
   "execution_count": 97,
   "id": "cfbd169c-ea50-4413-80bd-40947bec3fd0",
   "metadata": {},
   "outputs": [],
   "source": [
    "X_train, X_test, y_train, y_test = train_test_split(X,\n",
    "                                                    y,\n",
    "                                                    random_state=23)"
   ]
  },
  {
   "cell_type": "code",
   "execution_count": 98,
   "id": "e131d96e-51c1-4c1d-bfb1-31da1441cb35",
   "metadata": {
    "tags": []
   },
   "outputs": [],
   "source": [
    "cvec =  CountVectorizer()\n",
    "\n",
    "Z_train = cvec.fit_transform(X_train)\n",
    "Z_test = cvec.transform(X_test)"
   ]
  },
  {
   "cell_type": "code",
   "execution_count": 99,
   "id": "fe002530-e2d7-4690-bddc-fd7f0f784463",
   "metadata": {},
   "outputs": [
    {
     "data": {
      "text/plain": [
       "LogisticRegression()"
      ]
     },
     "execution_count": 99,
     "metadata": {},
     "output_type": "execute_result"
    }
   ],
   "source": [
    "\n",
    "logreg = LogisticRegression()\n",
    "logreg.fit(Z_train,y_train)\n"
   ]
  },
  {
   "cell_type": "code",
   "execution_count": 100,
   "id": "eeba62ca-5e12-4f6e-8d91-969e5273a33b",
   "metadata": {},
   "outputs": [
    {
     "data": {
      "text/plain": [
       "0.9037772263578715"
      ]
     },
     "execution_count": 100,
     "metadata": {},
     "output_type": "execute_result"
    }
   ],
   "source": [
    "logreg.score(Z_train,y_train)\n"
   ]
  },
  {
   "cell_type": "code",
   "execution_count": 101,
   "id": "7d3fd964-270e-4b26-8a77-e7e48d8087a6",
   "metadata": {
    "tags": []
   },
   "outputs": [
    {
     "data": {
      "text/plain": [
       "0.6672178586192642"
      ]
     },
     "execution_count": 101,
     "metadata": {},
     "output_type": "execute_result"
    }
   ],
   "source": [
    "logreg.score(Z_test,y_test)"
   ]
  },
  {
   "cell_type": "code",
   "execution_count": 102,
   "id": "f7ed854c-263f-462a-bd74-2b313a0b462b",
   "metadata": {},
   "outputs": [
    {
     "data": {
      "text/plain": [
       "<sklearn.metrics._plot.confusion_matrix.ConfusionMatrixDisplay at 0x7fda18a59790>"
      ]
     },
     "execution_count": 102,
     "metadata": {},
     "output_type": "execute_result"
    },
    {
     "data": {
      "image/png": "[encoded data removed]",
      "text/plain": [
       "<Figure size 640x480 with 2 Axes>"
      ]
     },
     "metadata": {},
     "output_type": "display_data"
    }
   ],
   "source": [
    "ConfusionMatrixDisplay.from_estimator(logreg, Z_test, y_test, cmap=\"Blues\")"
   ]
  },
  {
   "cell_type": "code",
   "execution_count": 103,
   "id": "5989c187-47f6-42b5-a6ff-30b5cdf05557",
   "metadata": {},
   "outputs": [],
   "source": [
    "preds = logreg.predict(Z_test)\n",
    "\n",
    "tn, fp, fn, tp = confusion_matrix(y_test, preds).ravel()"
   ]
  },
  {
   "cell_type": "code",
   "execution_count": 104,
   "id": "f2c497a7-5d15-4e38-bf65-f9ead2c91870",
   "metadata": {},
   "outputs": [
    {
     "name": "stdout",
     "output_type": "stream",
     "text": [
      "Specificity: 0.6377759607522485\n",
      "Sensativity: 0.697324414715719\n",
      "Accuracy: 0.6672178586192642\n",
      "Precision: 0.6530931871574002\n"
     ]
    }
   ],
   "source": [
    "spec = tn / (tn + fp)\n",
    "\n",
    "sens = tp / (tp + fn)\n",
    "\n",
    "acc = (tp+tn) / (tp + tn+ fn+fp)\n",
    "\n",
    "prec = tp/ (tp+fp)\n",
    "\n",
    "print(f'Specificity: {spec}')\n",
    "\n",
    "print(f'Sensativity: {sens}')\n",
    "\n",
    "print(f'Accuracy: {acc}')\n",
    "\n",
    "print(f'Precision: {prec}')"
   ]
  },
  {
   "cell_type": "markdown",
   "id": "078ba8bf-375a-4da7-8b46-bc5972638313",
   "metadata": {
    "jp-MarkdownHeadingCollapsed": true,
    "tags": []
   },
   "source": [
    "# Interefence on no stopwords"
   ]
  },
  {
   "cell_type": "code",
   "execution_count": 105,
   "id": "1191f951-3e6f-4671-959a-9d30c8c82896",
   "metadata": {
    "tags": []
   },
   "outputs": [
    {
     "data": {
      "text/plain": [
       "array([[-0.47691482, -0.16799483, -0.10674938, ..., -0.45170873,\n",
       "        -0.28459846, -0.35684484]])"
      ]
     },
     "execution_count": 105,
     "metadata": {},
     "output_type": "execute_result"
    }
   ],
   "source": [
    "logreg.coef_"
   ]
  },
  {
   "cell_type": "code",
   "execution_count": 106,
   "id": "c6adfaa5-8f76-43fb-b095-598932822c02",
   "metadata": {},
   "outputs": [
    {
     "data": {
      "text/plain": [
       "array([0.26630828])"
      ]
     },
     "execution_count": 106,
     "metadata": {},
     "output_type": "execute_result"
    }
   ],
   "source": [
    "logreg.intercept_"
   ]
  },
  {
   "cell_type": "code",
   "execution_count": 107,
   "id": "2c20e9c0-6be6-429c-aef5-be22bf285f70",
   "metadata": {
    "tags": []
   },
   "outputs": [
    {
     "data": {
      "text/plain": [
       "array(['00', '000', '000ft', ..., 'åre', 'åreskutan', 'ötztal'],\n",
       "      dtype=object)"
      ]
     },
     "execution_count": 107,
     "metadata": {},
     "output_type": "execute_result"
    }
   ],
   "source": [
    "cvec.get_feature_names_out()"
   ]
  },
  {
   "cell_type": "code",
   "execution_count": 108,
   "id": "551d0985-d366-4cb5-a18f-a745b54efaf1",
   "metadata": {},
   "outputs": [
    {
     "name": "stderr",
     "output_type": "stream",
     "text": [
      "/opt/anaconda3/lib/python3.9/site-packages/sklearn/utils/deprecation.py:87: FutureWarning: Function get_feature_names is deprecated; get_feature_names is deprecated in 1.0 and will be removed in 1.2. Please use get_feature_names_out instead.\n",
      "  warnings.warn(msg, category=FutureWarning)\n"
     ]
    },
    {
     "data": {
      "text/html": [
       "<div>\n",
       "<style scoped>\n",
       "    .dataframe tbody tr th:only-of-type {\n",
       "        vertical-align: middle;\n",
       "    }\n",
       "\n",
       "    .dataframe tbody tr th {\n",
       "        vertical-align: top;\n",
       "    }\n",
       "\n",
       "    .dataframe thead th {\n",
       "        text-align: right;\n",
       "    }\n",
       "</style>\n",
       "<table border=\"1\" class=\"dataframe\">\n",
       "  <thead>\n",
       "    <tr style=\"text-align: right;\">\n",
       "      <th></th>\n",
       "      <th>feature</th>\n",
       "      <th>coef</th>\n",
       "    </tr>\n",
       "  </thead>\n",
       "  <tbody>\n",
       "    <tr>\n",
       "      <th>1810</th>\n",
       "      <td>burton</td>\n",
       "      <td>3.056522</td>\n",
       "    </tr>\n",
       "    <tr>\n",
       "      <th>7436</th>\n",
       "      <td>riding</td>\n",
       "      <td>2.490930</td>\n",
       "    </tr>\n",
       "    <tr>\n",
       "      <th>7425</th>\n",
       "      <td>ride</td>\n",
       "      <td>2.094684</td>\n",
       "    </tr>\n",
       "    <tr>\n",
       "      <th>1907</th>\n",
       "      <td>capita</td>\n",
       "      <td>2.030704</td>\n",
       "    </tr>\n",
       "    <tr>\n",
       "      <th>7822</th>\n",
       "      <td>session</td>\n",
       "      <td>1.857471</td>\n",
       "    </tr>\n",
       "  </tbody>\n",
       "</table>\n",
       "</div>"
      ],
      "text/plain": [
       "      feature      coef\n",
       "1810   burton  3.056522\n",
       "7436   riding  2.490930\n",
       "7425     ride  2.094684\n",
       "1907   capita  2.030704\n",
       "7822  session  1.857471"
      ]
     },
     "execution_count": 108,
     "metadata": {},
     "output_type": "execute_result"
    }
   ],
   "source": [
    "fm_df=pd.DataFrame({'feature' : cvec.get_feature_names(), 'coef' : logreg.coef_[0]}).sort_values(by='coef', ascending=False)\n",
    "fm_df.head()"
   ]
  },
  {
   "cell_type": "code",
   "execution_count": 109,
   "id": "845d4162-2c4e-4f7b-b0f4-4cc964eb7340",
   "metadata": {},
   "outputs": [
    {
     "data": {
      "text/html": [
       "<div>\n",
       "<style scoped>\n",
       "    .dataframe tbody tr th:only-of-type {\n",
       "        vertical-align: middle;\n",
       "    }\n",
       "\n",
       "    .dataframe tbody tr th {\n",
       "        vertical-align: top;\n",
       "    }\n",
       "\n",
       "    .dataframe thead th {\n",
       "        text-align: right;\n",
       "    }\n",
       "</style>\n",
       "<table border=\"1\" class=\"dataframe\">\n",
       "  <thead>\n",
       "    <tr style=\"text-align: right;\">\n",
       "      <th></th>\n",
       "      <th>feature</th>\n",
       "      <th>coef</th>\n",
       "      <th>weight</th>\n",
       "    </tr>\n",
       "  </thead>\n",
       "  <tbody>\n",
       "    <tr>\n",
       "      <th>1810</th>\n",
       "      <td>burton</td>\n",
       "      <td>3.056522</td>\n",
       "      <td>21.253512</td>\n",
       "    </tr>\n",
       "    <tr>\n",
       "      <th>7436</th>\n",
       "      <td>riding</td>\n",
       "      <td>2.490930</td>\n",
       "      <td>12.072502</td>\n",
       "    </tr>\n",
       "    <tr>\n",
       "      <th>7425</th>\n",
       "      <td>ride</td>\n",
       "      <td>2.094684</td>\n",
       "      <td>8.122870</td>\n",
       "    </tr>\n",
       "    <tr>\n",
       "      <th>1907</th>\n",
       "      <td>capita</td>\n",
       "      <td>2.030704</td>\n",
       "      <td>7.619449</td>\n",
       "    </tr>\n",
       "    <tr>\n",
       "      <th>7822</th>\n",
       "      <td>session</td>\n",
       "      <td>1.857471</td>\n",
       "      <td>6.407514</td>\n",
       "    </tr>\n",
       "  </tbody>\n",
       "</table>\n",
       "</div>"
      ],
      "text/plain": [
       "      feature      coef     weight\n",
       "1810   burton  3.056522  21.253512\n",
       "7436   riding  2.490930  12.072502\n",
       "7425     ride  2.094684   8.122870\n",
       "1907   capita  2.030704   7.619449\n",
       "7822  session  1.857471   6.407514"
      ]
     },
     "execution_count": 109,
     "metadata": {},
     "output_type": "execute_result"
    }
   ],
   "source": [
    "fm_df['weight']=np.exp(fm_df['coef'])\n",
    "fm_df.head()"
   ]
  },
  {
   "cell_type": "code",
   "execution_count": 110,
   "id": "31ebea9f-4deb-4a77-a733-b8f87dcedfaf",
   "metadata": {},
   "outputs": [],
   "source": [
    "fm_ski=fm_df.tail(15).copy()"
   ]
  },
  {
   "cell_type": "code",
   "execution_count": 111,
   "id": "d2b3f764-49ae-4205-a028-16578f0f28b7",
   "metadata": {},
   "outputs": [],
   "source": [
    "fm_snow=fm_df.head(15).copy()"
   ]
  },
  {
   "cell_type": "code",
   "execution_count": 112,
   "id": "aa41546e-852d-44df-ac79-3bedf201dde7",
   "metadata": {},
   "outputs": [
    {
     "data": {
      "text/plain": [
       "''"
      ]
     },
     "execution_count": 112,
     "metadata": {},
     "output_type": "execute_result"
    },
    {
     "data": {
      "image/png": "[encoded data removed]",
      "text/plain": [
       "<Figure size 640x480 with 1 Axes>"
      ]
     },
     "metadata": {},
     "output_type": "display_data"
    }
   ],
   "source": [
    "sns.barplot(x=fm_snow['feature'], y=fm_snow['weight'], color='blue')\n",
    "plt.xticks(rotation=-70);\n",
    "\n",
    "plt.title('Weight of a Word (removing common)', fontsize=20)\n",
    "plt.xlabel('Word', fontsize=15)\n",
    "plt.tick_params(labelsize=12)\n",
    "plt.xticks(rotation=-70)\n",
    "plt.tight_layout()\n",
    "plt.savefig('./images/snow_weight_no_common.png')\n",
    ";"
   ]
  },
  {
   "cell_type": "code",
   "execution_count": 113,
   "id": "dd21066d-a3de-46f0-8362-ee49c0116306",
   "metadata": {},
   "outputs": [
    {
     "data": {
      "text/plain": [
       "''"
      ]
     },
     "execution_count": 113,
     "metadata": {},
     "output_type": "execute_result"
    },
    {
     "data": {
      "image/png": "[encoded data removed]",
      "text/plain": [
       "<Figure size 640x480 with 1 Axes>"
      ]
     },
     "metadata": {},
     "output_type": "display_data"
    }
   ],
   "source": [
    "sns.barplot(x=fm_ski['feature'], y=fm_ski['weight'], color='blue')\n",
    "plt.xticks(rotation=-70);\n",
    "\n",
    "plt.title('Weight of a Word (removing common)', fontsize=20)\n",
    "plt.xlabel('Word', fontsize=15)\n",
    "plt.tick_params(labelsize=12)\n",
    "plt.xticks(rotation=-70)\n",
    "plt.tight_layout()\n",
    "plt.savefig('./images/ski_weight_no_common.png')\n",
    ";"
   ]
  },
  {
   "cell_type": "markdown",
   "id": "1f15ee23-3613-4fa1-8474-37d8feb15172",
   "metadata": {
    "jp-MarkdownHeadingCollapsed": true,
    "tags": []
   },
   "source": [
    "#  Logistic Text,include text length"
   ]
  },
  {
   "cell_type": "code",
   "execution_count": 114,
   "id": "28e11443-0552-4d5c-9a83-f3c309d9dd43",
   "metadata": {},
   "outputs": [],
   "source": [
    "df_text=df[df['text'].notnull()]"
   ]
  },
  {
   "cell_type": "code",
   "execution_count": 115,
   "id": "ed048328-556e-45c4-a312-56468f48c232",
   "metadata": {},
   "outputs": [],
   "source": [
    "X=df_text['text']"
   ]
  },
  {
   "cell_type": "code",
   "execution_count": 116,
   "id": "e3059e23-cf0a-4f3c-8082-1fc522112622",
   "metadata": {},
   "outputs": [],
   "source": [
    "cvec = CountVectorizer(stop_words= 'english')"
   ]
  },
  {
   "cell_type": "code",
   "execution_count": 117,
   "id": "25145e33-945d-4349-adb9-9666ebc67a00",
   "metadata": {},
   "outputs": [
    {
     "data": {
      "text/plain": [
       "CountVectorizer(stop_words='english')"
      ]
     },
     "execution_count": 117,
     "metadata": {},
     "output_type": "execute_result"
    }
   ],
   "source": [
    "cvec.fit(X)"
   ]
  },
  {
   "cell_type": "code",
   "execution_count": 118,
   "id": "38b89cbc-6eca-40fe-9cab-19a0c3b93bc6",
   "metadata": {},
   "outputs": [],
   "source": [
    "X = cvec.transform(X)"
   ]
  },
  {
   "cell_type": "code",
   "execution_count": 119,
   "id": "2efb4057-a73c-4b15-9693-d9e4e943b88a",
   "metadata": {},
   "outputs": [
    {
     "data": {
      "text/plain": [
       "(9710, 11485)"
      ]
     },
     "execution_count": 119,
     "metadata": {},
     "output_type": "execute_result"
    }
   ],
   "source": [
    "X.shape"
   ]
  },
  {
   "cell_type": "code",
   "execution_count": 120,
   "id": "6f1218a3-f37f-47d1-80c2-6b36d5e54f21",
   "metadata": {},
   "outputs": [
    {
     "data": {
      "text/plain": [
       "matrix([[0, 0, 0, ..., 0, 0, 0],\n",
       "        [0, 0, 0, ..., 0, 0, 0],\n",
       "        [0, 0, 0, ..., 0, 0, 0],\n",
       "        ...,\n",
       "        [0, 0, 0, ..., 0, 0, 0],\n",
       "        [0, 0, 0, ..., 0, 0, 0],\n",
       "        [0, 0, 0, ..., 0, 0, 0]])"
      ]
     },
     "execution_count": 120,
     "metadata": {},
     "output_type": "execute_result"
    }
   ],
   "source": [
    "X.todense()"
   ]
  },
  {
   "cell_type": "code",
   "execution_count": 121,
   "id": "4b48bf5e-efba-4112-a723-18d165667b3e",
   "metadata": {},
   "outputs": [
    {
     "name": "stderr",
     "output_type": "stream",
     "text": [
      "/opt/anaconda3/lib/python3.9/site-packages/sklearn/utils/deprecation.py:87: FutureWarning: Function get_feature_names is deprecated; get_feature_names is deprecated in 1.0 and will be removed in 1.2. Please use get_feature_names_out instead.\n",
      "  warnings.warn(msg, category=FutureWarning)\n"
     ]
    }
   ],
   "source": [
    "X = pd.DataFrame(X.todense(), \n",
    "                          columns=cvec.get_feature_names())"
   ]
  },
  {
   "cell_type": "code",
   "execution_count": 122,
   "id": "22b7fbec-7d6a-4221-a84f-f822b707f759",
   "metadata": {},
   "outputs": [
    {
     "data": {
      "text/html": [
       "<div>\n",
       "<style scoped>\n",
       "    .dataframe tbody tr th:only-of-type {\n",
       "        vertical-align: middle;\n",
       "    }\n",
       "\n",
       "    .dataframe tbody tr th {\n",
       "        vertical-align: top;\n",
       "    }\n",
       "\n",
       "    .dataframe thead th {\n",
       "        text-align: right;\n",
       "    }\n",
       "</style>\n",
       "<table border=\"1\" class=\"dataframe\">\n",
       "  <thead>\n",
       "    <tr style=\"text-align: right;\">\n",
       "      <th></th>\n",
       "      <th>00</th>\n",
       "      <th>000</th>\n",
       "      <th>000ft</th>\n",
       "      <th>00am</th>\n",
       "      <th>01</th>\n",
       "      <th>02</th>\n",
       "      <th>03</th>\n",
       "      <th>04</th>\n",
       "      <th>05</th>\n",
       "      <th>05ish</th>\n",
       "      <th>...</th>\n",
       "      <th>zrddnty0wtq</th>\n",
       "      <th>zugspitze</th>\n",
       "      <th>zujtu9</th>\n",
       "      <th>zurs</th>\n",
       "      <th>zwitserland</th>\n",
       "      <th>zx100</th>\n",
       "      <th>åre</th>\n",
       "      <th>åreskutan</th>\n",
       "      <th>êtes</th>\n",
       "      <th>ötztal</th>\n",
       "    </tr>\n",
       "  </thead>\n",
       "  <tbody>\n",
       "    <tr>\n",
       "      <th>0</th>\n",
       "      <td>0</td>\n",
       "      <td>0</td>\n",
       "      <td>0</td>\n",
       "      <td>0</td>\n",
       "      <td>0</td>\n",
       "      <td>0</td>\n",
       "      <td>0</td>\n",
       "      <td>0</td>\n",
       "      <td>0</td>\n",
       "      <td>0</td>\n",
       "      <td>...</td>\n",
       "      <td>0</td>\n",
       "      <td>0</td>\n",
       "      <td>0</td>\n",
       "      <td>0</td>\n",
       "      <td>0</td>\n",
       "      <td>0</td>\n",
       "      <td>0</td>\n",
       "      <td>0</td>\n",
       "      <td>0</td>\n",
       "      <td>0</td>\n",
       "    </tr>\n",
       "    <tr>\n",
       "      <th>1</th>\n",
       "      <td>0</td>\n",
       "      <td>0</td>\n",
       "      <td>0</td>\n",
       "      <td>0</td>\n",
       "      <td>0</td>\n",
       "      <td>0</td>\n",
       "      <td>0</td>\n",
       "      <td>0</td>\n",
       "      <td>0</td>\n",
       "      <td>0</td>\n",
       "      <td>...</td>\n",
       "      <td>0</td>\n",
       "      <td>0</td>\n",
       "      <td>0</td>\n",
       "      <td>0</td>\n",
       "      <td>0</td>\n",
       "      <td>0</td>\n",
       "      <td>0</td>\n",
       "      <td>0</td>\n",
       "      <td>0</td>\n",
       "      <td>0</td>\n",
       "    </tr>\n",
       "    <tr>\n",
       "      <th>2</th>\n",
       "      <td>0</td>\n",
       "      <td>0</td>\n",
       "      <td>0</td>\n",
       "      <td>0</td>\n",
       "      <td>0</td>\n",
       "      <td>0</td>\n",
       "      <td>0</td>\n",
       "      <td>0</td>\n",
       "      <td>0</td>\n",
       "      <td>0</td>\n",
       "      <td>...</td>\n",
       "      <td>0</td>\n",
       "      <td>0</td>\n",
       "      <td>0</td>\n",
       "      <td>0</td>\n",
       "      <td>0</td>\n",
       "      <td>0</td>\n",
       "      <td>0</td>\n",
       "      <td>0</td>\n",
       "      <td>0</td>\n",
       "      <td>0</td>\n",
       "    </tr>\n",
       "    <tr>\n",
       "      <th>3</th>\n",
       "      <td>0</td>\n",
       "      <td>0</td>\n",
       "      <td>0</td>\n",
       "      <td>0</td>\n",
       "      <td>0</td>\n",
       "      <td>0</td>\n",
       "      <td>0</td>\n",
       "      <td>0</td>\n",
       "      <td>0</td>\n",
       "      <td>0</td>\n",
       "      <td>...</td>\n",
       "      <td>0</td>\n",
       "      <td>0</td>\n",
       "      <td>0</td>\n",
       "      <td>0</td>\n",
       "      <td>0</td>\n",
       "      <td>0</td>\n",
       "      <td>0</td>\n",
       "      <td>0</td>\n",
       "      <td>0</td>\n",
       "      <td>0</td>\n",
       "    </tr>\n",
       "    <tr>\n",
       "      <th>4</th>\n",
       "      <td>0</td>\n",
       "      <td>0</td>\n",
       "      <td>0</td>\n",
       "      <td>0</td>\n",
       "      <td>0</td>\n",
       "      <td>0</td>\n",
       "      <td>0</td>\n",
       "      <td>0</td>\n",
       "      <td>0</td>\n",
       "      <td>0</td>\n",
       "      <td>...</td>\n",
       "      <td>0</td>\n",
       "      <td>0</td>\n",
       "      <td>0</td>\n",
       "      <td>0</td>\n",
       "      <td>0</td>\n",
       "      <td>0</td>\n",
       "      <td>0</td>\n",
       "      <td>0</td>\n",
       "      <td>0</td>\n",
       "      <td>0</td>\n",
       "    </tr>\n",
       "  </tbody>\n",
       "</table>\n",
       "<p>5 rows × 11485 columns</p>\n",
       "</div>"
      ],
      "text/plain": [
       "   00  000  000ft  00am  01  02  03  04  05  05ish  ...  zrddnty0wtq  \\\n",
       "0   0    0      0     0   0   0   0   0   0      0  ...            0   \n",
       "1   0    0      0     0   0   0   0   0   0      0  ...            0   \n",
       "2   0    0      0     0   0   0   0   0   0      0  ...            0   \n",
       "3   0    0      0     0   0   0   0   0   0      0  ...            0   \n",
       "4   0    0      0     0   0   0   0   0   0      0  ...            0   \n",
       "\n",
       "   zugspitze  zujtu9  zurs  zwitserland  zx100  åre  åreskutan  êtes  ötztal  \n",
       "0          0       0     0            0      0    0          0     0       0  \n",
       "1          0       0     0            0      0    0          0     0       0  \n",
       "2          0       0     0            0      0    0          0     0       0  \n",
       "3          0       0     0            0      0    0          0     0       0  \n",
       "4          0       0     0            0      0    0          0     0       0  \n",
       "\n",
       "[5 rows x 11485 columns]"
      ]
     },
     "execution_count": 122,
     "metadata": {},
     "output_type": "execute_result"
    }
   ],
   "source": [
    "X.head()"
   ]
  },
  {
   "cell_type": "code",
   "execution_count": 123,
   "id": "5602c7dd-662f-4177-a1e6-e123031ceeaa",
   "metadata": {},
   "outputs": [],
   "source": [
    "df_vect=pd.concat([df,X], axis=1)\n"
   ]
  },
  {
   "cell_type": "code",
   "execution_count": 124,
   "id": "8fe53fc1-d161-4e08-8652-1e06670376bb",
   "metadata": {},
   "outputs": [
    {
     "data": {
      "text/html": [
       "<div>\n",
       "<style scoped>\n",
       "    .dataframe tbody tr th:only-of-type {\n",
       "        vertical-align: middle;\n",
       "    }\n",
       "\n",
       "    .dataframe tbody tr th {\n",
       "        vertical-align: top;\n",
       "    }\n",
       "\n",
       "    .dataframe thead th {\n",
       "        text-align: right;\n",
       "    }\n",
       "</style>\n",
       "<table border=\"1\" class=\"dataframe\">\n",
       "  <thead>\n",
       "    <tr style=\"text-align: right;\">\n",
       "      <th></th>\n",
       "      <th>subreddit</th>\n",
       "      <th>text</th>\n",
       "      <th>tokenized</th>\n",
       "      <th>no_stopwords</th>\n",
       "      <th>stemmed</th>\n",
       "      <th>length</th>\n",
       "      <th>00</th>\n",
       "      <th>000</th>\n",
       "      <th>000ft</th>\n",
       "      <th>00am</th>\n",
       "      <th>...</th>\n",
       "      <th>zrddnty0wtq</th>\n",
       "      <th>zugspitze</th>\n",
       "      <th>zujtu9</th>\n",
       "      <th>zurs</th>\n",
       "      <th>zwitserland</th>\n",
       "      <th>zx100</th>\n",
       "      <th>åre</th>\n",
       "      <th>åreskutan</th>\n",
       "      <th>êtes</th>\n",
       "      <th>ötztal</th>\n",
       "    </tr>\n",
       "  </thead>\n",
       "  <tbody>\n",
       "    <tr>\n",
       "      <th>0</th>\n",
       "      <td>1</td>\n",
       "      <td>Gear Advise: Freestyle 152 ?</td>\n",
       "      <td>['gear', 'advise', 'freestyle', '152']</td>\n",
       "      <td>gear advise freestyle 152</td>\n",
       "      <td>gear advis freestyl 152</td>\n",
       "      <td>5</td>\n",
       "      <td>0</td>\n",
       "      <td>0</td>\n",
       "      <td>0</td>\n",
       "      <td>0</td>\n",
       "      <td>...</td>\n",
       "      <td>0</td>\n",
       "      <td>0</td>\n",
       "      <td>0</td>\n",
       "      <td>0</td>\n",
       "      <td>0</td>\n",
       "      <td>0</td>\n",
       "      <td>0</td>\n",
       "      <td>0</td>\n",
       "      <td>0</td>\n",
       "      <td>0</td>\n",
       "    </tr>\n",
       "    <tr>\n",
       "      <th>1</th>\n",
       "      <td>1</td>\n",
       "      <td>Lamar ad with Cardiel’s 540 in a full on bliz...</td>\n",
       "      <td>['lamar', 'ad', 'with', 'cardiel', 's', '540',...</td>\n",
       "      <td>lamar ad cardiel 540 full blizzard</td>\n",
       "      <td>lamar ad with cardiel s 540 in a full on blizzard</td>\n",
       "      <td>10</td>\n",
       "      <td>0</td>\n",
       "      <td>0</td>\n",
       "      <td>0</td>\n",
       "      <td>0</td>\n",
       "      <td>...</td>\n",
       "      <td>0</td>\n",
       "      <td>0</td>\n",
       "      <td>0</td>\n",
       "      <td>0</td>\n",
       "      <td>0</td>\n",
       "      <td>0</td>\n",
       "      <td>0</td>\n",
       "      <td>0</td>\n",
       "      <td>0</td>\n",
       "      <td>0</td>\n",
       "    </tr>\n",
       "    <tr>\n",
       "      <th>2</th>\n",
       "      <td>1</td>\n",
       "      <td>Can anyone help me choose the best Arbor snow...</td>\n",
       "      <td>['can', 'anyone', 'help', 'me', 'choose', 'the...</td>\n",
       "      <td>anyone help choose best arbor mogul glade riding</td>\n",
       "      <td>can anyon help me choos the best arbor snowboa...</td>\n",
       "      <td>12</td>\n",
       "      <td>0</td>\n",
       "      <td>0</td>\n",
       "      <td>0</td>\n",
       "      <td>0</td>\n",
       "      <td>...</td>\n",
       "      <td>0</td>\n",
       "      <td>0</td>\n",
       "      <td>0</td>\n",
       "      <td>0</td>\n",
       "      <td>0</td>\n",
       "      <td>0</td>\n",
       "      <td>0</td>\n",
       "      <td>0</td>\n",
       "      <td>0</td>\n",
       "      <td>0</td>\n",
       "    </tr>\n",
       "    <tr>\n",
       "      <th>3</th>\n",
       "      <td>1</td>\n",
       "      <td>Landed my first Bs3 any tips to make it look ...</td>\n",
       "      <td>['landed', 'my', 'first', 'bs3', 'any', 'tips'...</td>\n",
       "      <td>landed first bs3 tips make look smoother</td>\n",
       "      <td>land my first bs3 ani tip to make it look smoo...</td>\n",
       "      <td>11</td>\n",
       "      <td>0</td>\n",
       "      <td>0</td>\n",
       "      <td>0</td>\n",
       "      <td>0</td>\n",
       "      <td>...</td>\n",
       "      <td>0</td>\n",
       "      <td>0</td>\n",
       "      <td>0</td>\n",
       "      <td>0</td>\n",
       "      <td>0</td>\n",
       "      <td>0</td>\n",
       "      <td>0</td>\n",
       "      <td>0</td>\n",
       "      <td>0</td>\n",
       "      <td>0</td>\n",
       "    </tr>\n",
       "    <tr>\n",
       "      <th>4</th>\n",
       "      <td>1</td>\n",
       "      <td>East coast resorts with community housing???</td>\n",
       "      <td>['east', 'coast', 'resorts', 'with', 'communit...</td>\n",
       "      <td>east coast resorts community housing</td>\n",
       "      <td>east coast resort with commun hous</td>\n",
       "      <td>6</td>\n",
       "      <td>0</td>\n",
       "      <td>0</td>\n",
       "      <td>0</td>\n",
       "      <td>0</td>\n",
       "      <td>...</td>\n",
       "      <td>0</td>\n",
       "      <td>0</td>\n",
       "      <td>0</td>\n",
       "      <td>0</td>\n",
       "      <td>0</td>\n",
       "      <td>0</td>\n",
       "      <td>0</td>\n",
       "      <td>0</td>\n",
       "      <td>0</td>\n",
       "      <td>0</td>\n",
       "    </tr>\n",
       "  </tbody>\n",
       "</table>\n",
       "<p>5 rows × 11491 columns</p>\n",
       "</div>"
      ],
      "text/plain": [
       "   subreddit                                               text  \\\n",
       "0          1                       Gear Advise: Freestyle 152 ?   \n",
       "1          1   Lamar ad with Cardiel’s 540 in a full on bliz...   \n",
       "2          1   Can anyone help me choose the best Arbor snow...   \n",
       "3          1   Landed my first Bs3 any tips to make it look ...   \n",
       "4          1       East coast resorts with community housing???   \n",
       "\n",
       "                                           tokenized  \\\n",
       "0             ['gear', 'advise', 'freestyle', '152']   \n",
       "1  ['lamar', 'ad', 'with', 'cardiel', 's', '540',...   \n",
       "2  ['can', 'anyone', 'help', 'me', 'choose', 'the...   \n",
       "3  ['landed', 'my', 'first', 'bs3', 'any', 'tips'...   \n",
       "4  ['east', 'coast', 'resorts', 'with', 'communit...   \n",
       "\n",
       "                                       no_stopwords  \\\n",
       "0                         gear advise freestyle 152   \n",
       "1                lamar ad cardiel 540 full blizzard   \n",
       "2  anyone help choose best arbor mogul glade riding   \n",
       "3          landed first bs3 tips make look smoother   \n",
       "4              east coast resorts community housing   \n",
       "\n",
       "                                             stemmed  length  00  000  000ft  \\\n",
       "0                            gear advis freestyl 152       5   0    0      0   \n",
       "1  lamar ad with cardiel s 540 in a full on blizzard      10   0    0      0   \n",
       "2  can anyon help me choos the best arbor snowboa...      12   0    0      0   \n",
       "3  land my first bs3 ani tip to make it look smoo...      11   0    0      0   \n",
       "4                 east coast resort with commun hous       6   0    0      0   \n",
       "\n",
       "   00am  ...  zrddnty0wtq  zugspitze  zujtu9  zurs  zwitserland  zx100  åre  \\\n",
       "0     0  ...            0          0       0     0            0      0    0   \n",
       "1     0  ...            0          0       0     0            0      0    0   \n",
       "2     0  ...            0          0       0     0            0      0    0   \n",
       "3     0  ...            0          0       0     0            0      0    0   \n",
       "4     0  ...            0          0       0     0            0      0    0   \n",
       "\n",
       "   åreskutan  êtes  ötztal  \n",
       "0          0     0       0  \n",
       "1          0     0       0  \n",
       "2          0     0       0  \n",
       "3          0     0       0  \n",
       "4          0     0       0  \n",
       "\n",
       "[5 rows x 11491 columns]"
      ]
     },
     "execution_count": 124,
     "metadata": {},
     "output_type": "execute_result"
    }
   ],
   "source": [
    "df_vect.head()"
   ]
  },
  {
   "cell_type": "code",
   "execution_count": 125,
   "id": "4f2d2994-6b19-4b53-8c2f-2e8d0cf14c5b",
   "metadata": {},
   "outputs": [],
   "source": [
    "X=df_vect.drop(columns=['subreddit', 'text', 'tokenized', 'no_stopwords','stemmed'])\n",
    "y=df_text['subreddit']"
   ]
  },
  {
   "cell_type": "code",
   "execution_count": 126,
   "id": "5634ceb4-0256-4616-9577-56ffb4115beb",
   "metadata": {},
   "outputs": [],
   "source": [
    "X_train, X_test, y_train, y_test = train_test_split(X,\n",
    "                                                    y,\n",
    "                                                    random_state=23)"
   ]
  },
  {
   "cell_type": "code",
   "execution_count": 127,
   "id": "135ceed6-15aa-4f81-916e-0d1bae0833e9",
   "metadata": {},
   "outputs": [
    {
     "data": {
      "text/plain": [
       "LogisticRegression(solver='liblinear')"
      ]
     },
     "execution_count": 127,
     "metadata": {},
     "output_type": "execute_result"
    }
   ],
   "source": [
    "\n",
    "logreg = LogisticRegression(solver='liblinear')\n",
    "logreg.fit(X_train,y_train)\n"
   ]
  },
  {
   "cell_type": "code",
   "execution_count": 128,
   "id": "27a6c960-aa58-48e3-96fa-ff64f9369f95",
   "metadata": {},
   "outputs": [
    {
     "data": {
      "text/plain": [
       "0.9373798407031035"
      ]
     },
     "execution_count": 128,
     "metadata": {},
     "output_type": "execute_result"
    }
   ],
   "source": [
    "logreg.score(X_train,y_train)\n"
   ]
  },
  {
   "cell_type": "code",
   "execution_count": 129,
   "id": "d43be00e-22fe-4f0d-99bc-5201b79a0a52",
   "metadata": {
    "tags": []
   },
   "outputs": [
    {
     "data": {
      "text/plain": [
       "0.7813014827018122"
      ]
     },
     "execution_count": 129,
     "metadata": {},
     "output_type": "execute_result"
    }
   ],
   "source": [
    "logreg.score(X_test,y_test)"
   ]
  },
  {
   "cell_type": "code",
   "execution_count": 130,
   "id": "fba8df51-04f2-439c-89d4-4fe17a11cd2c",
   "metadata": {},
   "outputs": [
    {
     "data": {
      "text/plain": [
       "<sklearn.metrics._plot.confusion_matrix.ConfusionMatrixDisplay at 0x7fda19cbcd90>"
      ]
     },
     "execution_count": 130,
     "metadata": {},
     "output_type": "execute_result"
    },
    {
     "data": {
      "image/png": "[encoded data removed]",
      "text/plain": [
       "<Figure size 640x480 with 2 Axes>"
      ]
     },
     "metadata": {},
     "output_type": "display_data"
    }
   ],
   "source": [
    "ConfusionMatrixDisplay.from_estimator(logreg, X_test, y_test, cmap=\"Blues\")"
   ]
  },
  {
   "cell_type": "code",
   "execution_count": 131,
   "id": "1918c0ae-3adb-4d56-9197-a6a424c7e25e",
   "metadata": {},
   "outputs": [],
   "source": [
    "preds = logreg.predict(X_test)\n",
    "\n",
    "tn, fp, fn, tp = confusion_matrix(y_test, preds).ravel()"
   ]
  },
  {
   "cell_type": "code",
   "execution_count": 132,
   "id": "7355e7c9-6eed-460b-a390-6082760a199c",
   "metadata": {},
   "outputs": [
    {
     "name": "stdout",
     "output_type": "stream",
     "text": [
      "Specificity: 0.7585917854149203\n",
      "Sensativity: 0.8032388663967611\n",
      "Accuracy: 0.7813014827018122\n",
      "Precision: 0.775\n"
     ]
    }
   ],
   "source": [
    "spec = tn / (tn + fp)\n",
    "\n",
    "sens = tp / (tp + fn)\n",
    "\n",
    "acc = (tp+tn) / (tp + tn+ fn+fp)\n",
    "\n",
    "prec = tp/ (tp+fp)\n",
    "\n",
    "print(f'Specificity: {spec}')\n",
    "\n",
    "print(f'Sensativity: {sens}')\n",
    "\n",
    "print(f'Accuracy: {acc}')\n",
    "\n",
    "print(f'Precision: {prec}')"
   ]
  },
  {
   "cell_type": "markdown",
   "id": "a4512485-de5a-4aa4-a766-7e6ff3b6da16",
   "metadata": {
    "jp-MarkdownHeadingCollapsed": true,
    "tags": []
   },
   "source": [
    "#  Logistic no Stopwords,include text length"
   ]
  },
  {
   "cell_type": "code",
   "execution_count": 133,
   "id": "dd081bd7-f75e-4a59-ade2-f91016202be8",
   "metadata": {},
   "outputs": [],
   "source": [
    "df_logregNS=df[df['no_stopwords'].notnull()]"
   ]
  },
  {
   "cell_type": "code",
   "execution_count": 134,
   "id": "524d9fc9-b1b4-41e9-8b55-9e36fb38ff06",
   "metadata": {},
   "outputs": [
    {
     "data": {
      "text/plain": [
       "subreddit       0\n",
       "text            0\n",
       "tokenized       0\n",
       "no_stopwords    0\n",
       "stemmed         0\n",
       "length          0\n",
       "dtype: int64"
      ]
     },
     "execution_count": 134,
     "metadata": {},
     "output_type": "execute_result"
    }
   ],
   "source": [
    "df_logregNS.isnull().sum()"
   ]
  },
  {
   "cell_type": "code",
   "execution_count": 135,
   "id": "f16e964b-892b-4151-88ec-31c2c6eaf399",
   "metadata": {},
   "outputs": [],
   "source": [
    "X=df_logregNS['no_stopwords']"
   ]
  },
  {
   "cell_type": "code",
   "execution_count": 136,
   "id": "cf2a4597-c3a7-4fce-b7f1-a21d68ccab2a",
   "metadata": {},
   "outputs": [],
   "source": [
    "cvec = CountVectorizer(stop_words= 'english')"
   ]
  },
  {
   "cell_type": "code",
   "execution_count": 137,
   "id": "36d44f45-f3cc-4467-9c25-c6d541655729",
   "metadata": {},
   "outputs": [
    {
     "data": {
      "text/plain": [
       "CountVectorizer(stop_words='english')"
      ]
     },
     "execution_count": 137,
     "metadata": {},
     "output_type": "execute_result"
    }
   ],
   "source": [
    "cvec.fit(X)"
   ]
  },
  {
   "cell_type": "code",
   "execution_count": 138,
   "id": "87336f3e-16b1-4e42-9b19-bddfeac46b5a",
   "metadata": {},
   "outputs": [],
   "source": [
    "X = cvec.transform(X)"
   ]
  },
  {
   "cell_type": "code",
   "execution_count": 139,
   "id": "888167f5-fdba-4dec-801a-0b5de78fde58",
   "metadata": {},
   "outputs": [
    {
     "data": {
      "text/plain": [
       "(9673, 11448)"
      ]
     },
     "execution_count": 139,
     "metadata": {},
     "output_type": "execute_result"
    }
   ],
   "source": [
    "X.shape"
   ]
  },
  {
   "cell_type": "code",
   "execution_count": 140,
   "id": "317fcca7-e837-4d48-b9c0-bdab25aead0d",
   "metadata": {},
   "outputs": [
    {
     "data": {
      "text/plain": [
       "matrix([[0, 0, 0, ..., 0, 0, 0],\n",
       "        [0, 0, 0, ..., 0, 0, 0],\n",
       "        [0, 0, 0, ..., 0, 0, 0],\n",
       "        ...,\n",
       "        [0, 0, 0, ..., 0, 0, 0],\n",
       "        [0, 0, 0, ..., 0, 0, 0],\n",
       "        [0, 0, 0, ..., 0, 0, 0]])"
      ]
     },
     "execution_count": 140,
     "metadata": {},
     "output_type": "execute_result"
    }
   ],
   "source": [
    "X.todense()"
   ]
  },
  {
   "cell_type": "code",
   "execution_count": 141,
   "id": "29bef26b-6499-433d-857d-004662d0f33a",
   "metadata": {},
   "outputs": [
    {
     "name": "stderr",
     "output_type": "stream",
     "text": [
      "/opt/anaconda3/lib/python3.9/site-packages/sklearn/utils/deprecation.py:87: FutureWarning: Function get_feature_names is deprecated; get_feature_names is deprecated in 1.0 and will be removed in 1.2. Please use get_feature_names_out instead.\n",
      "  warnings.warn(msg, category=FutureWarning)\n"
     ]
    }
   ],
   "source": [
    "X = pd.DataFrame(X.todense(), \n",
    "                          columns=cvec.get_feature_names())"
   ]
  },
  {
   "cell_type": "code",
   "execution_count": 142,
   "id": "d454bc50-2196-465a-9148-72e00baa7f1e",
   "metadata": {},
   "outputs": [
    {
     "data": {
      "text/html": [
       "<div>\n",
       "<style scoped>\n",
       "    .dataframe tbody tr th:only-of-type {\n",
       "        vertical-align: middle;\n",
       "    }\n",
       "\n",
       "    .dataframe tbody tr th {\n",
       "        vertical-align: top;\n",
       "    }\n",
       "\n",
       "    .dataframe thead th {\n",
       "        text-align: right;\n",
       "    }\n",
       "</style>\n",
       "<table border=\"1\" class=\"dataframe\">\n",
       "  <thead>\n",
       "    <tr style=\"text-align: right;\">\n",
       "      <th></th>\n",
       "      <th>00</th>\n",
       "      <th>000</th>\n",
       "      <th>000ft</th>\n",
       "      <th>00am</th>\n",
       "      <th>01</th>\n",
       "      <th>02</th>\n",
       "      <th>03</th>\n",
       "      <th>04</th>\n",
       "      <th>05</th>\n",
       "      <th>05ish</th>\n",
       "      <th>...</th>\n",
       "      <th>zrddnty0wtq</th>\n",
       "      <th>zugspitze</th>\n",
       "      <th>zujtu9</th>\n",
       "      <th>zurs</th>\n",
       "      <th>zwitserland</th>\n",
       "      <th>zx100</th>\n",
       "      <th>åre</th>\n",
       "      <th>åreskutan</th>\n",
       "      <th>êtes</th>\n",
       "      <th>ötztal</th>\n",
       "    </tr>\n",
       "  </thead>\n",
       "  <tbody>\n",
       "    <tr>\n",
       "      <th>0</th>\n",
       "      <td>0</td>\n",
       "      <td>0</td>\n",
       "      <td>0</td>\n",
       "      <td>0</td>\n",
       "      <td>0</td>\n",
       "      <td>0</td>\n",
       "      <td>0</td>\n",
       "      <td>0</td>\n",
       "      <td>0</td>\n",
       "      <td>0</td>\n",
       "      <td>...</td>\n",
       "      <td>0</td>\n",
       "      <td>0</td>\n",
       "      <td>0</td>\n",
       "      <td>0</td>\n",
       "      <td>0</td>\n",
       "      <td>0</td>\n",
       "      <td>0</td>\n",
       "      <td>0</td>\n",
       "      <td>0</td>\n",
       "      <td>0</td>\n",
       "    </tr>\n",
       "    <tr>\n",
       "      <th>1</th>\n",
       "      <td>0</td>\n",
       "      <td>0</td>\n",
       "      <td>0</td>\n",
       "      <td>0</td>\n",
       "      <td>0</td>\n",
       "      <td>0</td>\n",
       "      <td>0</td>\n",
       "      <td>0</td>\n",
       "      <td>0</td>\n",
       "      <td>0</td>\n",
       "      <td>...</td>\n",
       "      <td>0</td>\n",
       "      <td>0</td>\n",
       "      <td>0</td>\n",
       "      <td>0</td>\n",
       "      <td>0</td>\n",
       "      <td>0</td>\n",
       "      <td>0</td>\n",
       "      <td>0</td>\n",
       "      <td>0</td>\n",
       "      <td>0</td>\n",
       "    </tr>\n",
       "    <tr>\n",
       "      <th>2</th>\n",
       "      <td>0</td>\n",
       "      <td>0</td>\n",
       "      <td>0</td>\n",
       "      <td>0</td>\n",
       "      <td>0</td>\n",
       "      <td>0</td>\n",
       "      <td>0</td>\n",
       "      <td>0</td>\n",
       "      <td>0</td>\n",
       "      <td>0</td>\n",
       "      <td>...</td>\n",
       "      <td>0</td>\n",
       "      <td>0</td>\n",
       "      <td>0</td>\n",
       "      <td>0</td>\n",
       "      <td>0</td>\n",
       "      <td>0</td>\n",
       "      <td>0</td>\n",
       "      <td>0</td>\n",
       "      <td>0</td>\n",
       "      <td>0</td>\n",
       "    </tr>\n",
       "    <tr>\n",
       "      <th>3</th>\n",
       "      <td>0</td>\n",
       "      <td>0</td>\n",
       "      <td>0</td>\n",
       "      <td>0</td>\n",
       "      <td>0</td>\n",
       "      <td>0</td>\n",
       "      <td>0</td>\n",
       "      <td>0</td>\n",
       "      <td>0</td>\n",
       "      <td>0</td>\n",
       "      <td>...</td>\n",
       "      <td>0</td>\n",
       "      <td>0</td>\n",
       "      <td>0</td>\n",
       "      <td>0</td>\n",
       "      <td>0</td>\n",
       "      <td>0</td>\n",
       "      <td>0</td>\n",
       "      <td>0</td>\n",
       "      <td>0</td>\n",
       "      <td>0</td>\n",
       "    </tr>\n",
       "    <tr>\n",
       "      <th>4</th>\n",
       "      <td>0</td>\n",
       "      <td>0</td>\n",
       "      <td>0</td>\n",
       "      <td>0</td>\n",
       "      <td>0</td>\n",
       "      <td>0</td>\n",
       "      <td>0</td>\n",
       "      <td>0</td>\n",
       "      <td>0</td>\n",
       "      <td>0</td>\n",
       "      <td>...</td>\n",
       "      <td>0</td>\n",
       "      <td>0</td>\n",
       "      <td>0</td>\n",
       "      <td>0</td>\n",
       "      <td>0</td>\n",
       "      <td>0</td>\n",
       "      <td>0</td>\n",
       "      <td>0</td>\n",
       "      <td>0</td>\n",
       "      <td>0</td>\n",
       "    </tr>\n",
       "  </tbody>\n",
       "</table>\n",
       "<p>5 rows × 11448 columns</p>\n",
       "</div>"
      ],
      "text/plain": [
       "   00  000  000ft  00am  01  02  03  04  05  05ish  ...  zrddnty0wtq  \\\n",
       "0   0    0      0     0   0   0   0   0   0      0  ...            0   \n",
       "1   0    0      0     0   0   0   0   0   0      0  ...            0   \n",
       "2   0    0      0     0   0   0   0   0   0      0  ...            0   \n",
       "3   0    0      0     0   0   0   0   0   0      0  ...            0   \n",
       "4   0    0      0     0   0   0   0   0   0      0  ...            0   \n",
       "\n",
       "   zugspitze  zujtu9  zurs  zwitserland  zx100  åre  åreskutan  êtes  ötztal  \n",
       "0          0       0     0            0      0    0          0     0       0  \n",
       "1          0       0     0            0      0    0          0     0       0  \n",
       "2          0       0     0            0      0    0          0     0       0  \n",
       "3          0       0     0            0      0    0          0     0       0  \n",
       "4          0       0     0            0      0    0          0     0       0  \n",
       "\n",
       "[5 rows x 11448 columns]"
      ]
     },
     "execution_count": 142,
     "metadata": {},
     "output_type": "execute_result"
    }
   ],
   "source": [
    "X.head()"
   ]
  },
  {
   "cell_type": "code",
   "execution_count": 143,
   "id": "a883fbd8-691b-43fd-93aa-5f8c11796e27",
   "metadata": {},
   "outputs": [],
   "source": [
    "df_vect=pd.concat([df_logregNS,X], axis=1)\n"
   ]
  },
  {
   "cell_type": "code",
   "execution_count": 144,
   "id": "d4d6ab51-5245-47d5-86d8-6c00baeb06f3",
   "metadata": {},
   "outputs": [
    {
     "data": {
      "text/html": [
       "<div>\n",
       "<style scoped>\n",
       "    .dataframe tbody tr th:only-of-type {\n",
       "        vertical-align: middle;\n",
       "    }\n",
       "\n",
       "    .dataframe tbody tr th {\n",
       "        vertical-align: top;\n",
       "    }\n",
       "\n",
       "    .dataframe thead th {\n",
       "        text-align: right;\n",
       "    }\n",
       "</style>\n",
       "<table border=\"1\" class=\"dataframe\">\n",
       "  <thead>\n",
       "    <tr style=\"text-align: right;\">\n",
       "      <th></th>\n",
       "      <th>subreddit</th>\n",
       "      <th>text</th>\n",
       "      <th>tokenized</th>\n",
       "      <th>no_stopwords</th>\n",
       "      <th>stemmed</th>\n",
       "      <th>length</th>\n",
       "      <th>00</th>\n",
       "      <th>000</th>\n",
       "      <th>000ft</th>\n",
       "      <th>00am</th>\n",
       "      <th>...</th>\n",
       "      <th>zrddnty0wtq</th>\n",
       "      <th>zugspitze</th>\n",
       "      <th>zujtu9</th>\n",
       "      <th>zurs</th>\n",
       "      <th>zwitserland</th>\n",
       "      <th>zx100</th>\n",
       "      <th>åre</th>\n",
       "      <th>åreskutan</th>\n",
       "      <th>êtes</th>\n",
       "      <th>ötztal</th>\n",
       "    </tr>\n",
       "  </thead>\n",
       "  <tbody>\n",
       "    <tr>\n",
       "      <th>0</th>\n",
       "      <td>1.0</td>\n",
       "      <td>Gear Advise: Freestyle 152 ?</td>\n",
       "      <td>['gear', 'advise', 'freestyle', '152']</td>\n",
       "      <td>gear advise freestyle 152</td>\n",
       "      <td>gear advis freestyl 152</td>\n",
       "      <td>5.0</td>\n",
       "      <td>0.0</td>\n",
       "      <td>0.0</td>\n",
       "      <td>0.0</td>\n",
       "      <td>0.0</td>\n",
       "      <td>...</td>\n",
       "      <td>0.0</td>\n",
       "      <td>0.0</td>\n",
       "      <td>0.0</td>\n",
       "      <td>0.0</td>\n",
       "      <td>0.0</td>\n",
       "      <td>0.0</td>\n",
       "      <td>0.0</td>\n",
       "      <td>0.0</td>\n",
       "      <td>0.0</td>\n",
       "      <td>0.0</td>\n",
       "    </tr>\n",
       "    <tr>\n",
       "      <th>1</th>\n",
       "      <td>1.0</td>\n",
       "      <td>Lamar ad with Cardiel’s 540 in a full on bliz...</td>\n",
       "      <td>['lamar', 'ad', 'with', 'cardiel', 's', '540',...</td>\n",
       "      <td>lamar ad cardiel 540 full blizzard</td>\n",
       "      <td>lamar ad with cardiel s 540 in a full on blizzard</td>\n",
       "      <td>10.0</td>\n",
       "      <td>0.0</td>\n",
       "      <td>0.0</td>\n",
       "      <td>0.0</td>\n",
       "      <td>0.0</td>\n",
       "      <td>...</td>\n",
       "      <td>0.0</td>\n",
       "      <td>0.0</td>\n",
       "      <td>0.0</td>\n",
       "      <td>0.0</td>\n",
       "      <td>0.0</td>\n",
       "      <td>0.0</td>\n",
       "      <td>0.0</td>\n",
       "      <td>0.0</td>\n",
       "      <td>0.0</td>\n",
       "      <td>0.0</td>\n",
       "    </tr>\n",
       "    <tr>\n",
       "      <th>2</th>\n",
       "      <td>1.0</td>\n",
       "      <td>Can anyone help me choose the best Arbor snow...</td>\n",
       "      <td>['can', 'anyone', 'help', 'me', 'choose', 'the...</td>\n",
       "      <td>anyone help choose best arbor mogul glade riding</td>\n",
       "      <td>can anyon help me choos the best arbor snowboa...</td>\n",
       "      <td>12.0</td>\n",
       "      <td>0.0</td>\n",
       "      <td>0.0</td>\n",
       "      <td>0.0</td>\n",
       "      <td>0.0</td>\n",
       "      <td>...</td>\n",
       "      <td>0.0</td>\n",
       "      <td>0.0</td>\n",
       "      <td>0.0</td>\n",
       "      <td>0.0</td>\n",
       "      <td>0.0</td>\n",
       "      <td>0.0</td>\n",
       "      <td>0.0</td>\n",
       "      <td>0.0</td>\n",
       "      <td>0.0</td>\n",
       "      <td>0.0</td>\n",
       "    </tr>\n",
       "    <tr>\n",
       "      <th>3</th>\n",
       "      <td>1.0</td>\n",
       "      <td>Landed my first Bs3 any tips to make it look ...</td>\n",
       "      <td>['landed', 'my', 'first', 'bs3', 'any', 'tips'...</td>\n",
       "      <td>landed first bs3 tips make look smoother</td>\n",
       "      <td>land my first bs3 ani tip to make it look smoo...</td>\n",
       "      <td>11.0</td>\n",
       "      <td>0.0</td>\n",
       "      <td>0.0</td>\n",
       "      <td>0.0</td>\n",
       "      <td>0.0</td>\n",
       "      <td>...</td>\n",
       "      <td>0.0</td>\n",
       "      <td>0.0</td>\n",
       "      <td>0.0</td>\n",
       "      <td>0.0</td>\n",
       "      <td>0.0</td>\n",
       "      <td>0.0</td>\n",
       "      <td>0.0</td>\n",
       "      <td>0.0</td>\n",
       "      <td>0.0</td>\n",
       "      <td>0.0</td>\n",
       "    </tr>\n",
       "    <tr>\n",
       "      <th>4</th>\n",
       "      <td>1.0</td>\n",
       "      <td>East coast resorts with community housing???</td>\n",
       "      <td>['east', 'coast', 'resorts', 'with', 'communit...</td>\n",
       "      <td>east coast resorts community housing</td>\n",
       "      <td>east coast resort with commun hous</td>\n",
       "      <td>6.0</td>\n",
       "      <td>0.0</td>\n",
       "      <td>0.0</td>\n",
       "      <td>0.0</td>\n",
       "      <td>0.0</td>\n",
       "      <td>...</td>\n",
       "      <td>0.0</td>\n",
       "      <td>0.0</td>\n",
       "      <td>0.0</td>\n",
       "      <td>0.0</td>\n",
       "      <td>0.0</td>\n",
       "      <td>0.0</td>\n",
       "      <td>0.0</td>\n",
       "      <td>0.0</td>\n",
       "      <td>0.0</td>\n",
       "      <td>0.0</td>\n",
       "    </tr>\n",
       "  </tbody>\n",
       "</table>\n",
       "<p>5 rows × 11454 columns</p>\n",
       "</div>"
      ],
      "text/plain": [
       "   subreddit                                               text  \\\n",
       "0        1.0                       Gear Advise: Freestyle 152 ?   \n",
       "1        1.0   Lamar ad with Cardiel’s 540 in a full on bliz...   \n",
       "2        1.0   Can anyone help me choose the best Arbor snow...   \n",
       "3        1.0   Landed my first Bs3 any tips to make it look ...   \n",
       "4        1.0       East coast resorts with community housing???   \n",
       "\n",
       "                                           tokenized  \\\n",
       "0             ['gear', 'advise', 'freestyle', '152']   \n",
       "1  ['lamar', 'ad', 'with', 'cardiel', 's', '540',...   \n",
       "2  ['can', 'anyone', 'help', 'me', 'choose', 'the...   \n",
       "3  ['landed', 'my', 'first', 'bs3', 'any', 'tips'...   \n",
       "4  ['east', 'coast', 'resorts', 'with', 'communit...   \n",
       "\n",
       "                                       no_stopwords  \\\n",
       "0                         gear advise freestyle 152   \n",
       "1                lamar ad cardiel 540 full blizzard   \n",
       "2  anyone help choose best arbor mogul glade riding   \n",
       "3          landed first bs3 tips make look smoother   \n",
       "4              east coast resorts community housing   \n",
       "\n",
       "                                             stemmed  length   00  000  000ft  \\\n",
       "0                            gear advis freestyl 152     5.0  0.0  0.0    0.0   \n",
       "1  lamar ad with cardiel s 540 in a full on blizzard    10.0  0.0  0.0    0.0   \n",
       "2  can anyon help me choos the best arbor snowboa...    12.0  0.0  0.0    0.0   \n",
       "3  land my first bs3 ani tip to make it look smoo...    11.0  0.0  0.0    0.0   \n",
       "4                 east coast resort with commun hous     6.0  0.0  0.0    0.0   \n",
       "\n",
       "   00am  ...  zrddnty0wtq  zugspitze  zujtu9  zurs  zwitserland  zx100  åre  \\\n",
       "0   0.0  ...          0.0        0.0     0.0   0.0          0.0    0.0  0.0   \n",
       "1   0.0  ...          0.0        0.0     0.0   0.0          0.0    0.0  0.0   \n",
       "2   0.0  ...          0.0        0.0     0.0   0.0          0.0    0.0  0.0   \n",
       "3   0.0  ...          0.0        0.0     0.0   0.0          0.0    0.0  0.0   \n",
       "4   0.0  ...          0.0        0.0     0.0   0.0          0.0    0.0  0.0   \n",
       "\n",
       "   åreskutan  êtes  ötztal  \n",
       "0        0.0   0.0     0.0  \n",
       "1        0.0   0.0     0.0  \n",
       "2        0.0   0.0     0.0  \n",
       "3        0.0   0.0     0.0  \n",
       "4        0.0   0.0     0.0  \n",
       "\n",
       "[5 rows x 11454 columns]"
      ]
     },
     "execution_count": 144,
     "metadata": {},
     "output_type": "execute_result"
    }
   ],
   "source": [
    "df_vect.head()"
   ]
  },
  {
   "cell_type": "code",
   "execution_count": 145,
   "id": "42221825-9a13-43ae-9f61-a14193b3ce0c",
   "metadata": {},
   "outputs": [],
   "source": [
    "X=df_logregNS.drop(columns=['subreddit', 'text', 'tokenized', 'no_stopwords','stemmed'])\n",
    "y=df_logregNS['subreddit']"
   ]
  },
  {
   "cell_type": "code",
   "execution_count": 146,
   "id": "33a711e1-46cb-4b24-9f65-5ad2843a350d",
   "metadata": {},
   "outputs": [],
   "source": [
    "X_train, X_test, y_train, y_test = train_test_split(X,\n",
    "                                                    y,\n",
    "                                                    random_state=23)"
   ]
  },
  {
   "cell_type": "code",
   "execution_count": 147,
   "id": "69b241e0-984d-4c14-9a7d-400831167d7c",
   "metadata": {},
   "outputs": [
    {
     "data": {
      "text/plain": [
       "LogisticRegression()"
      ]
     },
     "execution_count": 147,
     "metadata": {},
     "output_type": "execute_result"
    }
   ],
   "source": [
    "\n",
    "logreg = LogisticRegression()\n",
    "logreg.fit(X_train,y_train)\n"
   ]
  },
  {
   "cell_type": "code",
   "execution_count": 148,
   "id": "e27f1676-650d-40b5-adce-81e1127f6e43",
   "metadata": {},
   "outputs": [
    {
     "data": {
      "text/plain": [
       "0.5603804797353185"
      ]
     },
     "execution_count": 148,
     "metadata": {},
     "output_type": "execute_result"
    }
   ],
   "source": [
    "logreg.score(X_train,y_train)\n"
   ]
  },
  {
   "cell_type": "code",
   "execution_count": 149,
   "id": "d165f2d7-3633-4b18-9bac-38f10b8fd687",
   "metadata": {
    "tags": []
   },
   "outputs": [
    {
     "data": {
      "text/plain": [
       "0.565936337329475"
      ]
     },
     "execution_count": 149,
     "metadata": {},
     "output_type": "execute_result"
    }
   ],
   "source": [
    "logreg.score(X_test,y_test)"
   ]
  },
  {
   "cell_type": "code",
   "execution_count": 150,
   "id": "3f05dda5-d167-40e1-ae16-34385427169e",
   "metadata": {},
   "outputs": [
    {
     "data": {
      "text/plain": [
       "<sklearn.metrics._plot.confusion_matrix.ConfusionMatrixDisplay at 0x7fda1a393a90>"
      ]
     },
     "execution_count": 150,
     "metadata": {},
     "output_type": "execute_result"
    },
    {
     "data": {
      "image/png": "[encoded data removed]",
      "text/plain": [
       "<Figure size 640x480 with 2 Axes>"
      ]
     },
     "metadata": {},
     "output_type": "display_data"
    }
   ],
   "source": [
    "ConfusionMatrixDisplay.from_estimator(logreg, X_test, y_test, cmap=\"Blues\")"
   ]
  },
  {
   "cell_type": "code",
   "execution_count": 151,
   "id": "9b9e4859-5750-4ef6-ab1e-73d0cbdbe62e",
   "metadata": {},
   "outputs": [],
   "source": [
    "preds = logreg.predict(X_test)\n",
    "\n",
    "tn, fp, fn, tp = confusion_matrix(y_test, preds).ravel()"
   ]
  },
  {
   "cell_type": "code",
   "execution_count": 152,
   "id": "6494f8ae-ae4e-4755-9424-a468525cf440",
   "metadata": {},
   "outputs": [
    {
     "name": "stdout",
     "output_type": "stream",
     "text": [
      "Specificity: 0.2910874897792314\n",
      "Sensativity: 0.846989966555184\n",
      "Accuracy: 0.565936337329475\n",
      "Precision: 0.5388297872340425\n"
     ]
    }
   ],
   "source": [
    "spec = tn / (tn + fp)\n",
    "\n",
    "sens = tp / (tp + fn)\n",
    "\n",
    "acc = (tp+tn) / (tp + tn+ fn+fp)\n",
    "\n",
    "prec = tp/ (tp+fp)\n",
    "\n",
    "print(f'Specificity: {spec}')\n",
    "\n",
    "print(f'Sensativity: {sens}')\n",
    "\n",
    "print(f'Accuracy: {acc}')\n",
    "\n",
    "print(f'Precision: {prec}')"
   ]
  }
 ],
 "metadata": {
  "kernelspec": {
   "display_name": "Python 3 (ipykernel)",
   "language": "python",
   "name": "python3"
  },
  "language_info": {
   "codemirror_mode": {
    "name": "ipython",
    "version": 3
   },
   "file_extension": ".py",
   "mimetype": "text/x-python",
   "name": "python",
   "nbconvert_exporter": "python",
   "pygments_lexer": "ipython3",
   "version": "3.9.13"
  }
 },
 "nbformat": 4,
 "nbformat_minor": 5
}
