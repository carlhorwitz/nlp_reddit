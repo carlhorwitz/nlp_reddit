{
 "cells": [
  {
   "cell_type": "code",
   "execution_count": 1,
   "id": "fca77628-4b8e-4e88-a341-f5f349af3011",
   "metadata": {},
   "outputs": [],
   "source": [
    "#imports\n",
    "\n",
    "import requests\n",
    "import pandas as pd\n",
    "\n",
    "from sklearn.model_selection import train_test_split, GridSearchCV, cross_val_score\n",
    "\n",
    "from sklearn.pipeline import Pipeline\n",
    "\n",
    "from sklearn.feature_extraction.text import CountVectorizer\n",
    "from sklearn.ensemble import RandomForestClassifier\n",
    "\n",
    "\n",
    "from sklearn.metrics import confusion_matrix, plot_confusion_matrix, ConfusionMatrixDisplay\n",
    "\n",
    "from sklearn.feature_extraction.text import CountVectorizer, TfidfVectorizer\n",
    "\n",
    "from sklearn.naive_bayes import MultinomialNB\n",
    "\n"
   ]
  },
  {
   "cell_type": "code",
   "execution_count": 2,
   "id": "4da2c270-6680-46fa-bac0-fb2a86a7e88b",
   "metadata": {
    "tags": []
   },
   "outputs": [
    {
     "data": {
      "text/html": [
       "<div>\n",
       "<style scoped>\n",
       "    .dataframe tbody tr th:only-of-type {\n",
       "        vertical-align: middle;\n",
       "    }\n",
       "\n",
       "    .dataframe tbody tr th {\n",
       "        vertical-align: top;\n",
       "    }\n",
       "\n",
       "    .dataframe thead th {\n",
       "        text-align: right;\n",
       "    }\n",
       "</style>\n",
       "<table border=\"1\" class=\"dataframe\">\n",
       "  <thead>\n",
       "    <tr style=\"text-align: right;\">\n",
       "      <th></th>\n",
       "      <th>Unnamed: 0</th>\n",
       "      <th>subreddit</th>\n",
       "      <th>text</th>\n",
       "      <th>tokenized</th>\n",
       "      <th>no_stopwords</th>\n",
       "      <th>stemmed</th>\n",
       "      <th>length</th>\n",
       "    </tr>\n",
       "  </thead>\n",
       "  <tbody>\n",
       "    <tr>\n",
       "      <th>0</th>\n",
       "      <td>0</td>\n",
       "      <td>1</td>\n",
       "      <td>Simple slow run. :)</td>\n",
       "      <td>['simple', 'slow', 'run']</td>\n",
       "      <td>simple slow run</td>\n",
       "      <td>simpl slow run</td>\n",
       "      <td>4</td>\n",
       "    </tr>\n",
       "    <tr>\n",
       "      <th>1</th>\n",
       "      <td>1</td>\n",
       "      <td>1</td>\n",
       "      <td>Made a mini snowboard on my 3d printer</td>\n",
       "      <td>['made', 'a', 'mini', 'snowboard', 'on', 'my',...</td>\n",
       "      <td>made mini 3d printer</td>\n",
       "      <td>made a mini snowboard on my 3d printer</td>\n",
       "      <td>8</td>\n",
       "    </tr>\n",
       "    <tr>\n",
       "      <th>2</th>\n",
       "      <td>2</td>\n",
       "      <td>1</td>\n",
       "      <td>Advise for a Snowboard to Buy</td>\n",
       "      <td>['advise', 'for', 'a', 'snowboard', 'to', 'buy']</td>\n",
       "      <td>advise buy</td>\n",
       "      <td>advis for a snowboard to buy</td>\n",
       "      <td>6</td>\n",
       "    </tr>\n",
       "    <tr>\n",
       "      <th>3</th>\n",
       "      <td>3</td>\n",
       "      <td>1</td>\n",
       "      <td>Here are the brackets for NST at Revelstoke. ...</td>\n",
       "      <td>['here', 'are', 'the', 'brackets', 'for', 'nst...</td>\n",
       "      <td>brackets nst revelstoke think matchups</td>\n",
       "      <td>here are the bracket for nst at revelstok what...</td>\n",
       "      <td>15</td>\n",
       "    </tr>\n",
       "    <tr>\n",
       "      <th>4</th>\n",
       "      <td>4</td>\n",
       "      <td>1</td>\n",
       "      <td>How to fall on boxes and rails?</td>\n",
       "      <td>['how', 'to', 'fall', 'on', 'boxes', 'and', 'r...</td>\n",
       "      <td>fall boxes rails</td>\n",
       "      <td>how to fall on box and rail</td>\n",
       "      <td>7</td>\n",
       "    </tr>\n",
       "  </tbody>\n",
       "</table>\n",
       "</div>"
      ],
      "text/plain": [
       "   Unnamed: 0  subreddit                                               text  \\\n",
       "0           0          1                                Simple slow run. :)   \n",
       "1           1          1             Made a mini snowboard on my 3d printer   \n",
       "2           2          1                      Advise for a Snowboard to Buy   \n",
       "3           3          1   Here are the brackets for NST at Revelstoke. ...   \n",
       "4           4          1                    How to fall on boxes and rails?   \n",
       "\n",
       "                                           tokenized  \\\n",
       "0                          ['simple', 'slow', 'run']   \n",
       "1  ['made', 'a', 'mini', 'snowboard', 'on', 'my',...   \n",
       "2   ['advise', 'for', 'a', 'snowboard', 'to', 'buy']   \n",
       "3  ['here', 'are', 'the', 'brackets', 'for', 'nst...   \n",
       "4  ['how', 'to', 'fall', 'on', 'boxes', 'and', 'r...   \n",
       "\n",
       "                             no_stopwords  \\\n",
       "0                         simple slow run   \n",
       "1                    made mini 3d printer   \n",
       "2                              advise buy   \n",
       "3  brackets nst revelstoke think matchups   \n",
       "4                        fall boxes rails   \n",
       "\n",
       "                                             stemmed  length  \n",
       "0                                     simpl slow run       4  \n",
       "1             made a mini snowboard on my 3d printer       8  \n",
       "2                       advis for a snowboard to buy       6  \n",
       "3  here are the bracket for nst at revelstok what...      15  \n",
       "4                        how to fall on box and rail       7  "
      ]
     },
     "execution_count": 2,
     "metadata": {},
     "output_type": "execute_result"
    }
   ],
   "source": [
    "df=pd.read_csv('../data/stemmed.csv')\n",
    "df.head()"
   ]
  },
  {
   "cell_type": "code",
   "execution_count": 3,
   "id": "cfd523c3-e03f-4754-a7e6-bdea75ef9c7b",
   "metadata": {},
   "outputs": [
    {
     "data": {
      "text/plain": [
       "(9708, 7)"
      ]
     },
     "execution_count": 3,
     "metadata": {},
     "output_type": "execute_result"
    }
   ],
   "source": [
    "df.shape"
   ]
  },
  {
   "cell_type": "code",
   "execution_count": 4,
   "id": "47c3aa66-5b1e-41b8-9287-84356bf2ed4b",
   "metadata": {},
   "outputs": [
    {
     "data": {
      "text/html": [
       "<div>\n",
       "<style scoped>\n",
       "    .dataframe tbody tr th:only-of-type {\n",
       "        vertical-align: middle;\n",
       "    }\n",
       "\n",
       "    .dataframe tbody tr th {\n",
       "        vertical-align: top;\n",
       "    }\n",
       "\n",
       "    .dataframe thead th {\n",
       "        text-align: right;\n",
       "    }\n",
       "</style>\n",
       "<table border=\"1\" class=\"dataframe\">\n",
       "  <thead>\n",
       "    <tr style=\"text-align: right;\">\n",
       "      <th></th>\n",
       "      <th>subreddit</th>\n",
       "      <th>text</th>\n",
       "      <th>tokenized</th>\n",
       "      <th>no_stopwords</th>\n",
       "      <th>stemmed</th>\n",
       "      <th>length</th>\n",
       "    </tr>\n",
       "  </thead>\n",
       "  <tbody>\n",
       "    <tr>\n",
       "      <th>0</th>\n",
       "      <td>1</td>\n",
       "      <td>Simple slow run. :)</td>\n",
       "      <td>['simple', 'slow', 'run']</td>\n",
       "      <td>simple slow run</td>\n",
       "      <td>simpl slow run</td>\n",
       "      <td>4</td>\n",
       "    </tr>\n",
       "    <tr>\n",
       "      <th>1</th>\n",
       "      <td>1</td>\n",
       "      <td>Made a mini snowboard on my 3d printer</td>\n",
       "      <td>['made', 'a', 'mini', 'snowboard', 'on', 'my',...</td>\n",
       "      <td>made mini 3d printer</td>\n",
       "      <td>made a mini snowboard on my 3d printer</td>\n",
       "      <td>8</td>\n",
       "    </tr>\n",
       "    <tr>\n",
       "      <th>2</th>\n",
       "      <td>1</td>\n",
       "      <td>Advise for a Snowboard to Buy</td>\n",
       "      <td>['advise', 'for', 'a', 'snowboard', 'to', 'buy']</td>\n",
       "      <td>advise buy</td>\n",
       "      <td>advis for a snowboard to buy</td>\n",
       "      <td>6</td>\n",
       "    </tr>\n",
       "    <tr>\n",
       "      <th>3</th>\n",
       "      <td>1</td>\n",
       "      <td>Here are the brackets for NST at Revelstoke. ...</td>\n",
       "      <td>['here', 'are', 'the', 'brackets', 'for', 'nst...</td>\n",
       "      <td>brackets nst revelstoke think matchups</td>\n",
       "      <td>here are the bracket for nst at revelstok what...</td>\n",
       "      <td>15</td>\n",
       "    </tr>\n",
       "    <tr>\n",
       "      <th>4</th>\n",
       "      <td>1</td>\n",
       "      <td>How to fall on boxes and rails?</td>\n",
       "      <td>['how', 'to', 'fall', 'on', 'boxes', 'and', 'r...</td>\n",
       "      <td>fall boxes rails</td>\n",
       "      <td>how to fall on box and rail</td>\n",
       "      <td>7</td>\n",
       "    </tr>\n",
       "  </tbody>\n",
       "</table>\n",
       "</div>"
      ],
      "text/plain": [
       "   subreddit                                               text  \\\n",
       "0          1                                Simple slow run. :)   \n",
       "1          1             Made a mini snowboard on my 3d printer   \n",
       "2          1                      Advise for a Snowboard to Buy   \n",
       "3          1   Here are the brackets for NST at Revelstoke. ...   \n",
       "4          1                    How to fall on boxes and rails?   \n",
       "\n",
       "                                           tokenized  \\\n",
       "0                          ['simple', 'slow', 'run']   \n",
       "1  ['made', 'a', 'mini', 'snowboard', 'on', 'my',...   \n",
       "2   ['advise', 'for', 'a', 'snowboard', 'to', 'buy']   \n",
       "3  ['here', 'are', 'the', 'brackets', 'for', 'nst...   \n",
       "4  ['how', 'to', 'fall', 'on', 'boxes', 'and', 'r...   \n",
       "\n",
       "                             no_stopwords  \\\n",
       "0                         simple slow run   \n",
       "1                    made mini 3d printer   \n",
       "2                              advise buy   \n",
       "3  brackets nst revelstoke think matchups   \n",
       "4                        fall boxes rails   \n",
       "\n",
       "                                             stemmed  length  \n",
       "0                                     simpl slow run       4  \n",
       "1             made a mini snowboard on my 3d printer       8  \n",
       "2                       advis for a snowboard to buy       6  \n",
       "3  here are the bracket for nst at revelstok what...      15  \n",
       "4                        how to fall on box and rail       7  "
      ]
     },
     "execution_count": 4,
     "metadata": {},
     "output_type": "execute_result"
    }
   ],
   "source": [
    "df=df.drop(columns='Unnamed: 0')\n",
    "df.head()"
   ]
  },
  {
   "cell_type": "markdown",
   "id": "002797e5-a3b6-4af6-a0cb-4e3b2d9e6026",
   "metadata": {
    "tags": []
   },
   "source": [
    "# Random Forest"
   ]
  },
  {
   "cell_type": "code",
   "execution_count": 5,
   "id": "2bc66bd1-235f-4779-89f0-1bb2431b7f88",
   "metadata": {},
   "outputs": [],
   "source": [
    "df2=df[df['no_stopwords'].notnull()]\n"
   ]
  },
  {
   "cell_type": "code",
   "execution_count": 6,
   "id": "4e38651e-c7c4-439b-a33e-0d0953b3a160",
   "metadata": {},
   "outputs": [
    {
     "data": {
      "text/plain": [
       "(9671, 6)"
      ]
     },
     "execution_count": 6,
     "metadata": {},
     "output_type": "execute_result"
    }
   ],
   "source": [
    "df2.shape"
   ]
  },
  {
   "cell_type": "code",
   "execution_count": 7,
   "id": "82e2f7c2-da56-44bb-87e9-5d0143181582",
   "metadata": {},
   "outputs": [],
   "source": [
    "X=df2['no_stopwords']\n",
    "y=df2['subreddit']"
   ]
  },
  {
   "cell_type": "code",
   "execution_count": 8,
   "id": "55456a37-8084-446c-9405-c4be759cfd62",
   "metadata": {},
   "outputs": [],
   "source": [
    "X_train, X_test, y_train, y_test = train_test_split (X, y, random_state=23, stratify=y)"
   ]
  },
  {
   "cell_type": "code",
   "execution_count": 9,
   "id": "cfab1084-7361-480f-9942-d894479b88e7",
   "metadata": {},
   "outputs": [],
   "source": [
    "pipe=Pipeline([\n",
    "    ('cvec', CountVectorizer()),\n",
    "    ('rf', RandomForestClassifier())\n",
    "])"
   ]
  },
  {
   "cell_type": "code",
   "execution_count": 10,
   "id": "d508452f-4789-4b1e-913e-c50ef4b6c14b",
   "metadata": {},
   "outputs": [
    {
     "data": {
      "text/plain": [
       "{'memory': None,\n",
       " 'steps': [('cvec', CountVectorizer()), ('rf', RandomForestClassifier())],\n",
       " 'verbose': False,\n",
       " 'cvec': CountVectorizer(),\n",
       " 'rf': RandomForestClassifier(),\n",
       " 'cvec__analyzer': 'word',\n",
       " 'cvec__binary': False,\n",
       " 'cvec__decode_error': 'strict',\n",
       " 'cvec__dtype': numpy.int64,\n",
       " 'cvec__encoding': 'utf-8',\n",
       " 'cvec__input': 'content',\n",
       " 'cvec__lowercase': True,\n",
       " 'cvec__max_df': 1.0,\n",
       " 'cvec__max_features': None,\n",
       " 'cvec__min_df': 1,\n",
       " 'cvec__ngram_range': (1, 1),\n",
       " 'cvec__preprocessor': None,\n",
       " 'cvec__stop_words': None,\n",
       " 'cvec__strip_accents': None,\n",
       " 'cvec__token_pattern': '(?u)\\\\b\\\\w\\\\w+\\\\b',\n",
       " 'cvec__tokenizer': None,\n",
       " 'cvec__vocabulary': None,\n",
       " 'rf__bootstrap': True,\n",
       " 'rf__ccp_alpha': 0.0,\n",
       " 'rf__class_weight': None,\n",
       " 'rf__criterion': 'gini',\n",
       " 'rf__max_depth': None,\n",
       " 'rf__max_features': 'auto',\n",
       " 'rf__max_leaf_nodes': None,\n",
       " 'rf__max_samples': None,\n",
       " 'rf__min_impurity_decrease': 0.0,\n",
       " 'rf__min_samples_leaf': 1,\n",
       " 'rf__min_samples_split': 2,\n",
       " 'rf__min_weight_fraction_leaf': 0.0,\n",
       " 'rf__n_estimators': 100,\n",
       " 'rf__n_jobs': None,\n",
       " 'rf__oob_score': False,\n",
       " 'rf__random_state': None,\n",
       " 'rf__verbose': 0,\n",
       " 'rf__warm_start': False}"
      ]
     },
     "execution_count": 10,
     "metadata": {},
     "output_type": "execute_result"
    }
   ],
   "source": [
    "pipe.get_params()"
   ]
  },
  {
   "cell_type": "code",
   "execution_count": 11,
   "id": "1d88f273-17d6-4759-9a0b-818bd9de35e3",
   "metadata": {},
   "outputs": [],
   "source": [
    "pipe_params = {\n",
    "     'cvec__max_features': [3_000,  5_000],\n",
    "    'cvec__min_df': [2, 3],\n",
    "    'cvec__max_df': [.8, .9],\n",
    "    'cvec__ngram_range': [(1, 1), (1, 2)],\n",
    "    'rf__n_estimators':[100, 200],\n",
    "    'rf__max_depth': [5, 10, 15]\n",
    "}"
   ]
  },
  {
   "cell_type": "code",
   "execution_count": 12,
   "id": "a9506427-d874-4c11-a02f-71b19d578542",
   "metadata": {},
   "outputs": [],
   "source": [
    "gs = GridSearchCV(pipe, \n",
    "                  param_grid = pipe_params, \n",
    "                  cv = 5) "
   ]
  },
  {
   "cell_type": "code",
   "execution_count": 13,
   "id": "f7400e73-b225-4284-841b-56ee88165b58",
   "metadata": {},
   "outputs": [
    {
     "data": {
      "text/plain": [
       "GridSearchCV(cv=5,\n",
       "             estimator=Pipeline(steps=[('cvec', CountVectorizer()),\n",
       "                                       ('rf', RandomForestClassifier())]),\n",
       "             param_grid={'cvec__max_df': [0.8, 0.9],\n",
       "                         'cvec__max_features': [3000, 5000],\n",
       "                         'cvec__min_df': [2, 3],\n",
       "                         'cvec__ngram_range': [(1, 1), (1, 2)],\n",
       "                         'rf__max_depth': [5, 10, 15],\n",
       "                         'rf__n_estimators': [100, 200]})"
      ]
     },
     "execution_count": 13,
     "metadata": {},
     "output_type": "execute_result"
    }
   ],
   "source": [
    "gs.fit(X_train, y_train)"
   ]
  },
  {
   "cell_type": "code",
   "execution_count": 14,
   "id": "72c3fd06-a50e-442b-a282-0252b88f0312",
   "metadata": {},
   "outputs": [
    {
     "data": {
      "text/plain": [
       "{'cvec__max_df': 0.9,\n",
       " 'cvec__max_features': 5000,\n",
       " 'cvec__min_df': 3,\n",
       " 'cvec__ngram_range': (1, 1),\n",
       " 'rf__max_depth': 15,\n",
       " 'rf__n_estimators': 200}"
      ]
     },
     "execution_count": 14,
     "metadata": {},
     "output_type": "execute_result"
    }
   ],
   "source": [
    "gs.best_params_ "
   ]
  },
  {
   "cell_type": "code",
   "execution_count": 15,
   "id": "3e246e25-bbb6-4719-a26d-bdda11ab7543",
   "metadata": {},
   "outputs": [
    {
     "data": {
      "text/plain": [
       "0.7019164483661933"
      ]
     },
     "execution_count": 15,
     "metadata": {},
     "output_type": "execute_result"
    }
   ],
   "source": [
    "gs.score(X_train, y_train)"
   ]
  },
  {
   "cell_type": "code",
   "execution_count": 16,
   "id": "23cf1038-321b-49bc-8259-05c80cd6bdb6",
   "metadata": {
    "tags": []
   },
   "outputs": [],
   "source": [
    "pipe_params = {\n",
    "     'cvec__max_features': [5_000,  7_000],\n",
    "    'cvec__min_df': [3, 4],\n",
    "    'cvec__max_df': [.7, .8],\n",
    "    'cvec__ngram_range': [(1, 2)],\n",
    "    'rf__n_estimators':[50, 100],\n",
    "    'rf__max_depth': [15, 20, 25]\n",
    "}"
   ]
  },
  {
   "cell_type": "code",
   "execution_count": 17,
   "id": "9fc519a2-baa9-405d-bf8f-d3bdacd15cb6",
   "metadata": {},
   "outputs": [],
   "source": [
    "gs = GridSearchCV(pipe, \n",
    "                  param_grid = pipe_params, \n",
    "                  cv = 5) "
   ]
  },
  {
   "cell_type": "code",
   "execution_count": 18,
   "id": "3b5cf19e-ae59-4ef1-a8eb-e298c34deae0",
   "metadata": {},
   "outputs": [
    {
     "data": {
      "text/plain": [
       "GridSearchCV(cv=5,\n",
       "             estimator=Pipeline(steps=[('cvec', CountVectorizer()),\n",
       "                                       ('rf', RandomForestClassifier())]),\n",
       "             param_grid={'cvec__max_df': [0.7, 0.8],\n",
       "                         'cvec__max_features': [5000, 7000],\n",
       "                         'cvec__min_df': [3, 4], 'cvec__ngram_range': [(1, 2)],\n",
       "                         'rf__max_depth': [15, 20, 25],\n",
       "                         'rf__n_estimators': [50, 100]})"
      ]
     },
     "execution_count": 18,
     "metadata": {},
     "output_type": "execute_result"
    }
   ],
   "source": [
    "gs.fit(X_train, y_train)"
   ]
  },
  {
   "cell_type": "code",
   "execution_count": 19,
   "id": "bce282a6-0435-4621-97f5-4c13ad873242",
   "metadata": {},
   "outputs": [
    {
     "data": {
      "text/plain": [
       "{'cvec__max_df': 0.8,\n",
       " 'cvec__max_features': 5000,\n",
       " 'cvec__min_df': 3,\n",
       " 'cvec__ngram_range': (1, 2),\n",
       " 'rf__max_depth': 20,\n",
       " 'rf__n_estimators': 100}"
      ]
     },
     "execution_count": 19,
     "metadata": {},
     "output_type": "execute_result"
    }
   ],
   "source": [
    "gs.best_params_"
   ]
  },
  {
   "cell_type": "code",
   "execution_count": 20,
   "id": "2ef2a20b-5046-4619-98f2-12b2f18bb043",
   "metadata": {},
   "outputs": [
    {
     "data": {
      "text/plain": [
       "0.7179098304150007"
      ]
     },
     "execution_count": 20,
     "metadata": {},
     "output_type": "execute_result"
    }
   ],
   "source": [
    "gs.score(X_train, y_train)"
   ]
  },
  {
   "cell_type": "code",
   "execution_count": 21,
   "id": "b84f056d-5f54-4d3b-9e8e-77e16c824466",
   "metadata": {},
   "outputs": [
    {
     "data": {
      "text/plain": [
       "0.6331679073614558"
      ]
     },
     "execution_count": 21,
     "metadata": {},
     "output_type": "execute_result"
    }
   ],
   "source": [
    "gs.score(X_test, y_test)"
   ]
  },
  {
   "cell_type": "code",
   "execution_count": 22,
   "id": "97b93371-ee74-44ee-8b18-e02a6e7ec834",
   "metadata": {},
   "outputs": [
    {
     "data": {
      "text/plain": [
       "<sklearn.metrics._plot.confusion_matrix.ConfusionMatrixDisplay at 0x7fa1ba6a5370>"
      ]
     },
     "execution_count": 22,
     "metadata": {},
     "output_type": "execute_result"
    },
    {
     "data": {
      "image/png": "[encoded data removed]",
      "text/plain": [
       "<Figure size 640x480 with 2 Axes>"
      ]
     },
     "metadata": {},
     "output_type": "display_data"
    }
   ],
   "source": [
    "ConfusionMatrixDisplay.from_estimator(gs, X_test, y_test, cmap=\"Blues\")"
   ]
  },
  {
   "cell_type": "code",
   "execution_count": 23,
   "id": "cd718049-1b72-481d-9ee9-f4ac72abfe8f",
   "metadata": {},
   "outputs": [],
   "source": [
    "preds = gs.predict(X_test)"
   ]
  },
  {
   "cell_type": "code",
   "execution_count": 24,
   "id": "16d1f131-defa-4f23-b58b-70897b1b09b3",
   "metadata": {
    "tags": []
   },
   "outputs": [],
   "source": [
    "tn, fp, fn, tp = confusion_matrix(y_test, preds).ravel()"
   ]
  },
  {
   "cell_type": "code",
   "execution_count": 25,
   "id": "b729e038-97f6-4cee-be52-cfef74da5d29",
   "metadata": {},
   "outputs": [
    {
     "name": "stdout",
     "output_type": "stream",
     "text": [
      "Specificity: 0.43424317617866004\n",
      "Sensativity: 0.8320926385442514\n",
      "Accuracy: 0.6331679073614558\n",
      "Precision: 0.5952662721893491\n"
     ]
    }
   ],
   "source": [
    "spec = tn / (tn + fp)\n",
    "\n",
    "sens = tp / (tp + fn)\n",
    "\n",
    "acc = (tp+tn) / (tp + tn+ fn+fp)\n",
    "\n",
    "prec = tp/ (tp+fp)\n",
    "\n",
    "print(f'Specificity: {spec}')\n",
    "\n",
    "print(f'Sensativity: {sens}')\n",
    "\n",
    "print(f'Accuracy: {acc}')\n",
    "\n",
    "print(f'Precision: {prec}')"
   ]
  }
 ],
 "metadata": {
  "kernelspec": {
   "display_name": "Python 3 (ipykernel)",
   "language": "python",
   "name": "python3"
  },
  "language_info": {
   "codemirror_mode": {
    "name": "ipython",
    "version": 3
   },
   "file_extension": ".py",
   "mimetype": "text/x-python",
   "name": "python",
   "nbconvert_exporter": "python",
   "pygments_lexer": "ipython3",
   "version": "3.9.13"
  }
 },
 "nbformat": 4,
 "nbformat_minor": 5
}
